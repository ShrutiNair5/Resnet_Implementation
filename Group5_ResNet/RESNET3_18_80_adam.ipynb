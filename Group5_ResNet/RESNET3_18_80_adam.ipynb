{
  "nbformat": 4,
  "nbformat_minor": 0,
  "metadata": {
    "colab": {
      "name": "3_RESNET_18_80_adam.ipynb",
      "provenance": [],
      "collapsed_sections": []
    },
    "kernelspec": {
      "name": "python3",
      "display_name": "Python 3"
    },
    "accelerator": "GPU",
    "widgets": {
      "application/vnd.jupyter.widget-state+json": {
        "86bc6f3c292d4c8f95fa5d7b7cb5a590": {
          "model_module": "@jupyter-widgets/controls",
          "model_name": "HBoxModel",
          "state": {
            "_view_name": "HBoxView",
            "_dom_classes": [],
            "_model_name": "HBoxModel",
            "_view_module": "@jupyter-widgets/controls",
            "_model_module_version": "1.5.0",
            "_view_count": null,
            "_view_module_version": "1.5.0",
            "box_style": "",
            "layout": "IPY_MODEL_c9d2e92314dc43ab8fd2dafc4e272a29",
            "_model_module": "@jupyter-widgets/controls",
            "children": [
              "IPY_MODEL_707586db5a7a46ed8e666d9ac2297a81",
              "IPY_MODEL_2e70da3fe2ee4b59bb2eb0d1ed445b7f"
            ]
          }
        },
        "c9d2e92314dc43ab8fd2dafc4e272a29": {
          "model_module": "@jupyter-widgets/base",
          "model_name": "LayoutModel",
          "state": {
            "_view_name": "LayoutView",
            "grid_template_rows": null,
            "right": null,
            "justify_content": null,
            "_view_module": "@jupyter-widgets/base",
            "overflow": null,
            "_model_module_version": "1.2.0",
            "_view_count": null,
            "flex_flow": null,
            "width": null,
            "min_width": null,
            "border": null,
            "align_items": null,
            "bottom": null,
            "_model_module": "@jupyter-widgets/base",
            "top": null,
            "grid_column": null,
            "overflow_y": null,
            "overflow_x": null,
            "grid_auto_flow": null,
            "grid_area": null,
            "grid_template_columns": null,
            "flex": null,
            "_model_name": "LayoutModel",
            "justify_items": null,
            "grid_row": null,
            "max_height": null,
            "align_content": null,
            "visibility": null,
            "align_self": null,
            "height": null,
            "min_height": null,
            "padding": null,
            "grid_auto_rows": null,
            "grid_gap": null,
            "max_width": null,
            "order": null,
            "_view_module_version": "1.2.0",
            "grid_template_areas": null,
            "object_position": null,
            "object_fit": null,
            "grid_auto_columns": null,
            "margin": null,
            "display": null,
            "left": null
          }
        },
        "707586db5a7a46ed8e666d9ac2297a81": {
          "model_module": "@jupyter-widgets/controls",
          "model_name": "FloatProgressModel",
          "state": {
            "_view_name": "ProgressView",
            "style": "IPY_MODEL_6880c64dec684e32acfbd7672c766f8b",
            "_dom_classes": [],
            "description": "",
            "_model_name": "FloatProgressModel",
            "bar_style": "success",
            "max": 1,
            "_view_module": "@jupyter-widgets/controls",
            "_model_module_version": "1.5.0",
            "value": 1,
            "_view_count": null,
            "_view_module_version": "1.5.0",
            "orientation": "horizontal",
            "min": 0,
            "description_tooltip": null,
            "_model_module": "@jupyter-widgets/controls",
            "layout": "IPY_MODEL_783b1c0b1a74454294844b5671fb7ee7"
          }
        },
        "2e70da3fe2ee4b59bb2eb0d1ed445b7f": {
          "model_module": "@jupyter-widgets/controls",
          "model_name": "HTMLModel",
          "state": {
            "_view_name": "HTMLView",
            "style": "IPY_MODEL_f18f5da71c07419397a1d305d89a74b8",
            "_dom_classes": [],
            "description": "",
            "_model_name": "HTMLModel",
            "placeholder": "​",
            "_view_module": "@jupyter-widgets/controls",
            "_model_module_version": "1.5.0",
            "value": " 170500096/? [00:05&lt;00:00, 30322178.51it/s]",
            "_view_count": null,
            "_view_module_version": "1.5.0",
            "description_tooltip": null,
            "_model_module": "@jupyter-widgets/controls",
            "layout": "IPY_MODEL_3b508b4195e943b08b9127fe84ef3f4b"
          }
        },
        "6880c64dec684e32acfbd7672c766f8b": {
          "model_module": "@jupyter-widgets/controls",
          "model_name": "ProgressStyleModel",
          "state": {
            "_view_name": "StyleView",
            "_model_name": "ProgressStyleModel",
            "description_width": "initial",
            "_view_module": "@jupyter-widgets/base",
            "_model_module_version": "1.5.0",
            "_view_count": null,
            "_view_module_version": "1.2.0",
            "bar_color": null,
            "_model_module": "@jupyter-widgets/controls"
          }
        },
        "783b1c0b1a74454294844b5671fb7ee7": {
          "model_module": "@jupyter-widgets/base",
          "model_name": "LayoutModel",
          "state": {
            "_view_name": "LayoutView",
            "grid_template_rows": null,
            "right": null,
            "justify_content": null,
            "_view_module": "@jupyter-widgets/base",
            "overflow": null,
            "_model_module_version": "1.2.0",
            "_view_count": null,
            "flex_flow": null,
            "width": null,
            "min_width": null,
            "border": null,
            "align_items": null,
            "bottom": null,
            "_model_module": "@jupyter-widgets/base",
            "top": null,
            "grid_column": null,
            "overflow_y": null,
            "overflow_x": null,
            "grid_auto_flow": null,
            "grid_area": null,
            "grid_template_columns": null,
            "flex": null,
            "_model_name": "LayoutModel",
            "justify_items": null,
            "grid_row": null,
            "max_height": null,
            "align_content": null,
            "visibility": null,
            "align_self": null,
            "height": null,
            "min_height": null,
            "padding": null,
            "grid_auto_rows": null,
            "grid_gap": null,
            "max_width": null,
            "order": null,
            "_view_module_version": "1.2.0",
            "grid_template_areas": null,
            "object_position": null,
            "object_fit": null,
            "grid_auto_columns": null,
            "margin": null,
            "display": null,
            "left": null
          }
        },
        "f18f5da71c07419397a1d305d89a74b8": {
          "model_module": "@jupyter-widgets/controls",
          "model_name": "DescriptionStyleModel",
          "state": {
            "_view_name": "StyleView",
            "_model_name": "DescriptionStyleModel",
            "description_width": "",
            "_view_module": "@jupyter-widgets/base",
            "_model_module_version": "1.5.0",
            "_view_count": null,
            "_view_module_version": "1.2.0",
            "_model_module": "@jupyter-widgets/controls"
          }
        },
        "3b508b4195e943b08b9127fe84ef3f4b": {
          "model_module": "@jupyter-widgets/base",
          "model_name": "LayoutModel",
          "state": {
            "_view_name": "LayoutView",
            "grid_template_rows": null,
            "right": null,
            "justify_content": null,
            "_view_module": "@jupyter-widgets/base",
            "overflow": null,
            "_model_module_version": "1.2.0",
            "_view_count": null,
            "flex_flow": null,
            "width": null,
            "min_width": null,
            "border": null,
            "align_items": null,
            "bottom": null,
            "_model_module": "@jupyter-widgets/base",
            "top": null,
            "grid_column": null,
            "overflow_y": null,
            "overflow_x": null,
            "grid_auto_flow": null,
            "grid_area": null,
            "grid_template_columns": null,
            "flex": null,
            "_model_name": "LayoutModel",
            "justify_items": null,
            "grid_row": null,
            "max_height": null,
            "align_content": null,
            "visibility": null,
            "align_self": null,
            "height": null,
            "min_height": null,
            "padding": null,
            "grid_auto_rows": null,
            "grid_gap": null,
            "max_width": null,
            "order": null,
            "_view_module_version": "1.2.0",
            "grid_template_areas": null,
            "object_position": null,
            "object_fit": null,
            "grid_auto_columns": null,
            "margin": null,
            "display": null,
            "left": null
          }
        }
      }
    }
  },
  "cells": [
    {
      "cell_type": "code",
      "metadata": {
        "id": "sJZZ9hNj7Ys1",
        "colab": {
          "base_uri": "https://localhost:8080/"
        },
        "outputId": "3e9d87e5-27fa-417c-a969-8fb5fe57f597"
      },
      "source": [
        "# ---------------------------------------------------------------------------- #\n",
        "# An implementation of https://arxiv.org/pdf/1512.03385.pdf                    #\n",
        "# See section 4.2 for the model architecture on CIFAR-10                       #\n",
        "# Some part of the code was referenced from below                              #\n",
        "# https://github.com/pytorch/vision/blob/master/torchvision/models/resnet.py   #\n",
        "# ---------------------------------------------------------------------------- #\n",
        "!pip install ipython-autotime\n",
        "%load_ext autotime\n",
        "import matplotlib.pyplot as plt\n",
        "import numpy as np\n",
        "import torch\n",
        "import torch.nn as nn\n",
        "import torch.nn.functional as F\n",
        "import torchvision\n",
        "import torchvision.transforms as transforms\n",
        "\n",
        "\n",
        "# Device configuration\n",
        "device = torch.device('cuda' if torch.cuda.is_available() else 'cpu')\n",
        "\n"
      ],
      "execution_count": null,
      "outputs": [
        {
          "output_type": "stream",
          "text": [
            "Collecting ipython-autotime\n",
            "  Downloading https://files.pythonhosted.org/packages/3f/58/a4a65efcce5c81a67b6893ade862736de355a3a718af5533d30c991831ce/ipython_autotime-0.2.0-py2.py3-none-any.whl\n",
            "Requirement already satisfied: ipython in /usr/local/lib/python3.6/dist-packages (from ipython-autotime) (5.5.0)\n",
            "Requirement already satisfied: pygments in /usr/local/lib/python3.6/dist-packages (from ipython->ipython-autotime) (2.6.1)\n",
            "Requirement already satisfied: simplegeneric>0.8 in /usr/local/lib/python3.6/dist-packages (from ipython->ipython-autotime) (0.8.1)\n",
            "Requirement already satisfied: prompt-toolkit<2.0.0,>=1.0.4 in /usr/local/lib/python3.6/dist-packages (from ipython->ipython-autotime) (1.0.18)\n",
            "Requirement already satisfied: setuptools>=18.5 in /usr/local/lib/python3.6/dist-packages (from ipython->ipython-autotime) (50.3.2)\n",
            "Requirement already satisfied: decorator in /usr/local/lib/python3.6/dist-packages (from ipython->ipython-autotime) (4.4.2)\n",
            "Requirement already satisfied: traitlets>=4.2 in /usr/local/lib/python3.6/dist-packages (from ipython->ipython-autotime) (4.3.3)\n",
            "Requirement already satisfied: pexpect; sys_platform != \"win32\" in /usr/local/lib/python3.6/dist-packages (from ipython->ipython-autotime) (4.8.0)\n",
            "Requirement already satisfied: pickleshare in /usr/local/lib/python3.6/dist-packages (from ipython->ipython-autotime) (0.7.5)\n",
            "Requirement already satisfied: wcwidth in /usr/local/lib/python3.6/dist-packages (from prompt-toolkit<2.0.0,>=1.0.4->ipython->ipython-autotime) (0.2.5)\n",
            "Requirement already satisfied: six>=1.9.0 in /usr/local/lib/python3.6/dist-packages (from prompt-toolkit<2.0.0,>=1.0.4->ipython->ipython-autotime) (1.15.0)\n",
            "Requirement already satisfied: ipython-genutils in /usr/local/lib/python3.6/dist-packages (from traitlets>=4.2->ipython->ipython-autotime) (0.2.0)\n",
            "Requirement already satisfied: ptyprocess>=0.5 in /usr/local/lib/python3.6/dist-packages (from pexpect; sys_platform != \"win32\"->ipython->ipython-autotime) (0.6.0)\n",
            "Installing collected packages: ipython-autotime\n",
            "Successfully installed ipython-autotime-0.2.0\n",
            "time: 3.65 s\n"
          ],
          "name": "stdout"
        }
      ]
    },
    {
      "cell_type": "code",
      "metadata": {
        "id": "ixieggsE7eQR",
        "colab": {
          "base_uri": "https://localhost:8080/"
        },
        "outputId": "ed45720f-b335-4329-caec-88c0fed133a6"
      },
      "source": [
        "# Hyper-parameters\n",
        "num_epochs = 80\n",
        "learning_rate = 0.01\n",
        "batch_size=512"
      ],
      "execution_count": null,
      "outputs": [
        {
          "output_type": "stream",
          "text": [
            "time: 1.47 ms\n"
          ],
          "name": "stdout"
        }
      ]
    },
    {
      "cell_type": "code",
      "metadata": {
        "id": "-RJoy91C7eTd",
        "colab": {
          "base_uri": "https://localhost:8080/"
        },
        "outputId": "66ac25cf-a46d-4979-e9f8-18ce0c05191a"
      },
      "source": [
        "# Image preprocessing modules\n",
        "transform = transforms.Compose([\n",
        "    transforms.Pad(4),\n",
        "    transforms.RandomHorizontalFlip(),\n",
        "    transforms.RandomCrop(32),\n",
        "    #transforms.ColorJitter(brightness=0, contrast=0, saturation=0, hue=0),\n",
        "    #transforms.RandomRotation(degrees=[-10,10], resample=False, expand=False, center=None, fill=0),\n",
        "    transforms.ToTensor(),\n",
        "    #transforms.Normalize((0.4914, 0.4822, 0.4465), (0.2023, 0.1994, 0.2010)),\n",
        "    #transforms.Normalize((0.5, 0.5, 0.5), (0.5, 0.5, 0.5))\n",
        "    ])"
      ],
      "execution_count": null,
      "outputs": [
        {
          "output_type": "stream",
          "text": [
            "time: 3.87 ms\n"
          ],
          "name": "stdout"
        }
      ]
    },
    {
      "cell_type": "code",
      "metadata": {
        "id": "AKqgCvcN3G86",
        "colab": {
          "base_uri": "https://localhost:8080/"
        },
        "outputId": "a5f141ad-784d-42dc-fdca-006232c27553"
      },
      "source": [
        "#transform_train = transforms.Compose([\n",
        "#    transforms.RandomCrop(32, padding=4),\n",
        "#    transforms.RandomHorizontalFlip(),\n",
        "#    transforms.ToTensor(),\n",
        "#    transforms.Normalize((0.4914, 0.4822, 0.4465), (0.2023, 0.1994, 0.2010)),\n",
        "#])\n",
        "\n",
        "#transform_test = transforms.Compose([\n",
        "#    transforms.ToTensor(),\n",
        "#    transforms.Normalize((0.4914, 0.4822, 0.4465), (0.2023, 0.1994, 0.2010)),\n",
        "#])\n"
      ],
      "execution_count": null,
      "outputs": [
        {
          "output_type": "stream",
          "text": [
            "time: 1.76 ms\n"
          ],
          "name": "stdout"
        }
      ]
    },
    {
      "cell_type": "code",
      "metadata": {
        "id": "4vFQ-c_D7eWp",
        "colab": {
          "base_uri": "https://localhost:8080/",
          "height": 100,
          "referenced_widgets": [
            "86bc6f3c292d4c8f95fa5d7b7cb5a590",
            "c9d2e92314dc43ab8fd2dafc4e272a29",
            "707586db5a7a46ed8e666d9ac2297a81",
            "2e70da3fe2ee4b59bb2eb0d1ed445b7f",
            "6880c64dec684e32acfbd7672c766f8b",
            "783b1c0b1a74454294844b5671fb7ee7",
            "f18f5da71c07419397a1d305d89a74b8",
            "3b508b4195e943b08b9127fe84ef3f4b"
          ]
        },
        "outputId": "b1c4efb9-2980-4213-b66f-396cc52bf79e"
      },
      "source": [
        "# CIFAR-10 dataset\n",
        "train_dataset = torchvision.datasets.CIFAR10(root='../../data/',\n",
        "                                             train=True, \n",
        "                                             transform=transform,\n",
        "                                             download=True)\n",
        "\n",
        "test_dataset = torchvision.datasets.CIFAR10(root='../../data/',\n",
        "                                            train=False, \n",
        "                                            transform=transforms.ToTensor())"
      ],
      "execution_count": null,
      "outputs": [
        {
          "output_type": "stream",
          "text": [
            "Downloading https://www.cs.toronto.edu/~kriz/cifar-10-python.tar.gz to ../../data/cifar-10-python.tar.gz\n"
          ],
          "name": "stdout"
        },
        {
          "output_type": "display_data",
          "data": {
            "application/vnd.jupyter.widget-view+json": {
              "model_id": "86bc6f3c292d4c8f95fa5d7b7cb5a590",
              "version_minor": 0,
              "version_major": 2
            },
            "text/plain": [
              "HBox(children=(FloatProgress(value=1.0, bar_style='info', max=1.0), HTML(value='')))"
            ]
          },
          "metadata": {
            "tags": []
          }
        },
        {
          "output_type": "stream",
          "text": [
            "Extracting ../../data/cifar-10-python.tar.gz to ../../data/\n",
            "time: 5.11 s\n"
          ],
          "name": "stdout"
        }
      ]
    },
    {
      "cell_type": "code",
      "metadata": {
        "id": "78eYeI8H7eZi",
        "colab": {
          "base_uri": "https://localhost:8080/"
        },
        "outputId": "049ee76b-990d-43d9-e2b0-dc4c8e6a55b0"
      },
      "source": [
        "# Data loader\n",
        "train_loader = torch.utils.data.DataLoader(dataset=train_dataset,\n",
        "                                           batch_size=batch_size, \n",
        "                                           shuffle=True)\n",
        "\n",
        "test_loader = torch.utils.data.DataLoader(dataset=test_dataset,\n",
        "                                          batch_size=batch_size, \n",
        "                                          shuffle=False)\n",
        "\n",
        "classes = ('plane', 'car', 'bird', 'cat',\n",
        "           'deer', 'dog', 'frog', 'horse', 'ship', 'truck')\n",
        "\n"
      ],
      "execution_count": null,
      "outputs": [
        {
          "output_type": "stream",
          "text": [
            "time: 3.52 ms\n"
          ],
          "name": "stdout"
        }
      ]
    },
    {
      "cell_type": "code",
      "metadata": {
        "id": "7hW9WNjPii86",
        "colab": {
          "base_uri": "https://localhost:8080/",
          "height": 320
        },
        "outputId": "9779ee5c-f09f-4483-8fd9-5a895cec6462"
      },
      "source": [
        "# functions to show an image\n",
        "\n",
        "\n",
        "def imshow(img):\n",
        "    img = img / 2 + 0.5     # unnormalize\n",
        "    npimg = img.numpy()\n",
        "    plt.imshow(np.transpose(npimg, (1, 2, 0)))\n",
        "    plt.show()\n",
        "\n",
        "\n",
        "# get some random training images\n",
        "dataiter = iter(train_loader)\n",
        "images, labels = dataiter.next()\n",
        "\n",
        "# show images\n",
        "imshow(torchvision.utils.make_grid(images))\n",
        "# print labels\n",
        "print(' '.join('%5s' % classes[labels[j]] for j in range(4)))"
      ],
      "execution_count": null,
      "outputs": [
        {
          "output_type": "display_data",
          "data": {
            "image/png": "[encoded data removed]",
            "text/plain": [
              "<Figure size 432x288 with 1 Axes>"
            ]
          },
          "metadata": {
            "tags": [],
            "needs_background": "light"
          }
        },
        {
          "output_type": "stream",
          "text": [
            "\n",
            " ship plane  ship   cat\n",
            "time: 510 ms\n"
          ],
          "name": "stdout"
        }
      ]
    },
    {
      "cell_type": "code",
      "metadata": {
        "id": "-YJAT2jCimio",
        "colab": {
          "base_uri": "https://localhost:8080/"
        },
        "outputId": "08461bc2-77d9-4194-ed7a-545a164ec5af"
      },
      "source": [
        "# 3x3 convolution\n",
        "def conv3x3(in_channels, out_channels, stride=1):\n",
        "    return nn.Conv2d(in_channels, out_channels, kernel_size=3, \n",
        "                     stride=stride, padding=1, bias=False)"
      ],
      "execution_count": null,
      "outputs": [
        {
          "output_type": "stream",
          "text": [
            "time: 2.13 ms\n"
          ],
          "name": "stdout"
        }
      ]
    },
    {
      "cell_type": "code",
      "metadata": {
        "id": "xd6Th-OF7emh",
        "colab": {
          "base_uri": "https://localhost:8080/"
        },
        "outputId": "7c2f3af3-6695-4ad9-aab4-405d4c30e203"
      },
      "source": [
        "class BasicBlock(nn.Module):\n",
        "    expansion = 1\n",
        "\n",
        "    def __init__(self, in_planes, planes, stride=1):\n",
        "        super(BasicBlock, self).__init__()\n",
        "        #dropout=0.4\n",
        "        #dropout = 0 if dropout is None else dropout\n",
        "        self.conv1 = nn.Conv2d(in_planes, planes, kernel_size=3, stride=stride, padding=1, bias=False)\n",
        "        self.bn1 = nn.BatchNorm2d(planes)\n",
        "        self.conv2 = nn.Conv2d(planes, planes, kernel_size=3, stride=1, padding=1, bias=False)\n",
        "        self.bn2 = nn.BatchNorm2d(planes)\n",
        "        #self.dropout = nn.Dropout(dropout)\n",
        "\n",
        "        self.shortcut = nn.Sequential()\n",
        "        if stride != 1 or in_planes != self.expansion*planes:\n",
        "            self.shortcut = nn.Sequential(\n",
        "                nn.Conv2d(in_planes, self.expansion*planes, kernel_size=1, stride=stride, bias=False),\n",
        "                nn.BatchNorm2d(self.expansion*planes)\n",
        "            )\n",
        "\n",
        "    def forward(self, x):\n",
        "        out = F.relu(self.bn1(self.conv1(x)))\n",
        "        out = self.bn2(self.conv2(out))\n",
        "        #out = self.dropout(out)\n",
        "        out += self.shortcut(x)\n",
        "        out = F.relu(out)\n",
        "        \n",
        "        return out"
      ],
      "execution_count": null,
      "outputs": [
        {
          "output_type": "stream",
          "text": [
            "time: 36 ms\n"
          ],
          "name": "stdout"
        }
      ]
    },
    {
      "cell_type": "code",
      "metadata": {
        "id": "J0_toKu87e3j",
        "colab": {
          "base_uri": "https://localhost:8080/"
        },
        "outputId": "9e19c7a5-217d-41ec-d4f3-687134fd5062"
      },
      "source": [
        "class Bottleneck(nn.Module):\n",
        "    expansion = 4\n",
        "\n",
        "    def __init__(self, in_planes, planes, stride=1):\n",
        "        super(Bottleneck, self).__init__()\n",
        "        dropout=0.30\n",
        "        self.conv1 = nn.Conv2d(in_planes, planes, kernel_size=1, bias=False)\n",
        "        self.bn1 = nn.BatchNorm2d(planes)\n",
        "        self.conv2 = nn.Conv2d(planes, planes, kernel_size=3, stride=stride, padding=1, bias=False)\n",
        "        self.bn2 = nn.BatchNorm2d(planes)\n",
        "        self.conv3 = nn.Conv2d(planes, self.expansion*planes, kernel_size=1, bias=False)\n",
        "        self.bn3 = nn.BatchNorm2d(self.expansion*planes)\n",
        "        self.dropout = nn.Dropout(dropout)\n",
        "\n",
        "        self.shortcut = nn.Sequential()\n",
        "        if stride != 1 or in_planes != self.expansion*planes:\n",
        "            self.shortcut = nn.Sequential(\n",
        "                nn.Conv2d(in_planes, self.expansion*planes, kernel_size=1, stride=stride, bias=False),\n",
        "                nn.BatchNorm2d(self.expansion*planes)\n",
        "            )\n",
        "\n",
        "    def forward(self, x):\n",
        "        out = F.relu(self.bn1(self.conv1(x)))\n",
        "        out = F.relu(self.bn2(self.conv2(out)))\n",
        "        out = self.bn3(self.conv3(out))\n",
        "        out = self.dropout(out)\n",
        "        out += self.shortcut(x)\n",
        "        out = F.relu(out)\n",
        "        return out"
      ],
      "execution_count": null,
      "outputs": [
        {
          "output_type": "stream",
          "text": [
            "time: 20.5 ms\n"
          ],
          "name": "stdout"
        }
      ]
    },
    {
      "cell_type": "code",
      "metadata": {
        "id": "HpFNWO6-7ejB",
        "colab": {
          "base_uri": "https://localhost:8080/"
        },
        "outputId": "03e8dce1-5c64-4933-bac3-0201da2f8818"
      },
      "source": [
        "class ResNet(nn.Module):\n",
        "    def __init__(self, block, num_blocks, num_classes=10):\n",
        "        super(ResNet, self).__init__()\n",
        "        self.in_planes = 16\n",
        "\n",
        "        self.conv1 = nn.Conv2d(3, 16, kernel_size=3, stride=1, padding=1, bias=False)\n",
        "        self.bn1 = nn.BatchNorm2d(16)\n",
        "        self.layer1 = self._make_layer(block, 16, num_blocks[0], stride=1)\n",
        "        self.layer2 = self._make_layer(block, 32, num_blocks[1], stride=2)\n",
        "        self.layer3 = self._make_layer(block, 64, num_blocks[2], stride=2)\n",
        "        self.layer4 = self._make_layer(block, 128, num_blocks[3], stride=2)\n",
        "        self.linear = nn.Linear(128*block.expansion, num_classes)\n",
        "\n",
        "    def _make_layer(self, block, planes, num_blocks, stride):\n",
        "        strides = [stride] + [1]*(num_blocks-1)\n",
        "        layers = []\n",
        "        for stride in strides:\n",
        "            layers.append(block(self.in_planes, planes, stride))\n",
        "            self.in_planes = planes * block.expansion\n",
        "        return nn.Sequential(*layers)\n",
        "\n",
        "    def forward(self, x):\n",
        "        out = F.relu(self.bn1(self.conv1(x)))\n",
        "        out = self.layer1(out)\n",
        "        out = self.layer2(out)\n",
        "        out = self.layer3(out)\n",
        "        out = self.layer4(out)\n",
        "        out = F.avg_pool2d(out, 4)\n",
        "        out = out.view(out.size(0), -1)\n",
        "        out = self.linear(out)\n",
        "        return out"
      ],
      "execution_count": null,
      "outputs": [
        {
          "output_type": "stream",
          "text": [
            "time: 26 ms\n"
          ],
          "name": "stdout"
        }
      ]
    },
    {
      "cell_type": "code",
      "metadata": {
        "id": "VivXxrw08DW7",
        "colab": {
          "base_uri": "https://localhost:8080/"
        },
        "outputId": "9cc98572-8613-432d-e677-70d363b97ee9"
      },
      "source": [
        "#RESNET-18\n",
        "model = ResNet(BasicBlock, [2,2,2,2]).to(device)\n",
        "#RESNET-34\n",
        "#model = ResNet(BasicBlock, [3,4,6,3]).to(device)\n",
        "#RESNET-50\n",
        "#model = ResNet(Bottleneck, [3,4,6,3]).to(device)\n",
        "#RESNET-101\n",
        "#model = ResNet(Bottleneck, [3,4,23,3]).to(device)\n",
        "#RESNET-152\n",
        "#model = ResNet(Bottleneck, [3,8,36,3]).to(device)\n"
      ],
      "execution_count": null,
      "outputs": [
        {
          "output_type": "stream",
          "text": [
            "time: 10.3 s\n"
          ],
          "name": "stdout"
        }
      ]
    },
    {
      "cell_type": "code",
      "metadata": {
        "id": "EiyEBpKI8Dge",
        "colab": {
          "base_uri": "https://localhost:8080/"
        },
        "outputId": "d70ec1eb-e3ea-4c71-f118-ea13ebe200c3"
      },
      "source": [
        "# Loss and optimizer\n",
        "criterion = nn.CrossEntropyLoss()\n",
        "#optimizer = torch.optim.Adam(model.parameters(), lr=learning_rate)\n",
        "optimizer = torch.optim.Adam(model.parameters(), lr=learning_rate,weight_decay=1e-5)\n",
        "#optimizer = torch.optim.Adam(model.parameters(), lr=learning_rate, momentum=0.9, weight_decay=5e-4)\n",
        "#optimizer = torch.optim.SGD(model.parameters(), lr=learning_rate, momentum=0.9, weight_decay=5e-4)\n",
        "#optimizer = torch.optim.SGD(model.parameters(), lr=learning_rate)\n",
        "\n",
        "# For updating learning rate\n",
        "def update_lr(optimizer, lr):    \n",
        "    for param_group in optimizer.param_groups:\n",
        "        param_group['lr'] = lr"
      ],
      "execution_count": null,
      "outputs": [
        {
          "output_type": "stream",
          "text": [
            "time: 6.2 ms\n"
          ],
          "name": "stdout"
        }
      ]
    },
    {
      "cell_type": "code",
      "metadata": {
        "id": "dRNxNEUy8DeB",
        "colab": {
          "base_uri": "https://localhost:8080/"
        },
        "outputId": "bd148007-17be-44ed-e8b3-70cf4513ea67"
      },
      "source": [
        "# Train the model\n",
        "total_step = len(train_loader)\n",
        "curr_lr = learning_rate\n",
        "for epoch in range(num_epochs):\n",
        "\n",
        "    if (epoch+1) % 10 == 0:\n",
        "      if batch_size>2:\n",
        "        batch_size /= 2\n",
        "      else:\n",
        "        batch_size=2\n",
        "    else:\n",
        "      batch_size\n",
        "    \n",
        "    correct = 0\n",
        "    total = 0\n",
        "    for i,(images, labels) in enumerate(train_loader):\n",
        "        images = images.to(device)\n",
        "        labels = labels.to(device)\n",
        "\n",
        "        # Forward pass\n",
        "        outputs = model(images)\n",
        "        loss = criterion(outputs, labels)\n",
        "\n",
        "        # Backward and optimize\n",
        "        optimizer.zero_grad()\n",
        "        loss.backward()\n",
        "        optimizer.step()\n",
        "\n",
        "        _, predicted = torch.max(outputs.data, 1)\n",
        "        total += labels.size(0)\n",
        "        correct += (predicted == labels).sum().item()\n",
        "\n",
        "        #if (i+1) % 100 == 0:\n",
        "          \n",
        "    print (\"Epoch [{}/{}], Batch_size: {}  Train Loss: {:.4f} Train Accuracy: {} %\"\n",
        "                   .format(epoch+1, num_epochs, batch_size,  loss.item(),round((100 * correct / total),2)))\n",
        "    #print(batch_size)\n",
        "    # Decay learning rate\n",
        "    if (epoch+1) % 20 == 0:\n",
        "        curr_lr /= 3\n",
        "        update_lr(optimizer, curr_lr)"
      ],
      "execution_count": null,
      "outputs": [
        {
          "output_type": "stream",
          "text": [
            "Epoch [1/80], Batch_size: 512  Train Loss: 1.4858 Train Accuracy: 31.9 %\n",
            "Epoch [2/80], Batch_size: 512  Train Loss: 1.2235 Train Accuracy: 46.87 %\n",
            "Epoch [3/80], Batch_size: 512  Train Loss: 1.0302 Train Accuracy: 56.93 %\n",
            "Epoch [4/80], Batch_size: 512  Train Loss: 0.8540 Train Accuracy: 64.06 %\n",
            "Epoch [5/80], Batch_size: 512  Train Loss: 0.7835 Train Accuracy: 68.49 %\n",
            "Epoch [6/80], Batch_size: 512  Train Loss: 0.7356 Train Accuracy: 72.2 %\n",
            "Epoch [7/80], Batch_size: 512  Train Loss: 0.6055 Train Accuracy: 75.32 %\n",
            "Epoch [8/80], Batch_size: 512  Train Loss: 0.6577 Train Accuracy: 77.61 %\n",
            "Epoch [9/80], Batch_size: 512  Train Loss: 0.5609 Train Accuracy: 79.21 %\n",
            "Epoch [10/80], Batch_size: 256.0  Train Loss: 0.6224 Train Accuracy: 80.52 %\n",
            "Epoch [11/80], Batch_size: 256.0  Train Loss: 0.5691 Train Accuracy: 81.82 %\n",
            "Epoch [12/80], Batch_size: 256.0  Train Loss: 0.4599 Train Accuracy: 82.52 %\n",
            "Epoch [13/80], Batch_size: 256.0  Train Loss: 0.5183 Train Accuracy: 83.45 %\n",
            "Epoch [14/80], Batch_size: 256.0  Train Loss: 0.4347 Train Accuracy: 84.18 %\n",
            "Epoch [15/80], Batch_size: 256.0  Train Loss: 0.4708 Train Accuracy: 84.95 %\n",
            "Epoch [16/80], Batch_size: 256.0  Train Loss: 0.4429 Train Accuracy: 85.29 %\n",
            "Epoch [17/80], Batch_size: 256.0  Train Loss: 0.3826 Train Accuracy: 85.65 %\n",
            "Epoch [18/80], Batch_size: 256.0  Train Loss: 0.4299 Train Accuracy: 86.14 %\n",
            "Epoch [19/80], Batch_size: 256.0  Train Loss: 0.3877 Train Accuracy: 86.77 %\n",
            "Epoch [20/80], Batch_size: 128.0  Train Loss: 0.3155 Train Accuracy: 86.85 %\n",
            "Epoch [21/80], Batch_size: 128.0  Train Loss: 0.2910 Train Accuracy: 89.63 %\n",
            "Epoch [22/80], Batch_size: 128.0  Train Loss: 0.2582 Train Accuracy: 90.67 %\n",
            "Epoch [23/80], Batch_size: 128.0  Train Loss: 0.2870 Train Accuracy: 91.29 %\n",
            "Epoch [24/80], Batch_size: 128.0  Train Loss: 0.2824 Train Accuracy: 91.38 %\n",
            "Epoch [25/80], Batch_size: 128.0  Train Loss: 0.2002 Train Accuracy: 91.74 %\n",
            "Epoch [26/80], Batch_size: 128.0  Train Loss: 0.2292 Train Accuracy: 91.75 %\n",
            "Epoch [27/80], Batch_size: 128.0  Train Loss: 0.2071 Train Accuracy: 91.93 %\n",
            "Epoch [28/80], Batch_size: 128.0  Train Loss: 0.2327 Train Accuracy: 92.1 %\n",
            "Epoch [29/80], Batch_size: 128.0  Train Loss: 0.2480 Train Accuracy: 92.21 %\n",
            "Epoch [30/80], Batch_size: 64.0  Train Loss: 0.2235 Train Accuracy: 92.53 %\n",
            "Epoch [31/80], Batch_size: 64.0  Train Loss: 0.2527 Train Accuracy: 92.61 %\n",
            "Epoch [32/80], Batch_size: 64.0  Train Loss: 0.2216 Train Accuracy: 92.87 %\n",
            "Epoch [33/80], Batch_size: 64.0  Train Loss: 0.1819 Train Accuracy: 92.9 %\n",
            "Epoch [34/80], Batch_size: 64.0  Train Loss: 0.1867 Train Accuracy: 93.19 %\n",
            "Epoch [35/80], Batch_size: 64.0  Train Loss: 0.1944 Train Accuracy: 93.11 %\n",
            "Epoch [36/80], Batch_size: 64.0  Train Loss: 0.1743 Train Accuracy: 93.57 %\n",
            "Epoch [37/80], Batch_size: 64.0  Train Loss: 0.1401 Train Accuracy: 93.64 %\n",
            "Epoch [38/80], Batch_size: 64.0  Train Loss: 0.2003 Train Accuracy: 93.73 %\n",
            "Epoch [39/80], Batch_size: 64.0  Train Loss: 0.2653 Train Accuracy: 93.89 %\n",
            "Epoch [40/80], Batch_size: 32.0  Train Loss: 0.2355 Train Accuracy: 94.0 %\n",
            "Epoch [41/80], Batch_size: 32.0  Train Loss: 0.1414 Train Accuracy: 95.46 %\n",
            "Epoch [42/80], Batch_size: 32.0  Train Loss: 0.0908 Train Accuracy: 96.22 %\n",
            "Epoch [43/80], Batch_size: 32.0  Train Loss: 0.0553 Train Accuracy: 96.3 %\n",
            "Epoch [44/80], Batch_size: 32.0  Train Loss: 0.0868 Train Accuracy: 96.43 %\n",
            "Epoch [45/80], Batch_size: 32.0  Train Loss: 0.0668 Train Accuracy: 96.49 %\n",
            "Epoch [46/80], Batch_size: 32.0  Train Loss: 0.0555 Train Accuracy: 96.73 %\n",
            "Epoch [47/80], Batch_size: 32.0  Train Loss: 0.0906 Train Accuracy: 96.69 %\n",
            "Epoch [48/80], Batch_size: 32.0  Train Loss: 0.0995 Train Accuracy: 96.95 %\n",
            "Epoch [49/80], Batch_size: 32.0  Train Loss: 0.0960 Train Accuracy: 97.11 %\n",
            "Epoch [50/80], Batch_size: 16.0  Train Loss: 0.0938 Train Accuracy: 96.79 %\n",
            "Epoch [51/80], Batch_size: 16.0  Train Loss: 0.1161 Train Accuracy: 96.95 %\n",
            "Epoch [52/80], Batch_size: 16.0  Train Loss: 0.0631 Train Accuracy: 97.25 %\n",
            "Epoch [53/80], Batch_size: 16.0  Train Loss: 0.1109 Train Accuracy: 97.25 %\n",
            "Epoch [54/80], Batch_size: 16.0  Train Loss: 0.0695 Train Accuracy: 97.43 %\n",
            "Epoch [55/80], Batch_size: 16.0  Train Loss: 0.0730 Train Accuracy: 97.34 %\n",
            "Epoch [56/80], Batch_size: 16.0  Train Loss: 0.0531 Train Accuracy: 97.31 %\n",
            "Epoch [57/80], Batch_size: 16.0  Train Loss: 0.0570 Train Accuracy: 97.55 %\n",
            "Epoch [58/80], Batch_size: 16.0  Train Loss: 0.0643 Train Accuracy: 97.56 %\n",
            "Epoch [59/80], Batch_size: 16.0  Train Loss: 0.0765 Train Accuracy: 97.61 %\n",
            "Epoch [60/80], Batch_size: 8.0  Train Loss: 0.0400 Train Accuracy: 97.67 %\n",
            "Epoch [61/80], Batch_size: 8.0  Train Loss: 0.0557 Train Accuracy: 98.18 %\n",
            "Epoch [62/80], Batch_size: 8.0  Train Loss: 0.0540 Train Accuracy: 98.41 %\n",
            "Epoch [63/80], Batch_size: 8.0  Train Loss: 0.0436 Train Accuracy: 98.49 %\n",
            "Epoch [64/80], Batch_size: 8.0  Train Loss: 0.0467 Train Accuracy: 98.56 %\n",
            "Epoch [65/80], Batch_size: 8.0  Train Loss: 0.0564 Train Accuracy: 98.6 %\n",
            "Epoch [66/80], Batch_size: 8.0  Train Loss: 0.0469 Train Accuracy: 98.57 %\n",
            "Epoch [67/80], Batch_size: 8.0  Train Loss: 0.0426 Train Accuracy: 98.66 %\n",
            "Epoch [68/80], Batch_size: 8.0  Train Loss: 0.0591 Train Accuracy: 98.67 %\n",
            "Epoch [69/80], Batch_size: 8.0  Train Loss: 0.0192 Train Accuracy: 98.73 %\n",
            "Epoch [70/80], Batch_size: 4.0  Train Loss: 0.0362 Train Accuracy: 98.73 %\n",
            "Epoch [71/80], Batch_size: 4.0  Train Loss: 0.0551 Train Accuracy: 98.72 %\n",
            "Epoch [72/80], Batch_size: 4.0  Train Loss: 0.0583 Train Accuracy: 98.78 %\n",
            "Epoch [73/80], Batch_size: 4.0  Train Loss: 0.0314 Train Accuracy: 98.84 %\n",
            "Epoch [74/80], Batch_size: 4.0  Train Loss: 0.0296 Train Accuracy: 98.83 %\n",
            "Epoch [75/80], Batch_size: 4.0  Train Loss: 0.0206 Train Accuracy: 98.88 %\n",
            "Epoch [76/80], Batch_size: 4.0  Train Loss: 0.0364 Train Accuracy: 98.88 %\n",
            "Epoch [77/80], Batch_size: 4.0  Train Loss: 0.0281 Train Accuracy: 98.86 %\n",
            "Epoch [78/80], Batch_size: 4.0  Train Loss: 0.0661 Train Accuracy: 98.9 %\n",
            "Epoch [79/80], Batch_size: 4.0  Train Loss: 0.0345 Train Accuracy: 98.84 %\n",
            "Epoch [80/80], Batch_size: 2.0  Train Loss: 0.0287 Train Accuracy: 98.95 %\n",
            "time: 27min 35s\n"
          ],
          "name": "stdout"
        }
      ]
    },
    {
      "cell_type": "code",
      "metadata": {
        "id": "-2-vn6CLxSBq",
        "colab": {
          "base_uri": "https://localhost:8080/",
          "height": 68
        },
        "outputId": "097ba58c-45ab-446f-f815-42800bd269aa"
      },
      "source": [
        "import matplotlib.pyplot as plt\n",
        "import numpy as np\n",
        "\n",
        "def convert_to_imshow_format(image):\n",
        "    # first convert back to [0,1] range from [-1,1] range\n",
        "    image = image / 2 + 0.5\n",
        "    image = image.numpy()\n",
        "    # convert from CHW to HWC\n",
        "    # from 3x32x32 to 32x32x3\n",
        "    return image.transpose(1,2,0)\n",
        "\n",
        "dataiter = iter(train_loader)\n",
        "images, labels = dataiter.next()\n",
        "\n",
        "fig, axes = plt.subplots(1, len(images), figsize=(12,2.5))\n",
        "for idx, image in enumerate(images):\n",
        "    axes[idx].imshow(convert_to_imshow_format(image))\n",
        "    axes[idx].set_title(classes[labels[idx]])\n",
        "    axes[idx].set_xticks([])\n",
        "    axes[idx].set_yticks([])"
      ],
      "execution_count": null,
      "outputs": [
        {
          "output_type": "display_data",
          "data": {
            "image/png": "[encoded data removed]",
            "text/plain": [
              "<Figure size 864x180 with 512 Axes>"
            ]
          },
          "metadata": {
            "tags": []
          }
        },
        {
          "output_type": "stream",
          "text": [
            "time: 14.4 s\n"
          ],
          "name": "stdout"
        }
      ]
    },
    {
      "cell_type": "code",
      "metadata": {
        "id": "ytAhp0JWxCuV",
        "colab": {
          "base_uri": "https://localhost:8080/",
          "height": 68
        },
        "outputId": "4f0a2b56-77b4-4d9c-b5b4-909313b7e2ed"
      },
      "source": [
        "dataiter = iter(test_loader)\n",
        "images, labels = dataiter.next()\n",
        "\n",
        "fig, axes = plt.subplots(1, len(images), figsize=(12,2.5))\n",
        "for idx, image in enumerate(images):\n",
        "    axes[idx].imshow(convert_to_imshow_format(image))\n",
        "    axes[idx].set_title(classes[labels[idx]])\n",
        "    axes[idx].set_xticks([])\n",
        "    axes[idx].set_yticks([])"
      ],
      "execution_count": null,
      "outputs": [
        {
          "output_type": "display_data",
          "data": {
            "image/png": "[encoded data removed]",
            "text/plain": [
              "<Figure size 864x180 with 512 Axes>"
            ]
          },
          "metadata": {
            "tags": []
          }
        },
        {
          "output_type": "stream",
          "text": [
            "time: 14.5 s\n"
          ],
          "name": "stdout"
        }
      ]
    },
    {
      "cell_type": "code",
      "metadata": {
        "id": "4Bo-eyWBxn9T",
        "colab": {
          "base_uri": "https://localhost:8080/"
        },
        "outputId": "e4b3690e-b865-4044-9419-013980090edd"
      },
      "source": [
        "images = images.to(device)\n",
        "labels = labels.to(device)\n",
        "outputs = model(images)"
      ],
      "execution_count": null,
      "outputs": [
        {
          "output_type": "stream",
          "text": [
            "time: 12.4 ms\n"
          ],
          "name": "stdout"
        }
      ]
    },
    {
      "cell_type": "code",
      "metadata": {
        "id": "Wv_wo9I6yIMW",
        "colab": {
          "base_uri": "https://localhost:8080/"
        },
        "outputId": "fa74ac63-b900-402a-8192-aeddae90c6e0"
      },
      "source": [
        "sm = nn.Softmax(dim=1)\n",
        "sm_outputs = sm(outputs)"
      ],
      "execution_count": null,
      "outputs": [
        {
          "output_type": "stream",
          "text": [
            "time: 1.43 ms\n"
          ],
          "name": "stdout"
        }
      ]
    },
    {
      "cell_type": "code",
      "metadata": {
        "id": "DfhHhpi2yO9q",
        "colab": {
          "base_uri": "https://localhost:8080/"
        },
        "outputId": "e0237abd-95de-4ed4-e9ab-870d64c54b5f"
      },
      "source": [
        "probs, index = torch.max(sm_outputs, dim=1)\n",
        "\n",
        "for p, i in zip(probs, index):\n",
        "    print('{0} - {1:.4f}'.format(classes[i], p))"
      ],
      "execution_count": null,
      "outputs": [
        {
          "output_type": "stream",
          "text": [
            "cat - 1.0000\n",
            "ship - 1.0000\n",
            "car - 0.9948\n",
            "plane - 0.9917\n",
            "frog - 1.0000\n",
            "frog - 1.0000\n",
            "car - 0.9995\n",
            "frog - 0.9875\n",
            "cat - 0.9924\n",
            "car - 0.9974\n",
            "plane - 1.0000\n",
            "truck - 1.0000\n",
            "dog - 0.9928\n",
            "horse - 0.9948\n",
            "truck - 1.0000\n",
            "ship - 0.9777\n",
            "dog - 0.9999\n",
            "horse - 1.0000\n",
            "ship - 1.0000\n",
            "frog - 1.0000\n",
            "horse - 0.9997\n",
            "plane - 1.0000\n",
            "deer - 0.9998\n",
            "truck - 1.0000\n",
            "dog - 0.6791\n",
            "bird - 0.5681\n",
            "cat - 0.9857\n",
            "plane - 1.0000\n",
            "truck - 1.0000\n",
            "frog - 1.0000\n",
            "frog - 0.5800\n",
            "dog - 1.0000\n",
            "deer - 1.0000\n",
            "dog - 0.9997\n",
            "truck - 1.0000\n",
            "cat - 0.9689\n",
            "deer - 1.0000\n",
            "truck - 0.9978\n",
            "truck - 1.0000\n",
            "dog - 1.0000\n",
            "deer - 0.9999\n",
            "frog - 1.0000\n",
            "cat - 0.5790\n",
            "frog - 1.0000\n",
            "plane - 1.0000\n",
            "truck - 1.0000\n",
            "cat - 1.0000\n",
            "truck - 0.7044\n",
            "horse - 1.0000\n",
            "frog - 0.9983\n",
            "truck - 1.0000\n",
            "ship - 1.0000\n",
            "cat - 0.9891\n",
            "cat - 0.9953\n",
            "ship - 1.0000\n",
            "ship - 1.0000\n",
            "horse - 1.0000\n",
            "cat - 0.7155\n",
            "horse - 0.9979\n",
            "cat - 0.6840\n",
            "horse - 1.0000\n",
            "dog - 0.9568\n",
            "frog - 1.0000\n",
            "cat - 1.0000\n",
            "frog - 1.0000\n",
            "bird - 0.9998\n",
            "car - 1.0000\n",
            "bird - 1.0000\n",
            "cat - 0.9770\n",
            "horse - 0.9996\n",
            "bird - 0.9999\n",
            "frog - 1.0000\n",
            "ship - 1.0000\n",
            "ship - 1.0000\n",
            "plane - 0.9997\n",
            "bird - 1.0000\n",
            "truck - 1.0000\n",
            "cat - 1.0000\n",
            "cat - 0.9384\n",
            "ship - 1.0000\n",
            "ship - 1.0000\n",
            "plane - 0.9024\n",
            "car - 1.0000\n",
            "horse - 1.0000\n",
            "dog - 0.9539\n",
            "dog - 0.9994\n",
            "cat - 0.4857\n",
            "horse - 0.9997\n",
            "ship - 0.9999\n",
            "truck - 1.0000\n",
            "plane - 0.9999\n",
            "frog - 0.9753\n",
            "ship - 1.0000\n",
            "frog - 1.0000\n",
            "deer - 1.0000\n",
            "cat - 0.9996\n",
            "bird - 0.9294\n",
            "plane - 0.9995\n",
            "plane - 1.0000\n",
            "horse - 1.0000\n",
            "horse - 0.9229\n",
            "dog - 0.5626\n",
            "horse - 0.6892\n",
            "cat - 1.0000\n",
            "car - 1.0000\n",
            "car - 1.0000\n",
            "cat - 0.9998\n",
            "frog - 1.0000\n",
            "ship - 1.0000\n",
            "horse - 1.0000\n",
            "deer - 1.0000\n",
            "plane - 0.9988\n",
            "frog - 0.9814\n",
            "bird - 1.0000\n",
            "car - 0.9998\n",
            "cat - 0.8543\n",
            "plane - 1.0000\n",
            "deer - 0.9792\n",
            "frog - 0.5104\n",
            "horse - 1.0000\n",
            "ship - 1.0000\n",
            "cat - 0.9977\n",
            "car - 1.0000\n",
            "bird - 1.0000\n",
            "ship - 0.9989\n",
            "plane - 0.4904\n",
            "ship - 1.0000\n",
            "cat - 0.6640\n",
            "plane - 0.6890\n",
            "bird - 1.0000\n",
            "deer - 1.0000\n",
            "car - 1.0000\n",
            "ship - 1.0000\n",
            "truck - 1.0000\n",
            "truck - 0.7722\n",
            "bird - 1.0000\n",
            "truck - 0.9818\n",
            "truck - 0.5786\n",
            "bird - 0.9957\n",
            "truck - 0.8335\n",
            "frog - 0.9999\n",
            "dog - 1.0000\n",
            "frog - 1.0000\n",
            "horse - 0.7899\n",
            "ship - 1.0000\n",
            "horse - 0.9804\n",
            "frog - 0.6888\n",
            "deer - 0.8928\n",
            "dog - 0.9814\n",
            "bird - 0.9980\n",
            "ship - 0.9981\n",
            "truck - 0.8425\n",
            "frog - 0.9982\n",
            "plane - 0.9996\n",
            "plane - 0.9879\n",
            "dog - 0.6030\n",
            "bird - 1.0000\n",
            "truck - 1.0000\n",
            "dog - 0.8400\n",
            "deer - 1.0000\n",
            "bird - 0.9929\n",
            "car - 1.0000\n",
            "frog - 0.9809\n",
            "frog - 1.0000\n",
            "plane - 0.8910\n",
            "deer - 0.9785\n",
            "ship - 1.0000\n",
            "deer - 1.0000\n",
            "dog - 0.9995\n",
            "plane - 1.0000\n",
            "truck - 1.0000\n",
            "plane - 0.9859\n",
            "truck - 1.0000\n",
            "ship - 0.9996\n",
            "truck - 0.9824\n",
            "truck - 1.0000\n",
            "cat - 0.9817\n",
            "horse - 1.0000\n",
            "dog - 0.9372\n",
            "plane - 1.0000\n",
            "plane - 0.9688\n",
            "dog - 0.9999\n",
            "bird - 1.0000\n",
            "bird - 0.9987\n",
            "dog - 0.5514\n",
            "ship - 1.0000\n",
            "frog - 0.9994\n",
            "cat - 1.0000\n",
            "deer - 0.8504\n",
            "ship - 0.7420\n",
            "dog - 1.0000\n",
            "ship - 0.7661\n",
            "horse - 0.9400\n",
            "car - 0.9999\n",
            "horse - 1.0000\n",
            "dog - 0.7145\n",
            "ship - 1.0000\n",
            "dog - 0.9973\n",
            "horse - 0.9920\n",
            "ship - 1.0000\n",
            "cat - 0.8900\n",
            "car - 1.0000\n",
            "ship - 1.0000\n",
            "horse - 0.9999\n",
            "car - 1.0000\n",
            "cat - 1.0000\n",
            "plane - 0.9997\n",
            "dog - 1.0000\n",
            "horse - 1.0000\n",
            "truck - 1.0000\n",
            "horse - 0.9999\n",
            "deer - 0.9952\n",
            "dog - 1.0000\n",
            "truck - 0.9905\n",
            "bird - 0.5743\n",
            "plane - 0.9971\n",
            "horse - 1.0000\n",
            "truck - 1.0000\n",
            "ship - 1.0000\n",
            "bird - 0.9998\n",
            "horse - 0.9946\n",
            "frog - 0.9656\n",
            "truck - 1.0000\n",
            "deer - 1.0000\n",
            "cat - 0.9546\n",
            "truck - 1.0000\n",
            "cat - 0.4333\n",
            "deer - 1.0000\n",
            "dog - 0.5644\n",
            "bird - 0.5048\n",
            "dog - 0.9952\n",
            "car - 1.0000\n",
            "dog - 0.9533\n",
            "ship - 1.0000\n",
            "ship - 1.0000\n",
            "plane - 1.0000\n",
            "deer - 1.0000\n",
            "horse - 0.5049\n",
            "dog - 0.9992\n",
            "dog - 1.0000\n",
            "car - 1.0000\n",
            "car - 1.0000\n",
            "ship - 0.7019\n",
            "truck - 1.0000\n",
            "plane - 1.0000\n",
            "cat - 0.9553\n",
            "car - 1.0000\n",
            "truck - 0.9889\n",
            "bird - 1.0000\n",
            "bird - 0.6124\n",
            "dog - 1.0000\n",
            "cat - 0.9969\n",
            "truck - 1.0000\n",
            "truck - 0.9975\n",
            "deer - 0.9956\n",
            "ship - 0.5566\n",
            "cat - 1.0000\n",
            "plane - 1.0000\n",
            "plane - 0.9995\n",
            "truck - 0.9998\n",
            "ship - 1.0000\n",
            "car - 1.0000\n",
            "deer - 0.8731\n",
            "horse - 0.9415\n",
            "ship - 0.9646\n",
            "ship - 0.9999\n",
            "bird - 1.0000\n",
            "deer - 1.0000\n",
            "horse - 1.0000\n",
            "plane - 0.8723\n",
            "bird - 0.9999\n",
            "dog - 0.5744\n",
            "frog - 1.0000\n",
            "cat - 0.8128\n",
            "ship - 1.0000\n",
            "deer - 0.4715\n",
            "plane - 0.9992\n",
            "bird - 0.9177\n",
            "deer - 1.0000\n",
            "cat - 0.9773\n",
            "truck - 1.0000\n",
            "plane - 0.9966\n",
            "frog - 1.0000\n",
            "car - 1.0000\n",
            "plane - 0.5551\n",
            "truck - 1.0000\n",
            "car - 0.9935\n",
            "ship - 0.9927\n",
            "horse - 1.0000\n",
            "truck - 1.0000\n",
            "car - 1.0000\n",
            "bird - 1.0000\n",
            "frog - 1.0000\n",
            "truck - 0.9999\n",
            "cat - 0.9998\n",
            "deer - 1.0000\n",
            "frog - 1.0000\n",
            "plane - 1.0000\n",
            "plane - 1.0000\n",
            "frog - 1.0000\n",
            "frog - 1.0000\n",
            "frog - 1.0000\n",
            "deer - 0.7973\n",
            "bird - 0.9999\n",
            "frog - 1.0000\n",
            "car - 0.9996\n",
            "plane - 0.6960\n",
            "bird - 1.0000\n",
            "car - 0.6059\n",
            "deer - 0.8614\n",
            "car - 0.5549\n",
            "frog - 1.0000\n",
            "plane - 0.9998\n",
            "bird - 0.9623\n",
            "deer - 1.0000\n",
            "plane - 1.0000\n",
            "horse - 0.6149\n",
            "horse - 0.9999\n",
            "dog - 1.0000\n",
            "dog - 1.0000\n",
            "cat - 1.0000\n",
            "dog - 1.0000\n",
            "bird - 1.0000\n",
            "cat - 0.9891\n",
            "deer - 0.7774\n",
            "car - 0.9999\n",
            "horse - 0.9999\n",
            "dog - 1.0000\n",
            "deer - 1.0000\n",
            "frog - 1.0000\n",
            "car - 1.0000\n",
            "truck - 1.0000\n",
            "cat - 0.8486\n",
            "frog - 1.0000\n",
            "frog - 1.0000\n",
            "truck - 1.0000\n",
            "cat - 1.0000\n",
            "ship - 1.0000\n",
            "bird - 0.8103\n",
            "horse - 1.0000\n",
            "bird - 1.0000\n",
            "frog - 1.0000\n",
            "bird - 0.5455\n",
            "dog - 1.0000\n",
            "ship - 1.0000\n",
            "dog - 1.0000\n",
            "deer - 1.0000\n",
            "frog - 0.9996\n",
            "ship - 0.9999\n",
            "truck - 1.0000\n",
            "truck - 1.0000\n",
            "car - 1.0000\n",
            "plane - 0.8848\n",
            "bird - 1.0000\n",
            "bird - 1.0000\n",
            "deer - 0.9938\n",
            "frog - 0.9882\n",
            "cat - 0.6182\n",
            "ship - 0.9572\n",
            "plane - 1.0000\n",
            "truck - 1.0000\n",
            "dog - 0.9802\n",
            "ship - 1.0000\n",
            "car - 0.9999\n",
            "truck - 1.0000\n",
            "deer - 1.0000\n",
            "car - 0.9994\n",
            "cat - 0.9590\n",
            "bird - 0.5128\n",
            "car - 1.0000\n",
            "deer - 0.9917\n",
            "horse - 1.0000\n",
            "truck - 1.0000\n",
            "deer - 1.0000\n",
            "bird - 1.0000\n",
            "horse - 1.0000\n",
            "plane - 0.6875\n",
            "horse - 0.7014\n",
            "ship - 0.9889\n",
            "frog - 1.0000\n",
            "frog - 1.0000\n",
            "truck - 1.0000\n",
            "plane - 1.0000\n",
            "truck - 0.7796\n",
            "dog - 0.9982\n",
            "ship - 0.9962\n",
            "horse - 1.0000\n",
            "bird - 0.9418\n",
            "dog - 0.6639\n",
            "dog - 1.0000\n",
            "car - 1.0000\n",
            "bird - 1.0000\n",
            "frog - 1.0000\n",
            "dog - 0.6405\n",
            "car - 0.5134\n",
            "frog - 0.9640\n",
            "bird - 1.0000\n",
            "cat - 0.9955\n",
            "plane - 0.8746\n",
            "cat - 1.0000\n",
            "truck - 1.0000\n",
            "ship - 0.9990\n",
            "horse - 1.0000\n",
            "ship - 0.9999\n",
            "ship - 1.0000\n",
            "deer - 0.6193\n",
            "plane - 1.0000\n",
            "car - 1.0000\n",
            "ship - 1.0000\n",
            "bird - 0.9662\n",
            "horse - 1.0000\n",
            "truck - 0.9899\n",
            "cat - 0.9381\n",
            "frog - 0.9971\n",
            "car - 1.0000\n",
            "truck - 1.0000\n",
            "plane - 0.9993\n",
            "horse - 1.0000\n",
            "cat - 0.9782\n",
            "horse - 1.0000\n",
            "deer - 0.5875\n",
            "dog - 0.9608\n",
            "plane - 0.9602\n",
            "plane - 1.0000\n",
            "bird - 1.0000\n",
            "truck - 1.0000\n",
            "cat - 0.9843\n",
            "bird - 0.7845\n",
            "truck - 0.5850\n",
            "frog - 1.0000\n",
            "bird - 0.9976\n",
            "dog - 0.9873\n",
            "cat - 0.9998\n",
            "horse - 0.6236\n",
            "horse - 0.5968\n",
            "horse - 1.0000\n",
            "bird - 1.0000\n",
            "dog - 0.9997\n",
            "cat - 1.0000\n",
            "car - 0.9832\n",
            "car - 1.0000\n",
            "deer - 1.0000\n",
            "truck - 1.0000\n",
            "truck - 1.0000\n",
            "dog - 1.0000\n",
            "horse - 1.0000\n",
            "bird - 0.7429\n",
            "plane - 0.7769\n",
            "bird - 1.0000\n",
            "plane - 0.9258\n",
            "bird - 1.0000\n",
            "truck - 1.0000\n",
            "horse - 0.9999\n",
            "cat - 0.9975\n",
            "truck - 1.0000\n",
            "deer - 0.9684\n",
            "deer - 0.9715\n",
            "horse - 0.8980\n",
            "deer - 1.0000\n",
            "frog - 0.9994\n",
            "dog - 1.0000\n",
            "frog - 1.0000\n",
            "car - 1.0000\n",
            "deer - 0.9984\n",
            "cat - 0.9898\n",
            "deer - 1.0000\n",
            "deer - 1.0000\n",
            "cat - 1.0000\n",
            "horse - 0.9963\n",
            "ship - 1.0000\n",
            "deer - 0.5453\n",
            "horse - 0.9993\n",
            "ship - 1.0000\n",
            "ship - 0.9775\n",
            "dog - 0.9829\n",
            "horse - 0.9999\n",
            "dog - 0.9992\n",
            "truck - 0.8036\n",
            "dog - 0.9694\n",
            "deer - 1.0000\n",
            "ship - 0.9932\n",
            "frog - 0.9119\n",
            "ship - 1.0000\n",
            "car - 0.8017\n",
            "dog - 0.9998\n",
            "truck - 0.9746\n",
            "truck - 1.0000\n",
            "truck - 1.0000\n",
            "dog - 0.9015\n",
            "plane - 1.0000\n",
            "car - 1.0000\n",
            "plane - 0.9949\n",
            "ship - 1.0000\n",
            "car - 1.0000\n",
            "car - 1.0000\n",
            "ship - 1.0000\n",
            "plane - 1.0000\n",
            "bird - 0.9999\n",
            "bird - 1.0000\n",
            "plane - 0.9999\n",
            "deer - 1.0000\n",
            "frog - 0.9926\n",
            "dog - 0.9943\n",
            "deer - 0.9999\n",
            "truck - 1.0000\n",
            "deer - 1.0000\n",
            "horse - 1.0000\n",
            "truck - 1.0000\n",
            "truck - 0.9896\n",
            "deer - 1.0000\n",
            "dog - 1.0000\n",
            "frog - 1.0000\n",
            "time: 139 ms\n"
          ],
          "name": "stdout"
        }
      ]
    },
    {
      "cell_type": "code",
      "metadata": {
        "id": "RiZftaxHyShZ",
        "colab": {
          "base_uri": "https://localhost:8080/"
        },
        "outputId": "ef2bb159-f0de-4981-dddc-a96501a3832a"
      },
      "source": [
        "total_correct = 0\n",
        "total_images = 0\n",
        "confusion_matrix = np.zeros([10,10], int)\n",
        "with torch.no_grad():\n",
        "    for data in test_loader:\n",
        "        images, labels = data\n",
        "        images = images.to(device)\n",
        "        labels = labels.to(device)\n",
        "        outputs = model(images)\n",
        "        _, predicted = torch.max(outputs.data, 1)\n",
        "        total_images += labels.size(0)\n",
        "        total_correct += (predicted == labels).sum().item()\n",
        "        for i, l in enumerate(labels):\n",
        "            confusion_matrix[l.item(), predicted[i].item()] += 1 \n",
        "\n",
        "model_accuracy = total_correct / total_images * 100\n",
        "print('Model accuracy on {0} test images: {1:.2f}%'.format(total_images, model_accuracy))"
      ],
      "execution_count": null,
      "outputs": [
        {
          "output_type": "stream",
          "text": [
            "Model accuracy on 10000 test images: 87.06%\n",
            "time: 2 s\n"
          ],
          "name": "stdout"
        }
      ]
    },
    {
      "cell_type": "code",
      "metadata": {
        "id": "6v5gH5D6y0sZ",
        "colab": {
          "base_uri": "https://localhost:8080/"
        },
        "outputId": "74b3e010-7b0c-408f-bd5b-102f13f7cd5e"
      },
      "source": [
        "print('{0:10s} - {1}'.format('Category','Accuracy'))\n",
        "for i, r in enumerate(confusion_matrix):\n",
        "    print('{0:10s} - {1:.1f}'.format(classes[i], r[i]/np.sum(r)*100))"
      ],
      "execution_count": null,
      "outputs": [
        {
          "output_type": "stream",
          "text": [
            "Category   - Accuracy\n",
            "plane      - 87.3\n",
            "car        - 94.1\n",
            "bird       - 82.8\n",
            "cat        - 74.0\n",
            "deer       - 87.4\n",
            "dog        - 79.7\n",
            "frog       - 89.8\n",
            "horse      - 89.8\n",
            "ship       - 93.0\n",
            "truck      - 92.7\n",
            "time: 2.21 ms\n"
          ],
          "name": "stdout"
        }
      ]
    },
    {
      "cell_type": "code",
      "metadata": {
        "id": "UHszLmdNy5v_",
        "colab": {
          "base_uri": "https://localhost:8080/"
        },
        "outputId": "d61c313c-cac4-4480-f8f9-13c5086fc5a4"
      },
      "source": [
        "fig, ax = plt.subplots(1,1,figsize=(8,6))\n",
        "ax.matshow(confusion_matrix, aspect='auto', vmin=0, vmax=1000, cmap=plt.get_cmap('Blues'))\n",
        "plt.ylabel('Actual Category')\n",
        "plt.yticks(range(10), classes)\n",
        "plt.xlabel('Predicted Category')\n",
        "plt.xticks(range(10), classes)\n",
        "plt.show()"
      ],
      "execution_count": null,
      "outputs": [
        {
          "output_type": "display_data",
          "data": {
            "image/png": "[encoded data removed]",
            "text/plain": [
              "<Figure size 576x432 with 1 Axes>"
            ]
          },
          "metadata": {
            "tags": [],
            "needs_background": "light"
          }
        },
        {
          "output_type": "stream",
          "text": [
            "time: 124 ms\n"
          ],
          "name": "stdout"
        }
      ]
    },
    {
      "cell_type": "code",
      "metadata": {
        "id": "6GgvDmpGzEfH",
        "colab": {
          "base_uri": "https://localhost:8080/"
        },
        "outputId": "eea2f16b-4e82-480f-bd01-d21a814a6d7a"
      },
      "source": [
        "print('actual/pred'.ljust(16), end='')\n",
        "for i,c in enumerate(classes):\n",
        "    print(c.ljust(10), end='')\n",
        "print()\n",
        "for i,r in enumerate(confusion_matrix):\n",
        "    print(classes[i].ljust(16), end='')\n",
        "    for idx, p in enumerate(r):\n",
        "        print(str(p).ljust(10), end='')\n",
        "    print()\n",
        "    \n",
        "    r = r/np.sum(r)\n",
        "    print(''.ljust(16), end='')\n",
        "    for idx, p in enumerate(r):\n",
        "        print(str(p).ljust(10), end='')\n",
        "    print()"
      ],
      "execution_count": null,
      "outputs": [
        {
          "output_type": "stream",
          "text": [
            "actual/pred     plane     car       bird      cat       deer      dog       frog      horse     ship      truck     \n",
            "plane           873       10        26        11        13        2         4         6         40        15        \n",
            "                0.873     0.01      0.026     0.011     0.013     0.002     0.004     0.006     0.04      0.015     \n",
            "car             9         941       3         3         0         1         1         0         4         38        \n",
            "                0.009     0.941     0.003     0.003     0.0       0.001     0.001     0.0       0.004     0.038     \n",
            "bird            21        0         828       36        45        25        25        10        5         5         \n",
            "                0.021     0.0       0.828     0.036     0.045     0.025     0.025     0.01      0.005     0.005     \n",
            "cat             15        0         38        740       33        97        21        30        11        15        \n",
            "                0.015     0.0       0.038     0.74      0.033     0.097     0.021     0.03      0.011     0.015     \n",
            "deer            8         1         29        26        874       14        13        25        6         4         \n",
            "                0.008     0.001     0.029     0.026     0.874     0.014     0.013     0.025     0.006     0.004     \n",
            "dog             6         2         24        109       29        797       3         22        4         4         \n",
            "                0.006     0.002     0.024     0.109     0.029     0.797     0.003     0.022     0.004     0.004     \n",
            "frog            7         2         27        31        18        7         898       4         1         5         \n",
            "                0.007     0.002     0.027     0.031     0.018     0.007     0.898     0.004     0.001     0.005     \n",
            "horse           8         1         11        19        27        23        2         898       4         7         \n",
            "                0.008     0.001     0.011     0.019     0.027     0.023     0.002     0.898     0.004     0.007     \n",
            "ship            25        10        3         4         2         2         6         2         930       16        \n",
            "                0.025     0.01      0.003     0.004     0.002     0.002     0.006     0.002     0.93      0.016     \n",
            "truck           11        37        2         7         0         2         0         2         12        927       \n",
            "                0.011     0.037     0.002     0.007     0.0       0.002     0.0       0.002     0.012     0.927     \n",
            "time: 17.8 ms\n"
          ],
          "name": "stdout"
        }
      ]
    },
    {
      "cell_type": "code",
      "metadata": {
        "id": "pZ5U1tkZ7ecu",
        "colab": {
          "base_uri": "https://localhost:8080/"
        },
        "outputId": "3ced97a7-5bf3-443e-d0c2-8f66639e8918"
      },
      "source": [
        "# Save the model checkpoint\n",
        "torch.save(model.state_dict(), 'resnet.ckpt')"
      ],
      "execution_count": null,
      "outputs": [
        {
          "output_type": "stream",
          "text": [
            "time: 26 ms\n"
          ],
          "name": "stdout"
        }
      ]
    },
    {
      "cell_type": "code",
      "metadata": {
        "id": "2x-t3dD2-H5A",
        "colab": {
          "base_uri": "https://localhost:8080/"
        },
        "outputId": "716a1967-511d-4f62-a46f-05f5a67115c2"
      },
      "source": [
        "pytorch_total_params = sum(p.numel() for p in model.parameters())\n",
        "pytorch_total_params"
      ],
      "execution_count": null,
      "outputs": [
        {
          "output_type": "execute_result",
          "data": {
            "text/plain": [
              "701466"
            ]
          },
          "metadata": {
            "tags": []
          },
          "execution_count": 25
        },
        {
          "output_type": "stream",
          "text": [
            "time: 5.55 ms\n"
          ],
          "name": "stdout"
        }
      ]
    }
  ]
}