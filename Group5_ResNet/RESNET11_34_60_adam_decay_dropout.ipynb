{
 "cells": [
  {
   "cell_type": "code",
   "execution_count": 1,
   "metadata": {
    "colab": {
     "base_uri": "https://localhost:8080/"
    },
    "id": "sJZZ9hNj7Ys1",
    "outputId": "342a8598-13cf-4a40-c13d-ff10651b30ed"
   },
   "outputs": [
    {
     "name": "stdout",
     "output_type": "stream",
     "text": [
      "Collecting ipython-autotime\n",
      "  Downloading https://files.pythonhosted.org/packages/3f/58/a4a65efcce5c81a67b6893ade862736de355a3a718af5533d30c991831ce/ipython_autotime-0.2.0-py2.py3-none-any.whl\n",
      "Requirement already satisfied: ipython in /usr/local/lib/python3.6/dist-packages (from ipython-autotime) (5.5.0)\n",
      "Requirement already satisfied: simplegeneric>0.8 in /usr/local/lib/python3.6/dist-packages (from ipython->ipython-autotime) (0.8.1)\n",
      "Requirement already satisfied: pygments in /usr/local/lib/python3.6/dist-packages (from ipython->ipython-autotime) (2.6.1)\n",
      "Requirement already satisfied: pexpect; sys_platform != \"win32\" in /usr/local/lib/python3.6/dist-packages (from ipython->ipython-autotime) (4.8.0)\n",
      "Requirement already satisfied: decorator in /usr/local/lib/python3.6/dist-packages (from ipython->ipython-autotime) (4.4.2)\n",
      "Requirement already satisfied: traitlets>=4.2 in /usr/local/lib/python3.6/dist-packages (from ipython->ipython-autotime) (4.3.3)\n",
      "Requirement already satisfied: prompt-toolkit<2.0.0,>=1.0.4 in /usr/local/lib/python3.6/dist-packages (from ipython->ipython-autotime) (1.0.18)\n",
      "Requirement already satisfied: pickleshare in /usr/local/lib/python3.6/dist-packages (from ipython->ipython-autotime) (0.7.5)\n",
      "Requirement already satisfied: setuptools>=18.5 in /usr/local/lib/python3.6/dist-packages (from ipython->ipython-autotime) (50.3.2)\n",
      "Requirement already satisfied: ptyprocess>=0.5 in /usr/local/lib/python3.6/dist-packages (from pexpect; sys_platform != \"win32\"->ipython->ipython-autotime) (0.6.0)\n",
      "Requirement already satisfied: ipython-genutils in /usr/local/lib/python3.6/dist-packages (from traitlets>=4.2->ipython->ipython-autotime) (0.2.0)\n",
      "Requirement already satisfied: six in /usr/local/lib/python3.6/dist-packages (from traitlets>=4.2->ipython->ipython-autotime) (1.15.0)\n",
      "Requirement already satisfied: wcwidth in /usr/local/lib/python3.6/dist-packages (from prompt-toolkit<2.0.0,>=1.0.4->ipython->ipython-autotime) (0.2.5)\n",
      "Installing collected packages: ipython-autotime\n",
      "Successfully installed ipython-autotime-0.2.0\n",
      "time: 3.59 s\n"
     ]
    }
   ],
   "source": [
    "# ---------------------------------------------------------------------------- #\n",
    "# An implementation of https://arxiv.org/pdf/1512.03385.pdf                    #\n",
    "# See section 4.2 for the model architecture on CIFAR-10                       #\n",
    "# Some part of the code was referenced from below                              #\n",
    "# https://github.com/pytorch/vision/blob/master/torchvision/models/resnet.py   #\n",
    "# ---------------------------------------------------------------------------- #\n",
    "!pip install ipython-autotime\n",
    "%load_ext autotime\n",
    "import matplotlib.pyplot as plt\n",
    "import numpy as np\n",
    "import torch\n",
    "import torch.nn as nn\n",
    "import torch.nn.functional as F\n",
    "import torchvision\n",
    "import torchvision.transforms as transforms\n",
    "\n",
    "\n",
    "# Device configuration\n",
    "device = torch.device('cuda' if torch.cuda.is_available() else 'cpu')\n",
    "\n"
   ]
  },
  {
   "cell_type": "code",
   "execution_count": 2,
   "metadata": {
    "colab": {
     "base_uri": "https://localhost:8080/"
    },
    "id": "ixieggsE7eQR",
    "outputId": "7e264308-0628-4b86-c5cf-35c0c1978831"
   },
   "outputs": [
    {
     "name": "stdout",
     "output_type": "stream",
     "text": [
      "time: 739 µs\n"
     ]
    }
   ],
   "source": [
    "# Hyper-parameters\n",
    "num_epochs = 60\n",
    "learning_rate = 0.01"
   ]
  },
  {
   "cell_type": "code",
   "execution_count": 3,
   "metadata": {
    "colab": {
     "base_uri": "https://localhost:8080/"
    },
    "id": "-RJoy91C7eTd",
    "outputId": "67fde5b9-7735-4b66-b90e-e20925c06c7b"
   },
   "outputs": [
    {
     "name": "stdout",
     "output_type": "stream",
     "text": [
      "time: 1.99 ms\n"
     ]
    }
   ],
   "source": [
    "# Image preprocessing modules\n",
    "transform = transforms.Compose([\n",
    "    transforms.Pad(4),\n",
    "    transforms.RandomHorizontalFlip(),\n",
    "    transforms.RandomCrop(32),\n",
    "    #transforms.ColorJitter(brightness=0, contrast=0, saturation=0, hue=0),\n",
    "    #transforms.RandomRotation(degrees=[-10,10], resample=False, expand=False, center=None, fill=0),\n",
    "    transforms.ToTensor(),\n",
    "    #transforms.Normalize((0.4914, 0.4822, 0.4465), (0.2023, 0.1994, 0.2010)),\n",
    "    #transforms.Normalize((0.5, 0.5, 0.5), (0.5, 0.5, 0.5))\n",
    "    ])"
   ]
  },
  {
   "cell_type": "code",
   "execution_count": 4,
   "metadata": {
    "colab": {
     "base_uri": "https://localhost:8080/"
    },
    "id": "AKqgCvcN3G86",
    "outputId": "2e442469-040e-40ca-a66d-427053e808a4"
   },
   "outputs": [
    {
     "name": "stdout",
     "output_type": "stream",
     "text": [
      "time: 4.39 ms\n"
     ]
    }
   ],
   "source": [
    "#transform_train = transforms.Compose([\n",
    "#    transforms.RandomCrop(32, padding=4),\n",
    "#    transforms.RandomHorizontalFlip(),\n",
    "#    transforms.ToTensor(),\n",
    "#    transforms.Normalize((0.4914, 0.4822, 0.4465), (0.2023, 0.1994, 0.2010)),\n",
    "#])\n",
    "\n",
    "#transform_test = transforms.Compose([\n",
    "#    transforms.ToTensor(),\n",
    "#    transforms.Normalize((0.4914, 0.4822, 0.4465), (0.2023, 0.1994, 0.2010)),\n",
    "#])\n"
   ]
  },
  {
   "cell_type": "code",
   "execution_count": 5,
   "metadata": {
    "colab": {
     "base_uri": "https://localhost:8080/",
     "height": 100,
     "referenced_widgets": [
      "3248edf3f34e4b218371d129a77229b9",
      "6e7290f306f74997a62fc7f33e2b5037",
      "9374ad4e564a4c06908da89dcc893135",
      "1249da4947d64c11b705133bf21c56bd",
      "8de270e8e59647c9bc6ebada1a0cd002",
      "ffa9f6216fff419391cfc68d8c7460db",
      "a7b54f1ee93644bcba7c6e6fd5aba33f",
      "c4152033671842bca9e50a20703fac9f"
     ]
    },
    "id": "4vFQ-c_D7eWp",
    "outputId": "ca144555-333d-4311-cc21-1483fe3f46ed"
   },
   "outputs": [
    {
     "name": "stdout",
     "output_type": "stream",
     "text": [
      "Downloading https://www.cs.toronto.edu/~kriz/cifar-10-python.tar.gz to ../../data/cifar-10-python.tar.gz\n"
     ]
    },
    {
     "data": {
      "application/vnd.jupyter.widget-view+json": {
       "model_id": "3248edf3f34e4b218371d129a77229b9",
       "version_major": 2,
       "version_minor": 0
      },
      "text/plain": [
       "HBox(children=(FloatProgress(value=1.0, bar_style='info', max=1.0), HTML(value='')))"
      ]
     },
     "metadata": {
      "tags": []
     },
     "output_type": "display_data"
    },
    {
     "name": "stdout",
     "output_type": "stream",
     "text": [
      "Extracting ../../data/cifar-10-python.tar.gz to ../../data/\n",
      "time: 4.74 s\n"
     ]
    }
   ],
   "source": [
    "# CIFAR-10 dataset\n",
    "train_dataset = torchvision.datasets.CIFAR10(root='../../data/',\n",
    "                                             train=True, \n",
    "                                             transform=transform,\n",
    "                                             download=True)\n",
    "\n",
    "test_dataset = torchvision.datasets.CIFAR10(root='../../data/',\n",
    "                                            train=False, \n",
    "                                            transform=transforms.ToTensor())"
   ]
  },
  {
   "cell_type": "code",
   "execution_count": 6,
   "metadata": {
    "colab": {
     "base_uri": "https://localhost:8080/"
    },
    "id": "78eYeI8H7eZi",
    "outputId": "21a25f63-e7d7-47da-d394-3a7c80215cba"
   },
   "outputs": [
    {
     "name": "stdout",
     "output_type": "stream",
     "text": [
      "time: 2.31 ms\n"
     ]
    }
   ],
   "source": [
    "# Data loader\n",
    "train_loader = torch.utils.data.DataLoader(dataset=train_dataset,\n",
    "                                           batch_size=32, \n",
    "                                           shuffle=True)\n",
    "\n",
    "test_loader = torch.utils.data.DataLoader(dataset=test_dataset,\n",
    "                                          batch_size=32, \n",
    "                                          shuffle=False)\n",
    "\n",
    "classes = ('plane', 'car', 'bird', 'cat',\n",
    "           'deer', 'dog', 'frog', 'horse', 'ship', 'truck')\n",
    "\n"
   ]
  },
  {
   "cell_type": "code",
   "execution_count": 7,
   "metadata": {
    "colab": {
     "base_uri": "https://localhost:8080/",
     "height": 271
    },
    "id": "7hW9WNjPii86",
    "outputId": "db035980-692f-4a0e-bca2-9a413fe53aae"
   },
   "outputs": [
    {
     "data": {
      "image/png": "[encoded data removed]",
      "text/plain": [
       "<Figure size 432x288 with 1 Axes>"
      ]
     },
     "metadata": {
      "needs_background": "light",
      "tags": []
     },
     "output_type": "display_data"
    },
    {
     "name": "stdout",
     "output_type": "stream",
     "text": [
      "\n",
      "plane horse  deer   dog\n",
      "time: 340 ms\n"
     ]
    }
   ],
   "source": [
    "# functions to show an image\n",
    "\n",
    "\n",
    "def imshow(img):\n",
    "    img = img / 2 + 0.5     # unnormalize\n",
    "    npimg = img.numpy()\n",
    "    plt.imshow(np.transpose(npimg, (1, 2, 0)))\n",
    "    plt.show()\n",
    "\n",
    "\n",
    "# get some random training images\n",
    "dataiter = iter(train_loader)\n",
    "images, labels = dataiter.next()\n",
    "\n",
    "# show images\n",
    "imshow(torchvision.utils.make_grid(images))\n",
    "# print labels\n",
    "print(' '.join('%5s' % classes[labels[j]] for j in range(4)))"
   ]
  },
  {
   "cell_type": "code",
   "execution_count": 8,
   "metadata": {
    "colab": {
     "base_uri": "https://localhost:8080/"
    },
    "id": "-YJAT2jCimio",
    "outputId": "0933c07d-2222-4288-b2d5-abf0f6ee4e2e"
   },
   "outputs": [
    {
     "name": "stdout",
     "output_type": "stream",
     "text": [
      "time: 1.48 ms\n"
     ]
    }
   ],
   "source": [
    "# 3x3 convolution\n",
    "def conv3x3(in_channels, out_channels, stride=1):\n",
    "    return nn.Conv2d(in_channels, out_channels, kernel_size=3, \n",
    "                     stride=stride, padding=1, bias=False)"
   ]
  },
  {
   "cell_type": "code",
   "execution_count": 9,
   "metadata": {
    "colab": {
     "base_uri": "https://localhost:8080/"
    },
    "id": "xd6Th-OF7emh",
    "outputId": "786272c1-63dd-442b-f242-48683675d178"
   },
   "outputs": [
    {
     "name": "stdout",
     "output_type": "stream",
     "text": [
      "time: 27.2 ms\n"
     ]
    }
   ],
   "source": [
    "class BasicBlock(nn.Module):\n",
    "    expansion = 1\n",
    "\n",
    "    def __init__(self, in_planes, planes, stride=1):\n",
    "        super(BasicBlock, self).__init__()\n",
    "        #dropout=0.4\n",
    "        #dropout = 0 if dropout is None else dropout\n",
    "        self.conv1 = nn.Conv2d(in_planes, planes, kernel_size=3, stride=stride, padding=1, bias=False)\n",
    "        self.bn1 = nn.BatchNorm2d(planes)\n",
    "        self.conv2 = nn.Conv2d(planes, planes, kernel_size=3, stride=1, padding=1, bias=False)\n",
    "        self.bn2 = nn.BatchNorm2d(planes)\n",
    "        #self.dropout = nn.Dropout(dropout)\n",
    "\n",
    "        self.shortcut = nn.Sequential()\n",
    "        if stride != 1 or in_planes != self.expansion*planes:\n",
    "            self.shortcut = nn.Sequential(\n",
    "                nn.Conv2d(in_planes, self.expansion*planes, kernel_size=1, stride=stride, bias=False),\n",
    "                nn.BatchNorm2d(self.expansion*planes)\n",
    "            )\n",
    "\n",
    "    def forward(self, x):\n",
    "        out = F.relu(self.bn1(self.conv1(x)))\n",
    "        out = self.bn2(self.conv2(out))\n",
    "        #out = self.dropout(out)\n",
    "        out += self.shortcut(x)\n",
    "        out = F.relu(out)\n",
    "        \n",
    "        return out"
   ]
  },
  {
   "cell_type": "code",
   "execution_count": 10,
   "metadata": {
    "colab": {
     "base_uri": "https://localhost:8080/"
    },
    "id": "J0_toKu87e3j",
    "outputId": "1fbb9c73-1347-4db6-e532-01b9359fde3b"
   },
   "outputs": [
    {
     "name": "stdout",
     "output_type": "stream",
     "text": [
      "time: 21.3 ms\n"
     ]
    }
   ],
   "source": [
    "class Bottleneck(nn.Module):\n",
    "    expansion = 4\n",
    "\n",
    "    def __init__(self, in_planes, planes, stride=1):\n",
    "        super(Bottleneck, self).__init__()\n",
    "        dropout=0.30\n",
    "        self.conv1 = nn.Conv2d(in_planes, planes, kernel_size=1, bias=False)\n",
    "        self.bn1 = nn.BatchNorm2d(planes)\n",
    "        self.conv2 = nn.Conv2d(planes, planes, kernel_size=3, stride=stride, padding=1, bias=False)\n",
    "        self.bn2 = nn.BatchNorm2d(planes)\n",
    "        self.conv3 = nn.Conv2d(planes, self.expansion*planes, kernel_size=1, bias=False)\n",
    "        self.bn3 = nn.BatchNorm2d(self.expansion*planes)\n",
    "        self.dropout = nn.Dropout(dropout)\n",
    "\n",
    "        self.shortcut = nn.Sequential()\n",
    "        if stride != 1 or in_planes != self.expansion*planes:\n",
    "            self.shortcut = nn.Sequential(\n",
    "                nn.Conv2d(in_planes, self.expansion*planes, kernel_size=1, stride=stride, bias=False),\n",
    "                nn.BatchNorm2d(self.expansion*planes)\n",
    "            )\n",
    "\n",
    "    def forward(self, x):\n",
    "        out = F.relu(self.bn1(self.conv1(x)))\n",
    "        out = F.relu(self.bn2(self.conv2(out)))\n",
    "        out = self.bn3(self.conv3(out))\n",
    "        out = self.dropout(out)\n",
    "        out += self.shortcut(x)\n",
    "        out = F.relu(out)\n",
    "        return out"
   ]
  },
  {
   "cell_type": "code",
   "execution_count": 11,
   "metadata": {
    "colab": {
     "base_uri": "https://localhost:8080/"
    },
    "id": "HpFNWO6-7ejB",
    "outputId": "658c14d2-a1a3-4146-b7c2-bf4bda6cfe5d"
   },
   "outputs": [
    {
     "name": "stdout",
     "output_type": "stream",
     "text": [
      "time: 23.4 ms\n"
     ]
    }
   ],
   "source": [
    "class ResNet(nn.Module):\n",
    "    def __init__(self, block, num_blocks, num_classes=10):\n",
    "        super(ResNet, self).__init__()\n",
    "        self.in_planes = 64\n",
    "\n",
    "        self.conv1 = nn.Conv2d(3, 64, kernel_size=3, stride=1, padding=1, bias=False)\n",
    "        self.bn1 = nn.BatchNorm2d(64)\n",
    "        self.layer1 = self._make_layer(block, 64, num_blocks[0], stride=1)\n",
    "        self.layer2 = self._make_layer(block, 128, num_blocks[1], stride=2)\n",
    "        self.layer3 = self._make_layer(block, 256, num_blocks[2], stride=2)\n",
    "        self.layer4 = self._make_layer(block, 512, num_blocks[3], stride=2)\n",
    "        self.linear = nn.Linear(512*block.expansion, num_classes)\n",
    "\n",
    "    def _make_layer(self, block, planes, num_blocks, stride):\n",
    "        strides = [stride] + [1]*(num_blocks-1)\n",
    "        layers = []\n",
    "        for stride in strides:\n",
    "            layers.append(block(self.in_planes, planes, stride))\n",
    "            self.in_planes = planes * block.expansion\n",
    "        return nn.Sequential(*layers)\n",
    "\n",
    "    def forward(self, x):\n",
    "        out = F.relu(self.bn1(self.conv1(x)))\n",
    "        out = self.layer1(out)\n",
    "        out = self.layer2(out)\n",
    "        out = self.layer3(out)\n",
    "        out = self.layer4(out)\n",
    "        out = F.avg_pool2d(out, 4)\n",
    "        out = out.view(out.size(0), -1)\n",
    "        out = self.linear(out)\n",
    "        return out"
   ]
  },
  {
   "cell_type": "code",
   "execution_count": 12,
   "metadata": {
    "colab": {
     "base_uri": "https://localhost:8080/"
    },
    "id": "VivXxrw08DW7",
    "outputId": "4ff6f45c-11d4-4178-9211-d0156f286562"
   },
   "outputs": [
    {
     "name": "stdout",
     "output_type": "stream",
     "text": [
      "time: 10.6 s\n"
     ]
    }
   ],
   "source": [
    "#RESNET-18\n",
    "#model = ResNet(BasicBlock, [2,2,2,2]).to(device)\n",
    "#RESNET-34\n",
    "model = ResNet(BasicBlock, [3,4,6,3]).to(device)\n",
    "#RESNET-50\n",
    "#model = ResNet(Bottleneck, [3,4,6,3]).to(device)\n",
    "#RESNET-101\n",
    "#model = ResNet(Bottleneck, [3,4,23,3]).to(device)\n",
    "#RESNET-152\n",
    "#model = ResNet(Bottleneck, [3,8,36,3]).to(device)\n"
   ]
  },
  {
   "cell_type": "code",
   "execution_count": 13,
   "metadata": {
    "colab": {
     "base_uri": "https://localhost:8080/"
    },
    "id": "EiyEBpKI8Dge",
    "outputId": "aaa80ef3-a465-40cd-8c5e-34b17a8418eb"
   },
   "outputs": [
    {
     "name": "stdout",
     "output_type": "stream",
     "text": [
      "time: 6.84 ms\n"
     ]
    }
   ],
   "source": [
    "# Loss and optimizer\n",
    "criterion = nn.CrossEntropyLoss()\n",
    "#optimizer = torch.optim.Adam(model.parameters(), lr=learning_rate)\n",
    "optimizer = torch.optim.Adam(model.parameters(), lr=learning_rate,weight_decay=1e-5)\n",
    "#optimizer = torch.optim.Adam(model.parameters(), lr=learning_rate, momentum=0.9, weight_decay=5e-4)\n",
    "#optimizer = torch.optim.SGD(model.parameters(), lr=learning_rate, momentum=0.9, weight_decay=5e-4)\n",
    "#optimizer = torch.optim.SGD(model.parameters(), lr=learning_rate)\n",
    "\n",
    "# For updating learning rate\n",
    "def update_lr(optimizer, lr):    \n",
    "    for param_group in optimizer.param_groups:\n",
    "        param_group['lr'] = lr"
   ]
  },
  {
   "cell_type": "code",
   "execution_count": 14,
   "metadata": {
    "colab": {
     "base_uri": "https://localhost:8080/"
    },
    "id": "dRNxNEUy8DeB",
    "outputId": "6188a2c2-23fe-4482-dd6c-0c6829497cca"
   },
   "outputs": [
    {
     "name": "stdout",
     "output_type": "stream",
     "text": [
      "Epoch [1/60], Train Loss: 1.3165 Train Accuracy: 31.94 %\n",
      "Epoch [2/60], Train Loss: 1.3840 Train Accuracy: 48.77 %\n",
      "Epoch [3/60], Train Loss: 1.4785 Train Accuracy: 60.03 %\n",
      "Epoch [4/60], Train Loss: 0.8211 Train Accuracy: 65.81 %\n",
      "Epoch [5/60], Train Loss: 0.4494 Train Accuracy: 70.71 %\n",
      "Epoch [6/60], Train Loss: 0.7178 Train Accuracy: 73.16 %\n",
      "Epoch [7/60], Train Loss: 1.1605 Train Accuracy: 75.6 %\n",
      "Epoch [8/60], Train Loss: 0.3143 Train Accuracy: 76.67 %\n",
      "Epoch [9/60], Train Loss: 0.2049 Train Accuracy: 77.56 %\n",
      "Epoch [10/60], Train Loss: 0.8974 Train Accuracy: 78.31 %\n",
      "Epoch [11/60], Train Loss: 0.1998 Train Accuracy: 78.95 %\n",
      "Epoch [12/60], Train Loss: 0.3003 Train Accuracy: 79.22 %\n",
      "Epoch [13/60], Train Loss: 0.3149 Train Accuracy: 79.6 %\n",
      "Epoch [14/60], Train Loss: 0.5515 Train Accuracy: 80.07 %\n",
      "Epoch [15/60], Train Loss: 0.7127 Train Accuracy: 80.35 %\n",
      "Epoch [16/60], Train Loss: 0.4306 Train Accuracy: 80.55 %\n",
      "Epoch [17/60], Train Loss: 0.4598 Train Accuracy: 80.86 %\n",
      "Epoch [18/60], Train Loss: 0.8995 Train Accuracy: 81.12 %\n",
      "Epoch [19/60], Train Loss: 0.3298 Train Accuracy: 81.17 %\n",
      "Epoch [20/60], Train Loss: 0.4882 Train Accuracy: 81.45 %\n",
      "Epoch [21/60], Train Loss: 0.4166 Train Accuracy: 85.34 %\n",
      "Epoch [22/60], Train Loss: 0.5324 Train Accuracy: 86.16 %\n",
      "Epoch [23/60], Train Loss: 0.4897 Train Accuracy: 86.65 %\n",
      "Epoch [24/60], Train Loss: 0.0663 Train Accuracy: 86.92 %\n",
      "Epoch [25/60], Train Loss: 0.5995 Train Accuracy: 87.03 %\n",
      "Epoch [26/60], Train Loss: 0.2750 Train Accuracy: 87.16 %\n",
      "Epoch [27/60], Train Loss: 0.2114 Train Accuracy: 87.61 %\n",
      "Epoch [28/60], Train Loss: 0.6918 Train Accuracy: 87.7 %\n",
      "Epoch [29/60], Train Loss: 0.4160 Train Accuracy: 87.68 %\n",
      "Epoch [30/60], Train Loss: 0.4513 Train Accuracy: 87.9 %\n",
      "Epoch [31/60], Train Loss: 0.2111 Train Accuracy: 87.79 %\n",
      "Epoch [32/60], Train Loss: 0.3254 Train Accuracy: 88.06 %\n",
      "Epoch [33/60], Train Loss: 0.4040 Train Accuracy: 88.28 %\n",
      "Epoch [34/60], Train Loss: 0.5119 Train Accuracy: 88.57 %\n",
      "Epoch [35/60], Train Loss: 0.3829 Train Accuracy: 88.33 %\n",
      "Epoch [36/60], Train Loss: 0.5948 Train Accuracy: 88.44 %\n",
      "Epoch [37/60], Train Loss: 0.3594 Train Accuracy: 88.22 %\n",
      "Epoch [38/60], Train Loss: 0.3807 Train Accuracy: 88.66 %\n",
      "Epoch [39/60], Train Loss: 0.2431 Train Accuracy: 88.52 %\n",
      "Epoch [40/60], Train Loss: 0.7209 Train Accuracy: 88.79 %\n",
      "Epoch [41/60], Train Loss: 0.1658 Train Accuracy: 90.63 %\n",
      "Epoch [42/60], Train Loss: 0.3152 Train Accuracy: 91.14 %\n",
      "Epoch [43/60], Train Loss: 0.1229 Train Accuracy: 91.34 %\n",
      "Epoch [44/60], Train Loss: 0.1026 Train Accuracy: 91.6 %\n",
      "Epoch [45/60], Train Loss: 0.1463 Train Accuracy: 91.51 %\n",
      "Epoch [46/60], Train Loss: 0.1192 Train Accuracy: 91.68 %\n",
      "Epoch [47/60], Train Loss: 0.3429 Train Accuracy: 91.88 %\n",
      "Epoch [48/60], Train Loss: 0.1001 Train Accuracy: 91.86 %\n",
      "Epoch [49/60], Train Loss: 0.1742 Train Accuracy: 92.01 %\n",
      "Epoch [50/60], Train Loss: 0.3250 Train Accuracy: 92.19 %\n",
      "Epoch [51/60], Train Loss: 0.2132 Train Accuracy: 92.24 %\n",
      "Epoch [52/60], Train Loss: 0.5051 Train Accuracy: 92.32 %\n",
      "Epoch [53/60], Train Loss: 0.3978 Train Accuracy: 92.35 %\n",
      "Epoch [54/60], Train Loss: 0.1281 Train Accuracy: 92.27 %\n",
      "Epoch [55/60], Train Loss: 0.0894 Train Accuracy: 92.49 %\n",
      "Epoch [56/60], Train Loss: 0.0608 Train Accuracy: 92.56 %\n",
      "Epoch [57/60], Train Loss: 0.0670 Train Accuracy: 92.64 %\n",
      "Epoch [58/60], Train Loss: 0.2470 Train Accuracy: 92.62 %\n",
      "Epoch [59/60], Train Loss: 0.4947 Train Accuracy: 92.72 %\n",
      "Epoch [60/60], Train Loss: 0.3194 Train Accuracy: 92.61 %\n",
      "time: 1h 48min 9s\n"
     ]
    }
   ],
   "source": [
    "# Train the model\n",
    "total_step = len(train_loader)\n",
    "curr_lr = learning_rate\n",
    "for epoch in range(num_epochs):\n",
    "    correct = 0\n",
    "    total = 0\n",
    "    for i,(images, labels) in enumerate(train_loader):\n",
    "        images = images.to(device)\n",
    "        labels = labels.to(device)\n",
    "\n",
    "        # Forward pass\n",
    "        outputs = model(images)\n",
    "        loss = criterion(outputs, labels)\n",
    "\n",
    "        # Backward and optimize\n",
    "        optimizer.zero_grad()\n",
    "        loss.backward()\n",
    "        optimizer.step()\n",
    "\n",
    "        _, predicted = torch.max(outputs.data, 1)\n",
    "        total += labels.size(0)\n",
    "        correct += (predicted == labels).sum().item()\n",
    "\n",
    "        #if (i+1) % 100 == 0:\n",
    "          \n",
    "    print (\"Epoch [{}/{}], Train Loss: {:.4f} Train Accuracy: {} %\"\n",
    "                   .format(epoch+1, num_epochs,  loss.item(),round((100 * correct / total),2)))\n",
    "\n",
    "    # Decay learning rate\n",
    "    if (epoch+1) % 20 == 0:\n",
    "        curr_lr /= 3\n",
    "        update_lr(optimizer, curr_lr)"
   ]
  },
  {
   "cell_type": "code",
   "execution_count": 15,
   "metadata": {
    "colab": {
     "base_uri": "https://localhost:8080/",
     "height": 85
    },
    "id": "-2-vn6CLxSBq",
    "outputId": "7f393c27-a937-41c7-ff82-1968c06e9418"
   },
   "outputs": [
    {
     "data": {
      "image/png": "[encoded data removed]",
      "text/plain": [
       "<Figure size 864x180 with 32 Axes>"
      ]
     },
     "metadata": {
      "tags": []
     },
     "output_type": "display_data"
    },
    {
     "name": "stdout",
     "output_type": "stream",
     "text": [
      "time: 883 ms\n"
     ]
    }
   ],
   "source": [
    "import matplotlib.pyplot as plt\n",
    "import numpy as np\n",
    "\n",
    "def convert_to_imshow_format(image):\n",
    "    # first convert back to [0,1] range from [-1,1] range\n",
    "    image = image / 2 + 0.5\n",
    "    image = image.numpy()\n",
    "    # convert from CHW to HWC\n",
    "    # from 3x32x32 to 32x32x3\n",
    "    return image.transpose(1,2,0)\n",
    "\n",
    "dataiter = iter(train_loader)\n",
    "images, labels = dataiter.next()\n",
    "\n",
    "fig, axes = plt.subplots(1, len(images), figsize=(12,2.5))\n",
    "for idx, image in enumerate(images):\n",
    "    axes[idx].imshow(convert_to_imshow_format(image))\n",
    "    axes[idx].set_title(classes[labels[idx]])\n",
    "    axes[idx].set_xticks([])\n",
    "    axes[idx].set_yticks([])"
   ]
  },
  {
   "cell_type": "code",
   "execution_count": 16,
   "metadata": {
    "colab": {
     "base_uri": "https://localhost:8080/",
     "height": 85
    },
    "id": "ytAhp0JWxCuV",
    "outputId": "934a889e-7837-4d4f-e3e0-a0390efae67a"
   },
   "outputs": [
    {
     "data": {
      "image/png": "[encoded data removed]",
      "text/plain": [
       "<Figure size 864x180 with 32 Axes>"
      ]
     },
     "metadata": {
      "tags": []
     },
     "output_type": "display_data"
    },
    {
     "name": "stdout",
     "output_type": "stream",
     "text": [
      "time: 921 ms\n"
     ]
    }
   ],
   "source": [
    "dataiter = iter(test_loader)\n",
    "images, labels = dataiter.next()\n",
    "\n",
    "fig, axes = plt.subplots(1, len(images), figsize=(12,2.5))\n",
    "for idx, image in enumerate(images):\n",
    "    axes[idx].imshow(convert_to_imshow_format(image))\n",
    "    axes[idx].set_title(classes[labels[idx]])\n",
    "    axes[idx].set_xticks([])\n",
    "    axes[idx].set_yticks([])"
   ]
  },
  {
   "cell_type": "code",
   "execution_count": 17,
   "metadata": {
    "colab": {
     "base_uri": "https://localhost:8080/"
    },
    "id": "4Bo-eyWBxn9T",
    "outputId": "830dc8c6-b6af-4a05-801a-f3f09b2b57ea"
   },
   "outputs": [
    {
     "name": "stdout",
     "output_type": "stream",
     "text": [
      "time: 15.2 ms\n"
     ]
    }
   ],
   "source": [
    "images = images.to(device)\n",
    "labels = labels.to(device)\n",
    "outputs = model(images)"
   ]
  },
  {
   "cell_type": "code",
   "execution_count": 18,
   "metadata": {
    "colab": {
     "base_uri": "https://localhost:8080/"
    },
    "id": "Wv_wo9I6yIMW",
    "outputId": "378f6f8b-5171-4188-8554-baf307e4041a"
   },
   "outputs": [
    {
     "name": "stdout",
     "output_type": "stream",
     "text": [
      "time: 1.67 ms\n"
     ]
    }
   ],
   "source": [
    "sm = nn.Softmax(dim=1)\n",
    "sm_outputs = sm(outputs)"
   ]
  },
  {
   "cell_type": "code",
   "execution_count": 19,
   "metadata": {
    "colab": {
     "base_uri": "https://localhost:8080/"
    },
    "id": "DfhHhpi2yO9q",
    "outputId": "de02c3d4-e0b9-4675-8f04-089f1e84bd0b"
   },
   "outputs": [
    {
     "name": "stdout",
     "output_type": "stream",
     "text": [
      "cat - 0.9981\n",
      "ship - 1.0000\n",
      "ship - 0.9994\n",
      "ship - 0.6655\n",
      "frog - 0.9995\n",
      "frog - 0.9991\n",
      "car - 0.9901\n",
      "frog - 0.5847\n",
      "cat - 0.9947\n",
      "car - 0.9853\n",
      "plane - 0.9994\n",
      "truck - 1.0000\n",
      "deer - 0.5206\n",
      "horse - 0.9848\n",
      "truck - 0.9999\n",
      "ship - 0.8725\n",
      "dog - 0.9998\n",
      "horse - 0.9999\n",
      "ship - 0.9989\n",
      "frog - 1.0000\n",
      "horse - 0.9185\n",
      "plane - 0.8980\n",
      "deer - 0.5184\n",
      "truck - 1.0000\n",
      "dog - 0.7674\n",
      "bird - 0.9723\n",
      "deer - 0.8034\n",
      "plane - 0.9992\n",
      "truck - 0.9999\n",
      "frog - 0.9999\n",
      "frog - 0.7505\n",
      "dog - 0.9999\n",
      "time: 12.8 ms\n"
     ]
    }
   ],
   "source": [
    "probs, index = torch.max(sm_outputs, dim=1)\n",
    "\n",
    "for p, i in zip(probs, index):\n",
    "    print('{0} - {1:.4f}'.format(classes[i], p))"
   ]
  },
  {
   "cell_type": "code",
   "execution_count": 20,
   "metadata": {
    "colab": {
     "base_uri": "https://localhost:8080/"
    },
    "id": "RiZftaxHyShZ",
    "outputId": "eef49d37-5caf-4e3d-be94-c3fb60cf46f7"
   },
   "outputs": [
    {
     "name": "stdout",
     "output_type": "stream",
     "text": [
      "Model accuracy on 10000 test images: 87.20%\n",
      "time: 6.96 s\n"
     ]
    }
   ],
   "source": [
    "total_correct = 0\n",
    "total_images = 0\n",
    "confusion_matrix = np.zeros([10,10], int)\n",
    "with torch.no_grad():\n",
    "    for data in test_loader:\n",
    "        images, labels = data\n",
    "        images = images.to(device)\n",
    "        labels = labels.to(device)\n",
    "        outputs = model(images)\n",
    "        _, predicted = torch.max(outputs.data, 1)\n",
    "        total_images += labels.size(0)\n",
    "        total_correct += (predicted == labels).sum().item()\n",
    "        for i, l in enumerate(labels):\n",
    "            confusion_matrix[l.item(), predicted[i].item()] += 1 \n",
    "\n",
    "model_accuracy = total_correct / total_images * 100\n",
    "print('Model accuracy on {0} test images: {1:.2f}%'.format(total_images, model_accuracy))"
   ]
  },
  {
   "cell_type": "code",
   "execution_count": 21,
   "metadata": {
    "colab": {
     "base_uri": "https://localhost:8080/"
    },
    "id": "6v5gH5D6y0sZ",
    "outputId": "41667718-457d-4af1-c1f2-d67e015231b1"
   },
   "outputs": [
    {
     "name": "stdout",
     "output_type": "stream",
     "text": [
      "Category   - Accuracy\n",
      "plane      - 87.4\n",
      "car        - 94.0\n",
      "bird       - 80.7\n",
      "cat        - 77.0\n",
      "deer       - 86.3\n",
      "dog        - 79.1\n",
      "frog       - 89.3\n",
      "horse      - 90.6\n",
      "ship       - 94.4\n",
      "truck      - 93.2\n",
      "time: 6.17 ms\n"
     ]
    }
   ],
   "source": [
    "print('{0:10s} - {1}'.format('Category','Accuracy'))\n",
    "for i, r in enumerate(confusion_matrix):\n",
    "    print('{0:10s} - {1:.1f}'.format(classes[i], r[i]/np.sum(r)*100))"
   ]
  },
  {
   "cell_type": "code",
   "execution_count": 22,
   "metadata": {
    "colab": {
     "base_uri": "https://localhost:8080/",
     "height": 405
    },
    "id": "UHszLmdNy5v_",
    "outputId": "20f6d1a1-25d8-449e-92c5-d3a38e6d1ded"
   },
   "outputs": [
    {
     "data": {
      "image/png": "[encoded data removed]",
      "text/plain": [
       "<Figure size 576x432 with 1 Axes>"
      ]
     },
     "metadata": {
      "needs_background": "light",
      "tags": []
     },
     "output_type": "display_data"
    },
    {
     "name": "stdout",
     "output_type": "stream",
     "text": [
      "time: 126 ms\n"
     ]
    }
   ],
   "source": [
    "fig, ax = plt.subplots(1,1,figsize=(8,6))\n",
    "ax.matshow(confusion_matrix, aspect='auto', vmin=0, vmax=1000, cmap=plt.get_cmap('Blues'))\n",
    "plt.ylabel('Actual Category')\n",
    "plt.yticks(range(10), classes)\n",
    "plt.xlabel('Predicted Category')\n",
    "plt.xticks(range(10), classes)\n",
    "plt.show()"
   ]
  },
  {
   "cell_type": "code",
   "execution_count": 23,
   "metadata": {
    "colab": {
     "base_uri": "https://localhost:8080/"
    },
    "id": "6GgvDmpGzEfH",
    "outputId": "e4593838-bd8b-451b-ff0d-b33eaf366258"
   },
   "outputs": [
    {
     "name": "stdout",
     "output_type": "stream",
     "text": [
      "actual/pred     plane     car       bird      cat       deer      dog       frog      horse     ship      truck     \n",
      "plane           874       4         23        10        9         1         2         6         56        15        \n",
      "                0.874     0.004     0.023     0.01      0.009     0.001     0.002     0.006     0.056     0.015     \n",
      "car             3         940       0         2         0         0         0         0         11        44        \n",
      "                0.003     0.94      0.0       0.002     0.0       0.0       0.0       0.0       0.011     0.044     \n",
      "bird            32        1         807       38        38        23        33        14        9         5         \n",
      "                0.032     0.001     0.807     0.038     0.038     0.023     0.033     0.014     0.009     0.005     \n",
      "cat             18        2         29        770       30        84        25        22        12        8         \n",
      "                0.018     0.002     0.029     0.77      0.03      0.084     0.025     0.022     0.012     0.008     \n",
      "deer            12        1         30        31        863       17        9         29        3         5         \n",
      "                0.012     0.001     0.03      0.031     0.863     0.017     0.009     0.029     0.003     0.005     \n",
      "dog             6         1         21        119       19        791       7         30        4         2         \n",
      "                0.006     0.001     0.021     0.119     0.019     0.791     0.007     0.03      0.004     0.002     \n",
      "frog            4         5         21        37        16        10        893       5         4         5         \n",
      "                0.004     0.005     0.021     0.037     0.016     0.01      0.893     0.005     0.004     0.005     \n",
      "horse           10        0         11        33        19        15        0         906       2         4         \n",
      "                0.01      0.0       0.011     0.033     0.019     0.015     0.0       0.906     0.002     0.004     \n",
      "ship            25        7         2         0         0         1         3         3         944       15        \n",
      "                0.025     0.007     0.002     0.0       0.0       0.001     0.003     0.003     0.944     0.015     \n",
      "truck           14        29        4         3         0         1         0         1         16        932       \n",
      "                0.014     0.029     0.004     0.003     0.0       0.001     0.0       0.001     0.016     0.932     \n",
      "time: 20.3 ms\n"
     ]
    }
   ],
   "source": [
    "print('actual/pred'.ljust(16), end='')\n",
    "for i,c in enumerate(classes):\n",
    "    print(c.ljust(10), end='')\n",
    "print()\n",
    "for i,r in enumerate(confusion_matrix):\n",
    "    print(classes[i].ljust(16), end='')\n",
    "    for idx, p in enumerate(r):\n",
    "        print(str(p).ljust(10), end='')\n",
    "    print()\n",
    "    \n",
    "    r = r/np.sum(r)\n",
    "    print(''.ljust(16), end='')\n",
    "    for idx, p in enumerate(r):\n",
    "        print(str(p).ljust(10), end='')\n",
    "    print()"
   ]
  },
  {
   "cell_type": "code",
   "execution_count": 24,
   "metadata": {
    "colab": {
     "base_uri": "https://localhost:8080/"
    },
    "id": "pZ5U1tkZ7ecu",
    "outputId": "5629e2a5-d09a-4a19-e875-ab78c5ce7413"
   },
   "outputs": [
    {
     "name": "stdout",
     "output_type": "stream",
     "text": [
      "time: 192 ms\n"
     ]
    }
   ],
   "source": [
    "# Save the model checkpoint\n",
    "torch.save(model.state_dict(), 'resnet.ckpt')"
   ]
  },
  {
   "cell_type": "code",
   "execution_count": 25,
   "metadata": {
    "colab": {
     "base_uri": "https://localhost:8080/"
    },
    "id": "2x-t3dD2-H5A",
    "outputId": "a9288b47-8b61-4df2-b544-9c653a11ba4e"
   },
   "outputs": [
    {
     "data": {
      "text/plain": [
       "21282122"
      ]
     },
     "execution_count": 25,
     "metadata": {
      "tags": []
     },
     "output_type": "execute_result"
    },
    {
     "name": "stdout",
     "output_type": "stream",
     "text": [
      "time: 9.59 ms\n"
     ]
    }
   ],
   "source": [
    "pytorch_total_params = sum(p.numel() for p in model.parameters())\n",
    "pytorch_total_params"
   ]
  }
 ],
 "metadata": {
  "accelerator": "GPU",
  "colab": {
   "collapsed_sections": [],
   "name": "RESNET_34(64)_60_adam_decay_dropout.ipynb",
   "provenance": []
  },
  "kernelspec": {
   "display_name": "Python 3",
   "language": "python",
   "name": "python3"
  },
  "language_info": {
   "codemirror_mode": {
    "name": "ipython",
    "version": 3
   },
   "file_extension": ".py",
   "mimetype": "text/x-python",
   "name": "python",
   "nbconvert_exporter": "python",
   "pygments_lexer": "ipython3",
   "version": "3.7.4"
  },
  "widgets": {
   "application/vnd.jupyter.widget-state+json": {
    "1249da4947d64c11b705133bf21c56bd": {
     "model_module": "@jupyter-widgets/controls",
     "model_name": "HTMLModel",
     "state": {
      "_dom_classes": [],
      "_model_module": "@jupyter-widgets/controls",
      "_model_module_version": "1.5.0",
      "_model_name": "HTMLModel",
      "_view_count": null,
      "_view_module": "@jupyter-widgets/controls",
      "_view_module_version": "1.5.0",
      "_view_name": "HTMLView",
      "description": "",
      "description_tooltip": null,
      "layout": "IPY_MODEL_c4152033671842bca9e50a20703fac9f",
      "placeholder": "​",
      "style": "IPY_MODEL_a7b54f1ee93644bcba7c6e6fd5aba33f",
      "value": " 170500096/? [00:05&lt;00:00, 33450734.39it/s]"
     }
    },
    "3248edf3f34e4b218371d129a77229b9": {
     "model_module": "@jupyter-widgets/controls",
     "model_name": "HBoxModel",
     "state": {
      "_dom_classes": [],
      "_model_module": "@jupyter-widgets/controls",
      "_model_module_version": "1.5.0",
      "_model_name": "HBoxModel",
      "_view_count": null,
      "_view_module": "@jupyter-widgets/controls",
      "_view_module_version": "1.5.0",
      "_view_name": "HBoxView",
      "box_style": "",
      "children": [
       "IPY_MODEL_9374ad4e564a4c06908da89dcc893135",
       "IPY_MODEL_1249da4947d64c11b705133bf21c56bd"
      ],
      "layout": "IPY_MODEL_6e7290f306f74997a62fc7f33e2b5037"
     }
    },
    "6e7290f306f74997a62fc7f33e2b5037": {
     "model_module": "@jupyter-widgets/base",
     "model_name": "LayoutModel",
     "state": {
      "_model_module": "@jupyter-widgets/base",
      "_model_module_version": "1.2.0",
      "_model_name": "LayoutModel",
      "_view_count": null,
      "_view_module": "@jupyter-widgets/base",
      "_view_module_version": "1.2.0",
      "_view_name": "LayoutView",
      "align_content": null,
      "align_items": null,
      "align_self": null,
      "border": null,
      "bottom": null,
      "display": null,
      "flex": null,
      "flex_flow": null,
      "grid_area": null,
      "grid_auto_columns": null,
      "grid_auto_flow": null,
      "grid_auto_rows": null,
      "grid_column": null,
      "grid_gap": null,
      "grid_row": null,
      "grid_template_areas": null,
      "grid_template_columns": null,
      "grid_template_rows": null,
      "height": null,
      "justify_content": null,
      "justify_items": null,
      "left": null,
      "margin": null,
      "max_height": null,
      "max_width": null,
      "min_height": null,
      "min_width": null,
      "object_fit": null,
      "object_position": null,
      "order": null,
      "overflow": null,
      "overflow_x": null,
      "overflow_y": null,
      "padding": null,
      "right": null,
      "top": null,
      "visibility": null,
      "width": null
     }
    },
    "8de270e8e59647c9bc6ebada1a0cd002": {
     "model_module": "@jupyter-widgets/controls",
     "model_name": "ProgressStyleModel",
     "state": {
      "_model_module": "@jupyter-widgets/controls",
      "_model_module_version": "1.5.0",
      "_model_name": "ProgressStyleModel",
      "_view_count": null,
      "_view_module": "@jupyter-widgets/base",
      "_view_module_version": "1.2.0",
      "_view_name": "StyleView",
      "bar_color": null,
      "description_width": "initial"
     }
    },
    "9374ad4e564a4c06908da89dcc893135": {
     "model_module": "@jupyter-widgets/controls",
     "model_name": "FloatProgressModel",
     "state": {
      "_dom_classes": [],
      "_model_module": "@jupyter-widgets/controls",
      "_model_module_version": "1.5.0",
      "_model_name": "FloatProgressModel",
      "_view_count": null,
      "_view_module": "@jupyter-widgets/controls",
      "_view_module_version": "1.5.0",
      "_view_name": "ProgressView",
      "bar_style": "success",
      "description": "",
      "description_tooltip": null,
      "layout": "IPY_MODEL_ffa9f6216fff419391cfc68d8c7460db",
      "max": 1,
      "min": 0,
      "orientation": "horizontal",
      "style": "IPY_MODEL_8de270e8e59647c9bc6ebada1a0cd002",
      "value": 1
     }
    },
    "a7b54f1ee93644bcba7c6e6fd5aba33f": {
     "model_module": "@jupyter-widgets/controls",
     "model_name": "DescriptionStyleModel",
     "state": {
      "_model_module": "@jupyter-widgets/controls",
      "_model_module_version": "1.5.0",
      "_model_name": "DescriptionStyleModel",
      "_view_count": null,
      "_view_module": "@jupyter-widgets/base",
      "_view_module_version": "1.2.0",
      "_view_name": "StyleView",
      "description_width": ""
     }
    },
    "c4152033671842bca9e50a20703fac9f": {
     "model_module": "@jupyter-widgets/base",
     "model_name": "LayoutModel",
     "state": {
      "_model_module": "@jupyter-widgets/base",
      "_model_module_version": "1.2.0",
      "_model_name": "LayoutModel",
      "_view_count": null,
      "_view_module": "@jupyter-widgets/base",
      "_view_module_version": "1.2.0",
      "_view_name": "LayoutView",
      "align_content": null,
      "align_items": null,
      "align_self": null,
      "border": null,
      "bottom": null,
      "display": null,
      "flex": null,
      "flex_flow": null,
      "grid_area": null,
      "grid_auto_columns": null,
      "grid_auto_flow": null,
      "grid_auto_rows": null,
      "grid_column": null,
      "grid_gap": null,
      "grid_row": null,
      "grid_template_areas": null,
      "grid_template_columns": null,
      "grid_template_rows": null,
      "height": null,
      "justify_content": null,
      "justify_items": null,
      "left": null,
      "margin": null,
      "max_height": null,
      "max_width": null,
      "min_height": null,
      "min_width": null,
      "object_fit": null,
      "object_position": null,
      "order": null,
      "overflow": null,
      "overflow_x": null,
      "overflow_y": null,
      "padding": null,
      "right": null,
      "top": null,
      "visibility": null,
      "width": null
     }
    },
    "ffa9f6216fff419391cfc68d8c7460db": {
     "model_module": "@jupyter-widgets/base",
     "model_name": "LayoutModel",
     "state": {
      "_model_module": "@jupyter-widgets/base",
      "_model_module_version": "1.2.0",
      "_model_name": "LayoutModel",
      "_view_count": null,
      "_view_module": "@jupyter-widgets/base",
      "_view_module_version": "1.2.0",
      "_view_name": "LayoutView",
      "align_content": null,
      "align_items": null,
      "align_self": null,
      "border": null,
      "bottom": null,
      "display": null,
      "flex": null,
      "flex_flow": null,
      "grid_area": null,
      "grid_auto_columns": null,
      "grid_auto_flow": null,
      "grid_auto_rows": null,
      "grid_column": null,
      "grid_gap": null,
      "grid_row": null,
      "grid_template_areas": null,
      "grid_template_columns": null,
      "grid_template_rows": null,
      "height": null,
      "justify_content": null,
      "justify_items": null,
      "left": null,
      "margin": null,
      "max_height": null,
      "max_width": null,
      "min_height": null,
      "min_width": null,
      "object_fit": null,
      "object_position": null,
      "order": null,
      "overflow": null,
      "overflow_x": null,
      "overflow_y": null,
      "padding": null,
      "right": null,
      "top": null,
      "visibility": null,
      "width": null
     }
    }
   }
  }
 },
 "nbformat": 4,
 "nbformat_minor": 1
}
