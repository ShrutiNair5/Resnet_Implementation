{
 "cells": [
  {
   "cell_type": "code",
   "execution_count": 1,
   "metadata": {
    "colab": {
     "base_uri": "https://localhost:8080/"
    },
    "id": "sJZZ9hNj7Ys1",
    "outputId": "4003633f-1e89-4d44-8312-f6ac4c42c2d8"
   },
   "outputs": [
    {
     "name": "stdout",
     "output_type": "stream",
     "text": [
      "Collecting ipython-autotime\n",
      "  Downloading https://files.pythonhosted.org/packages/3f/58/a4a65efcce5c81a67b6893ade862736de355a3a718af5533d30c991831ce/ipython_autotime-0.2.0-py2.py3-none-any.whl\n",
      "Requirement already satisfied: ipython in /usr/local/lib/python3.6/dist-packages (from ipython-autotime) (5.5.0)\n",
      "Requirement already satisfied: setuptools>=18.5 in /usr/local/lib/python3.6/dist-packages (from ipython->ipython-autotime) (50.3.2)\n",
      "Requirement already satisfied: traitlets>=4.2 in /usr/local/lib/python3.6/dist-packages (from ipython->ipython-autotime) (4.3.3)\n",
      "Requirement already satisfied: pygments in /usr/local/lib/python3.6/dist-packages (from ipython->ipython-autotime) (2.6.1)\n",
      "Requirement already satisfied: simplegeneric>0.8 in /usr/local/lib/python3.6/dist-packages (from ipython->ipython-autotime) (0.8.1)\n",
      "Requirement already satisfied: pickleshare in /usr/local/lib/python3.6/dist-packages (from ipython->ipython-autotime) (0.7.5)\n",
      "Requirement already satisfied: prompt-toolkit<2.0.0,>=1.0.4 in /usr/local/lib/python3.6/dist-packages (from ipython->ipython-autotime) (1.0.18)\n",
      "Requirement already satisfied: decorator in /usr/local/lib/python3.6/dist-packages (from ipython->ipython-autotime) (4.4.2)\n",
      "Requirement already satisfied: pexpect; sys_platform != \"win32\" in /usr/local/lib/python3.6/dist-packages (from ipython->ipython-autotime) (4.8.0)\n",
      "Requirement already satisfied: six in /usr/local/lib/python3.6/dist-packages (from traitlets>=4.2->ipython->ipython-autotime) (1.15.0)\n",
      "Requirement already satisfied: ipython-genutils in /usr/local/lib/python3.6/dist-packages (from traitlets>=4.2->ipython->ipython-autotime) (0.2.0)\n",
      "Requirement already satisfied: wcwidth in /usr/local/lib/python3.6/dist-packages (from prompt-toolkit<2.0.0,>=1.0.4->ipython->ipython-autotime) (0.2.5)\n",
      "Requirement already satisfied: ptyprocess>=0.5 in /usr/local/lib/python3.6/dist-packages (from pexpect; sys_platform != \"win32\"->ipython->ipython-autotime) (0.6.0)\n",
      "Installing collected packages: ipython-autotime\n",
      "Successfully installed ipython-autotime-0.2.0\n",
      "time: 3.64 s\n"
     ]
    }
   ],
   "source": [
    "# ---------------------------------------------------------------------------- #\n",
    "# An implementation of https://arxiv.org/pdf/1512.03385.pdf                    #\n",
    "# See section 4.2 for the model architecture on CIFAR-10                       #\n",
    "# Some part of the code was referenced from below                              #\n",
    "# https://github.com/pytorch/vision/blob/master/torchvision/models/resnet.py   #\n",
    "# ---------------------------------------------------------------------------- #\n",
    "!pip install ipython-autotime\n",
    "%load_ext autotime\n",
    "import matplotlib.pyplot as plt\n",
    "import numpy as np\n",
    "import torch\n",
    "import torch.nn as nn\n",
    "import torch.nn.functional as F\n",
    "import torchvision\n",
    "import torchvision.transforms as transforms\n",
    "\n",
    "\n",
    "# Device configuration\n",
    "device = torch.device('cuda' if torch.cuda.is_available() else 'cpu')\n",
    "\n"
   ]
  },
  {
   "cell_type": "code",
   "execution_count": 2,
   "metadata": {
    "colab": {
     "base_uri": "https://localhost:8080/"
    },
    "id": "ixieggsE7eQR",
    "outputId": "cf6c91f0-8c3d-4686-fc27-6c3ff854363f"
   },
   "outputs": [
    {
     "name": "stdout",
     "output_type": "stream",
     "text": [
      "time: 1.91 ms\n"
     ]
    }
   ],
   "source": [
    "# Hyper-parameters\n",
    "num_epochs = 80\n",
    "learning_rate = 0.01"
   ]
  },
  {
   "cell_type": "code",
   "execution_count": 3,
   "metadata": {
    "colab": {
     "base_uri": "https://localhost:8080/"
    },
    "id": "-RJoy91C7eTd",
    "outputId": "af2bd7f7-b8b5-4dbc-ae51-901b56fd771c"
   },
   "outputs": [
    {
     "name": "stdout",
     "output_type": "stream",
     "text": [
      "time: 7.51 ms\n"
     ]
    }
   ],
   "source": [
    "# Image preprocessing modules\n",
    "transform = transforms.Compose([\n",
    "    transforms.Pad(4),\n",
    "    transforms.RandomRotation((0,5)),\n",
    "    transforms.RandomHorizontalFlip(),\n",
    "    transforms.RandomCrop(32),\n",
    "    transforms.ColorJitter(brightness=0.5, contrast=0.5, saturation=0, hue=0),\n",
    "    #transforms.RandomHorizontalFlip(p=0.5),\n",
    "    transforms.RandomVerticalFlip(p=0.5),\n",
    "    #transforms.ColorJitter(brightness=0, contrast=0, saturation=0, hue=0),\n",
    "    #transforms.RandomRotation(degrees=[-10,10], resample=False, expand=False, center=None, fill=0),\n",
    "    transforms.ToTensor(),\n",
    "    #transforms.Normalize((0.4914, 0.4822, 0.4465), (0.2023, 0.1994, 0.2010)),\n",
    "    #transforms.Normalize((0.5, 0.5, 0.5), (0.5, 0.5, 0.5))\n",
    "    ])"
   ]
  },
  {
   "cell_type": "code",
   "execution_count": 3,
   "metadata": {
    "id": "UjCnhcUluLFw"
   },
   "outputs": [],
   "source": []
  },
  {
   "cell_type": "code",
   "execution_count": 4,
   "metadata": {
    "colab": {
     "base_uri": "https://localhost:8080/"
    },
    "id": "AKqgCvcN3G86",
    "outputId": "76a135f4-3743-426e-aaa9-546674b0c280"
   },
   "outputs": [
    {
     "name": "stdout",
     "output_type": "stream",
     "text": [
      "time: 1.91 ms\n"
     ]
    }
   ],
   "source": [
    "#transform_train = transforms.Compose([\n",
    "#    transforms.RandomCrop(32, padding=4),\n",
    "#    transforms.RandomHorizontalFlip(),\n",
    "#    transforms.ToTensor(),\n",
    "#    transforms.Normalize((0.4914, 0.4822, 0.4465), (0.2023, 0.1994, 0.2010)),\n",
    "#])\n",
    "\n",
    "#transform_test = transforms.Compose([\n",
    "#    transforms.ToTensor(),\n",
    "#    transforms.Normalize((0.4914, 0.4822, 0.4465), (0.2023, 0.1994, 0.2010)),\n",
    "#])\n"
   ]
  },
  {
   "cell_type": "code",
   "execution_count": 5,
   "metadata": {
    "colab": {
     "base_uri": "https://localhost:8080/",
     "height": 100,
     "referenced_widgets": [
      "3efa1ad6f48b4b65a5a3225874039c3a",
      "b968a8a7da924fb1a0716abb951f5c81",
      "323ecef9d110449c9ad192ecfc4962f0",
      "33b4c6f3a7064488a2473cff38de1c60",
      "d328c68baf624ccfb5dce751ab3402e1",
      "d4ff107f847443458de06ca0cf593914",
      "ad591c6e74e9411d864938ade8948f8c",
      "2776572a917043f7bc4972839ff17d06"
     ]
    },
    "id": "4vFQ-c_D7eWp",
    "outputId": "2650a735-cb02-40b1-fb21-bd9153da5e5e"
   },
   "outputs": [
    {
     "name": "stdout",
     "output_type": "stream",
     "text": [
      "Downloading https://www.cs.toronto.edu/~kriz/cifar-10-python.tar.gz to ../../data/cifar-10-python.tar.gz\n"
     ]
    },
    {
     "data": {
      "application/vnd.jupyter.widget-view+json": {
       "model_id": "3efa1ad6f48b4b65a5a3225874039c3a",
       "version_major": 2,
       "version_minor": 0
      },
      "text/plain": [
       "HBox(children=(FloatProgress(value=1.0, bar_style='info', max=1.0), HTML(value='')))"
      ]
     },
     "metadata": {
      "tags": []
     },
     "output_type": "display_data"
    },
    {
     "name": "stdout",
     "output_type": "stream",
     "text": [
      "Extracting ../../data/cifar-10-python.tar.gz to ../../data/\n",
      "time: 4.99 s\n"
     ]
    }
   ],
   "source": [
    "# CIFAR-10 dataset\n",
    "train_dataset = torchvision.datasets.CIFAR10(root='../../data/',\n",
    "                                             train=True, \n",
    "                                             transform=transform,\n",
    "                                             download=True)\n",
    "\n",
    "test_dataset = torchvision.datasets.CIFAR10(root='../../data/',\n",
    "                                            train=False, \n",
    "                                            transform=transforms.ToTensor())"
   ]
  },
  {
   "cell_type": "code",
   "execution_count": 6,
   "metadata": {
    "colab": {
     "base_uri": "https://localhost:8080/"
    },
    "id": "78eYeI8H7eZi",
    "outputId": "fc8ddd5b-b6e2-4eb4-b518-b1c310e02f03"
   },
   "outputs": [
    {
     "name": "stdout",
     "output_type": "stream",
     "text": [
      "time: 3.46 ms\n"
     ]
    }
   ],
   "source": [
    "# Data loader\n",
    "train_loader = torch.utils.data.DataLoader(dataset=train_dataset,\n",
    "                                           batch_size=32, \n",
    "                                           shuffle=True)\n",
    "\n",
    "test_loader = torch.utils.data.DataLoader(dataset=test_dataset,\n",
    "                                          batch_size=32, \n",
    "                                          shuffle=False)\n",
    "\n",
    "classes = ('plane', 'car', 'bird', 'cat',\n",
    "           'deer', 'dog', 'frog', 'horse', 'ship', 'truck')\n",
    "\n"
   ]
  },
  {
   "cell_type": "code",
   "execution_count": 7,
   "metadata": {
    "colab": {
     "base_uri": "https://localhost:8080/",
     "height": 271
    },
    "id": "7hW9WNjPii86",
    "outputId": "f38f3b75-f509-4f5c-fead-a05c5d183fa7"
   },
   "outputs": [
    {
     "data": {
      "image/png": "[encoded data removed]",
      "text/plain": [
       "<Figure size 432x288 with 1 Axes>"
      ]
     },
     "metadata": {
      "needs_background": "light",
      "tags": []
     },
     "output_type": "display_data"
    },
    {
     "name": "stdout",
     "output_type": "stream",
     "text": [
      "\n",
      " deer plane   dog  frog\n",
      "time: 368 ms\n"
     ]
    }
   ],
   "source": [
    "# functions to show an image\n",
    "\n",
    "\n",
    "def imshow(img):\n",
    "    img = img / 2 + 0.5     # unnormalize\n",
    "    npimg = img.numpy()\n",
    "    plt.imshow(np.transpose(npimg, (1, 2, 0)))\n",
    "    plt.show()\n",
    "\n",
    "\n",
    "# get some random training images\n",
    "dataiter = iter(train_loader)\n",
    "images, labels = dataiter.next()\n",
    "\n",
    "# show images\n",
    "imshow(torchvision.utils.make_grid(images))\n",
    "# print labels\n",
    "print(' '.join('%5s' % classes[labels[j]] for j in range(4)))"
   ]
  },
  {
   "cell_type": "code",
   "execution_count": 8,
   "metadata": {
    "colab": {
     "base_uri": "https://localhost:8080/"
    },
    "id": "-YJAT2jCimio",
    "outputId": "3450adae-c9ee-42f7-8384-46172aafd9a0"
   },
   "outputs": [
    {
     "name": "stdout",
     "output_type": "stream",
     "text": [
      "time: 2.9 ms\n"
     ]
    }
   ],
   "source": [
    "# 3x3 convolution\n",
    "def conv3x3(in_channels, out_channels, stride=1):\n",
    "    return nn.Conv2d(in_channels, out_channels, kernel_size=3, \n",
    "                     stride=stride, padding=1, bias=False)"
   ]
  },
  {
   "cell_type": "code",
   "execution_count": 9,
   "metadata": {
    "colab": {
     "base_uri": "https://localhost:8080/"
    },
    "id": "xd6Th-OF7emh",
    "outputId": "4b0d8f06-ca7b-4b62-bf27-e88ca199683c"
   },
   "outputs": [
    {
     "name": "stdout",
     "output_type": "stream",
     "text": [
      "time: 30.4 ms\n"
     ]
    }
   ],
   "source": [
    "class BasicBlock(nn.Module):\n",
    "    expansion = 1\n",
    "\n",
    "    def __init__(self, in_planes, planes, stride=1):\n",
    "        super(BasicBlock, self).__init__()\n",
    "        dropout=0.25\n",
    "        dropout = 0 if dropout is None else dropout\n",
    "        self.conv1 = nn.Conv2d(in_planes, planes, kernel_size=3, stride=stride, padding=1, bias=False)\n",
    "        self.bn1 = nn.BatchNorm2d(planes)\n",
    "        self.conv2 = nn.Conv2d(planes, planes, kernel_size=3, stride=1, padding=1, bias=False)\n",
    "        self.bn2 = nn.BatchNorm2d(planes)\n",
    "        self.dropout = nn.Dropout(dropout)\n",
    "\n",
    "        self.shortcut = nn.Sequential()\n",
    "        if stride != 1 or in_planes != self.expansion*planes:\n",
    "            self.shortcut = nn.Sequential(\n",
    "                nn.Conv2d(in_planes, self.expansion*planes, kernel_size=1, stride=stride, bias=False),\n",
    "                nn.BatchNorm2d(self.expansion*planes)\n",
    "            )\n",
    "\n",
    "    def forward(self, x):\n",
    "        out = F.relu(self.bn1(self.conv1(x)))\n",
    "        out = self.bn2(self.conv2(out))\n",
    "        out = self.dropout(out)\n",
    "        out += self.shortcut(x)\n",
    "        out = F.relu(out)\n",
    "        \n",
    "        return out"
   ]
  },
  {
   "cell_type": "code",
   "execution_count": 10,
   "metadata": {
    "colab": {
     "base_uri": "https://localhost:8080/"
    },
    "id": "J0_toKu87e3j",
    "outputId": "2353ac40-efde-4ca7-894a-51c76ed504e7"
   },
   "outputs": [
    {
     "name": "stdout",
     "output_type": "stream",
     "text": [
      "time: 28.7 ms\n"
     ]
    }
   ],
   "source": [
    "class Bottleneck(nn.Module):\n",
    "    expansion = 4\n",
    "\n",
    "    def __init__(self, in_planes, planes, stride=1):\n",
    "        super(Bottleneck, self).__init__()\n",
    "        dropout=0.30\n",
    "        self.conv1 = nn.Conv2d(in_planes, planes, kernel_size=1, bias=False)\n",
    "        self.bn1 = nn.BatchNorm2d(planes)\n",
    "        self.conv2 = nn.Conv2d(planes, planes, kernel_size=3, stride=stride, padding=1, bias=False)\n",
    "        self.bn2 = nn.BatchNorm2d(planes)\n",
    "        self.conv3 = nn.Conv2d(planes, self.expansion*planes, kernel_size=1, bias=False)\n",
    "        self.bn3 = nn.BatchNorm2d(self.expansion*planes)\n",
    "        self.dropout = nn.Dropout(dropout)\n",
    "\n",
    "        self.shortcut = nn.Sequential()\n",
    "        if stride != 1 or in_planes != self.expansion*planes:\n",
    "            self.shortcut = nn.Sequential(\n",
    "                nn.Conv2d(in_planes, self.expansion*planes, kernel_size=1, stride=stride, bias=False),\n",
    "                nn.BatchNorm2d(self.expansion*planes)\n",
    "            )\n",
    "\n",
    "    def forward(self, x):\n",
    "        out = F.relu(self.bn1(self.conv1(x)))\n",
    "        out = F.relu(self.bn2(self.conv2(out)))\n",
    "        out = self.bn3(self.conv3(out))\n",
    "        out = self.dropout(out)\n",
    "        out += self.shortcut(x)\n",
    "        out = F.relu(out)\n",
    "        return out"
   ]
  },
  {
   "cell_type": "code",
   "execution_count": 11,
   "metadata": {
    "colab": {
     "base_uri": "https://localhost:8080/"
    },
    "id": "HpFNWO6-7ejB",
    "outputId": "9214d73d-c2eb-42b1-8489-8dc76e853ab2"
   },
   "outputs": [
    {
     "name": "stdout",
     "output_type": "stream",
     "text": [
      "time: 27.9 ms\n"
     ]
    }
   ],
   "source": [
    "class ResNet(nn.Module):\n",
    "    def __init__(self, block, num_blocks, num_classes=10):\n",
    "        super(ResNet, self).__init__()\n",
    "        self.in_planes = 16\n",
    "\n",
    "        self.conv1 = nn.Conv2d(3, 16, kernel_size=3, stride=1, padding=1, bias=False)\n",
    "        self.bn1 = nn.BatchNorm2d(16)\n",
    "        self.layer1 = self._make_layer(block, 16, num_blocks[0], stride=1)\n",
    "        self.layer2 = self._make_layer(block, 32, num_blocks[1], stride=2)\n",
    "        self.layer3 = self._make_layer(block, 64, num_blocks[2], stride=2)\n",
    "        self.layer4 = self._make_layer(block, 128, num_blocks[3], stride=2)\n",
    "        self.linear = nn.Linear(128*block.expansion, num_classes)\n",
    "\n",
    "    def _make_layer(self, block, planes, num_blocks, stride):\n",
    "        strides = [stride] + [1]*(num_blocks-1)\n",
    "        layers = []\n",
    "        for stride in strides:\n",
    "            layers.append(block(self.in_planes, planes, stride))\n",
    "            self.in_planes = planes * block.expansion\n",
    "        return nn.Sequential(*layers)\n",
    "\n",
    "    def forward(self, x):\n",
    "        out = F.relu(self.bn1(self.conv1(x)))\n",
    "        out = self.layer1(out)\n",
    "        out = self.layer2(out)\n",
    "        out = self.layer3(out)\n",
    "        out = self.layer4(out)\n",
    "        out = F.avg_pool2d(out, 4)\n",
    "        out = out.view(out.size(0), -1)\n",
    "        out = self.linear(out)\n",
    "        return out"
   ]
  },
  {
   "cell_type": "code",
   "execution_count": 12,
   "metadata": {
    "colab": {
     "base_uri": "https://localhost:8080/"
    },
    "id": "VivXxrw08DW7",
    "outputId": "60fd72a9-f0fc-487f-948d-ccf01968d47f"
   },
   "outputs": [
    {
     "name": "stdout",
     "output_type": "stream",
     "text": [
      "time: 10.4 s\n"
     ]
    }
   ],
   "source": [
    "#RESNET-18\n",
    "model = ResNet(BasicBlock, [2,2,2,2]).to(device)\n",
    "#RESNET-34\n",
    "#model = ResNet(BasicBlock, [3,4,6,3]).to(device)\n",
    "#RESNET-50\n",
    "#model = ResNet(Bottleneck, [3,4,6,3]).to(device)\n",
    "#RESNET-101\n",
    "#model = ResNet(Bottleneck, [3,4,23,3]).to(device)\n",
    "#RESNET-152\n",
    "#model = ResNet(Bottleneck, [3,8,36,3]).to(device)\n"
   ]
  },
  {
   "cell_type": "code",
   "execution_count": 13,
   "metadata": {
    "colab": {
     "base_uri": "https://localhost:8080/"
    },
    "id": "EiyEBpKI8Dge",
    "outputId": "99607328-7533-4e1f-f727-6a5843385eec"
   },
   "outputs": [
    {
     "name": "stdout",
     "output_type": "stream",
     "text": [
      "time: 3.78 ms\n"
     ]
    }
   ],
   "source": [
    "# Loss and optimizer\n",
    "criterion = nn.CrossEntropyLoss()\n",
    "#optimizer = torch.optim.Adam(model.parameters(), lr=learning_rate)\n",
    "optimizer = torch.optim.Adam(model.parameters(), lr=learning_rate,weight_decay=1e-5)\n",
    "#optimizer = torch.optim.Adam(model.parameters(), lr=learning_rate, momentum=0.9, weight_decay=5e-4)\n",
    "#optimizer = torch.optim.SGD(model.parameters(), lr=learning_rate, momentum=0.9, weight_decay=5e-4)\n",
    "#optimizer = torch.optim.SGD(model.parameters(), lr=learning_rate)\n",
    "\n",
    "# For updating learning rate\n",
    "def update_lr(optimizer, lr):    \n",
    "    for param_group in optimizer.param_groups:\n",
    "        param_group['lr'] = lr"
   ]
  },
  {
   "cell_type": "code",
   "execution_count": 14,
   "metadata": {
    "colab": {
     "base_uri": "https://localhost:8080/"
    },
    "id": "dRNxNEUy8DeB",
    "outputId": "99755d68-66d1-441f-b126-067d846f85f4"
   },
   "outputs": [
    {
     "name": "stdout",
     "output_type": "stream",
     "text": [
      "Epoch [1/80], Train Loss: 1.5543 Train Accuracy: 24.5 %\n",
      "Epoch [2/80], Train Loss: 1.6125 Train Accuracy: 36.49 %\n",
      "Epoch [3/80], Train Loss: 1.2844 Train Accuracy: 44.76 %\n",
      "Epoch [4/80], Train Loss: 1.2114 Train Accuracy: 50.56 %\n",
      "Epoch [5/80], Train Loss: 0.8853 Train Accuracy: 53.53 %\n",
      "Epoch [6/80], Train Loss: 1.1868 Train Accuracy: 55.31 %\n",
      "Epoch [7/80], Train Loss: 1.2377 Train Accuracy: 57.04 %\n",
      "Epoch [8/80], Train Loss: 1.2139 Train Accuracy: 58.14 %\n",
      "Epoch [9/80], Train Loss: 1.0635 Train Accuracy: 59.24 %\n",
      "Epoch [10/80], Train Loss: 1.7197 Train Accuracy: 59.65 %\n",
      "Epoch [11/80], Train Loss: 0.9644 Train Accuracy: 60.83 %\n",
      "Epoch [12/80], Train Loss: 1.4593 Train Accuracy: 61.54 %\n",
      "Epoch [13/80], Train Loss: 0.9360 Train Accuracy: 62.65 %\n",
      "Epoch [14/80], Train Loss: 0.8256 Train Accuracy: 62.77 %\n",
      "Epoch [15/80], Train Loss: 0.9547 Train Accuracy: 63.19 %\n",
      "Epoch [16/80], Train Loss: 1.5509 Train Accuracy: 63.54 %\n",
      "Epoch [17/80], Train Loss: 1.2351 Train Accuracy: 63.7 %\n",
      "Epoch [18/80], Train Loss: 0.7436 Train Accuracy: 64.42 %\n",
      "Epoch [19/80], Train Loss: 0.3874 Train Accuracy: 64.84 %\n",
      "Epoch [20/80], Train Loss: 1.0811 Train Accuracy: 64.92 %\n",
      "Epoch [21/80], Train Loss: 0.9554 Train Accuracy: 68.59 %\n",
      "Epoch [22/80], Train Loss: 1.0596 Train Accuracy: 69.64 %\n",
      "Epoch [23/80], Train Loss: 0.6566 Train Accuracy: 70.1 %\n",
      "Epoch [24/80], Train Loss: 0.4629 Train Accuracy: 70.39 %\n",
      "Epoch [25/80], Train Loss: 0.7084 Train Accuracy: 70.74 %\n",
      "Epoch [26/80], Train Loss: 1.2702 Train Accuracy: 71.15 %\n",
      "Epoch [27/80], Train Loss: 1.2161 Train Accuracy: 71.31 %\n",
      "Epoch [28/80], Train Loss: 0.5607 Train Accuracy: 71.38 %\n",
      "Epoch [29/80], Train Loss: 0.5506 Train Accuracy: 71.43 %\n",
      "Epoch [30/80], Train Loss: 1.4701 Train Accuracy: 71.7 %\n",
      "Epoch [31/80], Train Loss: 0.9478 Train Accuracy: 71.91 %\n",
      "Epoch [32/80], Train Loss: 0.5619 Train Accuracy: 72.01 %\n",
      "Epoch [33/80], Train Loss: 0.8915 Train Accuracy: 72.06 %\n",
      "Epoch [34/80], Train Loss: 0.7406 Train Accuracy: 72.42 %\n",
      "Epoch [35/80], Train Loss: 0.8662 Train Accuracy: 72.11 %\n",
      "Epoch [36/80], Train Loss: 0.9597 Train Accuracy: 72.2 %\n",
      "Epoch [37/80], Train Loss: 0.6695 Train Accuracy: 72.6 %\n",
      "Epoch [38/80], Train Loss: 1.0785 Train Accuracy: 72.74 %\n",
      "Epoch [39/80], Train Loss: 1.0823 Train Accuracy: 72.83 %\n",
      "Epoch [40/80], Train Loss: 0.6397 Train Accuracy: 72.63 %\n",
      "Epoch [41/80], Train Loss: 0.5071 Train Accuracy: 74.66 %\n",
      "Epoch [42/80], Train Loss: 0.9905 Train Accuracy: 75.13 %\n",
      "Epoch [43/80], Train Loss: 0.8333 Train Accuracy: 75.09 %\n",
      "Epoch [44/80], Train Loss: 1.1733 Train Accuracy: 75.27 %\n",
      "Epoch [45/80], Train Loss: 0.4452 Train Accuracy: 75.43 %\n",
      "Epoch [46/80], Train Loss: 0.5216 Train Accuracy: 75.46 %\n",
      "Epoch [47/80], Train Loss: 1.0279 Train Accuracy: 75.55 %\n",
      "Epoch [48/80], Train Loss: 0.9078 Train Accuracy: 75.63 %\n",
      "Epoch [49/80], Train Loss: 0.6243 Train Accuracy: 75.96 %\n",
      "Epoch [50/80], Train Loss: 0.5799 Train Accuracy: 76.01 %\n",
      "Epoch [51/80], Train Loss: 0.8499 Train Accuracy: 76.08 %\n",
      "Epoch [52/80], Train Loss: 0.8905 Train Accuracy: 76.08 %\n",
      "Epoch [53/80], Train Loss: 0.2930 Train Accuracy: 76.09 %\n",
      "Epoch [54/80], Train Loss: 0.6539 Train Accuracy: 76.38 %\n",
      "Epoch [55/80], Train Loss: 1.4310 Train Accuracy: 76.41 %\n",
      "Epoch [56/80], Train Loss: 0.6051 Train Accuracy: 76.32 %\n",
      "Epoch [57/80], Train Loss: 0.8882 Train Accuracy: 76.26 %\n",
      "Epoch [58/80], Train Loss: 0.6598 Train Accuracy: 76.53 %\n",
      "Epoch [59/80], Train Loss: 0.6820 Train Accuracy: 76.52 %\n",
      "Epoch [60/80], Train Loss: 0.6899 Train Accuracy: 76.4 %\n",
      "Epoch [61/80], Train Loss: 0.4927 Train Accuracy: 77.22 %\n",
      "Epoch [62/80], Train Loss: 0.6126 Train Accuracy: 77.35 %\n",
      "Epoch [63/80], Train Loss: 0.5072 Train Accuracy: 77.5 %\n",
      "Epoch [64/80], Train Loss: 0.6251 Train Accuracy: 77.39 %\n",
      "Epoch [65/80], Train Loss: 1.2267 Train Accuracy: 77.64 %\n",
      "Epoch [66/80], Train Loss: 0.3106 Train Accuracy: 77.88 %\n",
      "Epoch [67/80], Train Loss: 0.5622 Train Accuracy: 77.65 %\n",
      "Epoch [68/80], Train Loss: 0.4678 Train Accuracy: 77.83 %\n",
      "Epoch [69/80], Train Loss: 0.5571 Train Accuracy: 77.66 %\n",
      "Epoch [70/80], Train Loss: 0.3096 Train Accuracy: 77.88 %\n",
      "Epoch [71/80], Train Loss: 0.5008 Train Accuracy: 77.7 %\n",
      "Epoch [72/80], Train Loss: 1.5053 Train Accuracy: 77.73 %\n",
      "Epoch [73/80], Train Loss: 1.0071 Train Accuracy: 78.04 %\n",
      "Epoch [74/80], Train Loss: 0.8964 Train Accuracy: 78.16 %\n",
      "Epoch [75/80], Train Loss: 0.4637 Train Accuracy: 78.1 %\n",
      "Epoch [76/80], Train Loss: 0.2681 Train Accuracy: 78.02 %\n",
      "Epoch [77/80], Train Loss: 0.5934 Train Accuracy: 77.93 %\n",
      "Epoch [78/80], Train Loss: 1.0086 Train Accuracy: 78.01 %\n",
      "Epoch [79/80], Train Loss: 0.8066 Train Accuracy: 77.96 %\n",
      "Epoch [80/80], Train Loss: 0.5580 Train Accuracy: 78.17 %\n",
      "time: 1h 23min 18s\n"
     ]
    }
   ],
   "source": [
    "# Train the model\n",
    "total_step = len(train_loader)\n",
    "curr_lr = learning_rate\n",
    "for epoch in range(num_epochs):\n",
    "    correct = 0\n",
    "    total = 0\n",
    "    for i,(images, labels) in enumerate(train_loader):\n",
    "        images = images.to(device)\n",
    "        labels = labels.to(device)\n",
    "\n",
    "        # Forward pass\n",
    "        outputs = model(images)\n",
    "        loss = criterion(outputs, labels)\n",
    "\n",
    "        # Backward and optimize\n",
    "        optimizer.zero_grad()\n",
    "        loss.backward()\n",
    "        optimizer.step()\n",
    "\n",
    "        _, predicted = torch.max(outputs.data, 1)\n",
    "        total += labels.size(0)\n",
    "        correct += (predicted == labels).sum().item()\n",
    "\n",
    "        #if (i+1) % 100 == 0:\n",
    "          \n",
    "    print (\"Epoch [{}/{}], Train Loss: {:.4f} Train Accuracy: {} %\"\n",
    "                   .format(epoch+1, num_epochs,  loss.item(),round((100 * correct / total),2)))\n",
    "\n",
    "    # Decay learning rate\n",
    "    if (epoch+1) % 20 == 0:\n",
    "        curr_lr /= 3\n",
    "        update_lr(optimizer, curr_lr)"
   ]
  },
  {
   "cell_type": "code",
   "execution_count": 15,
   "metadata": {
    "colab": {
     "base_uri": "https://localhost:8080/",
     "height": 85
    },
    "id": "-2-vn6CLxSBq",
    "outputId": "fd73f645-0d8c-4399-efcf-7defae67f276"
   },
   "outputs": [
    {
     "data": {
      "image/png": "[encoded data removed]",
      "text/plain": [
       "<Figure size 864x180 with 32 Axes>"
      ]
     },
     "metadata": {
      "tags": []
     },
     "output_type": "display_data"
    },
    {
     "name": "stdout",
     "output_type": "stream",
     "text": [
      "time: 893 ms\n"
     ]
    }
   ],
   "source": [
    "import matplotlib.pyplot as plt\n",
    "import numpy as np\n",
    "\n",
    "def convert_to_imshow_format(image):\n",
    "    # first convert back to [0,1] range from [-1,1] range\n",
    "    image = image / 2 + 0.5\n",
    "    image = image.numpy()\n",
    "    # convert from CHW to HWC\n",
    "    # from 3x32x32 to 32x32x3\n",
    "    return image.transpose(1,2,0)\n",
    "\n",
    "dataiter = iter(train_loader)\n",
    "images, labels = dataiter.next()\n",
    "\n",
    "fig, axes = plt.subplots(1, len(images), figsize=(12,2.5))\n",
    "for idx, image in enumerate(images):\n",
    "    axes[idx].imshow(convert_to_imshow_format(image))\n",
    "    axes[idx].set_title(classes[labels[idx]])\n",
    "    axes[idx].set_xticks([])\n",
    "    axes[idx].set_yticks([])"
   ]
  },
  {
   "cell_type": "code",
   "execution_count": 16,
   "metadata": {
    "colab": {
     "base_uri": "https://localhost:8080/",
     "height": 85
    },
    "id": "ytAhp0JWxCuV",
    "outputId": "af67c8ca-eeb6-415d-817c-1fe99cc92217"
   },
   "outputs": [
    {
     "data": {
      "image/png": "[encoded data removed]",
      "text/plain": [
       "<Figure size 864x180 with 32 Axes>"
      ]
     },
     "metadata": {
      "tags": []
     },
     "output_type": "display_data"
    },
    {
     "name": "stdout",
     "output_type": "stream",
     "text": [
      "time: 890 ms\n"
     ]
    }
   ],
   "source": [
    "dataiter = iter(test_loader)\n",
    "images, labels = dataiter.next()\n",
    "\n",
    "fig, axes = plt.subplots(1, len(images), figsize=(12,2.5))\n",
    "for idx, image in enumerate(images):\n",
    "    axes[idx].imshow(convert_to_imshow_format(image))\n",
    "    axes[idx].set_title(classes[labels[idx]])\n",
    "    axes[idx].set_xticks([])\n",
    "    axes[idx].set_yticks([])"
   ]
  },
  {
   "cell_type": "code",
   "execution_count": 17,
   "metadata": {
    "colab": {
     "base_uri": "https://localhost:8080/"
    },
    "id": "4Bo-eyWBxn9T",
    "outputId": "f5457a18-20dd-499f-ed6a-a5d15cd829af"
   },
   "outputs": [
    {
     "name": "stdout",
     "output_type": "stream",
     "text": [
      "time: 10.6 ms\n"
     ]
    }
   ],
   "source": [
    "images = images.to(device)\n",
    "labels = labels.to(device)\n",
    "outputs = model(images)"
   ]
  },
  {
   "cell_type": "code",
   "execution_count": 18,
   "metadata": {
    "colab": {
     "base_uri": "https://localhost:8080/"
    },
    "id": "Wv_wo9I6yIMW",
    "outputId": "b66452f4-e45d-4a75-dd6b-9e78ff871de8"
   },
   "outputs": [
    {
     "name": "stdout",
     "output_type": "stream",
     "text": [
      "time: 1.58 ms\n"
     ]
    }
   ],
   "source": [
    "sm = nn.Softmax(dim=1)\n",
    "sm_outputs = sm(outputs)"
   ]
  },
  {
   "cell_type": "code",
   "execution_count": 19,
   "metadata": {
    "colab": {
     "base_uri": "https://localhost:8080/"
    },
    "id": "DfhHhpi2yO9q",
    "outputId": "b569b597-f047-4dc4-d894-9d5a16c2d257"
   },
   "outputs": [
    {
     "name": "stdout",
     "output_type": "stream",
     "text": [
      "cat - 0.9558\n",
      "ship - 0.9533\n",
      "ship - 0.8893\n",
      "plane - 0.7474\n",
      "frog - 0.9604\n",
      "frog - 0.9263\n",
      "car - 0.9896\n",
      "frog - 0.5452\n",
      "dog - 0.3890\n",
      "truck - 0.8233\n",
      "plane - 0.9958\n",
      "truck - 0.9985\n",
      "horse - 0.6792\n",
      "horse - 0.9135\n",
      "truck - 0.9294\n",
      "ship - 0.5866\n",
      "dog - 0.9540\n",
      "horse - 0.9004\n",
      "ship - 0.9995\n",
      "frog - 0.7504\n",
      "horse - 0.9414\n",
      "plane - 0.8833\n",
      "deer - 0.9230\n",
      "truck - 0.9957\n",
      "deer - 0.9012\n",
      "bird - 0.2254\n",
      "deer - 0.8101\n",
      "plane - 0.6978\n",
      "truck - 0.9849\n",
      "frog - 0.3962\n",
      "frog - 0.8492\n",
      "dog - 0.9955\n",
      "time: 10.9 ms\n"
     ]
    }
   ],
   "source": [
    "probs, index = torch.max(sm_outputs, dim=1)\n",
    "\n",
    "for p, i in zip(probs, index):\n",
    "    print('{0} - {1:.4f}'.format(classes[i], p))"
   ]
  },
  {
   "cell_type": "code",
   "execution_count": 20,
   "metadata": {
    "colab": {
     "base_uri": "https://localhost:8080/"
    },
    "id": "RiZftaxHyShZ",
    "outputId": "b96b349e-9f48-43e7-d4af-ca690512a9b0"
   },
   "outputs": [
    {
     "name": "stdout",
     "output_type": "stream",
     "text": [
      "Model accuracy on 10000 test images: 75.80%\n",
      "time: 2.5 s\n"
     ]
    }
   ],
   "source": [
    "total_correct = 0\n",
    "total_images = 0\n",
    "confusion_matrix = np.zeros([10,10], int)\n",
    "with torch.no_grad():\n",
    "    for data in test_loader:\n",
    "        images, labels = data\n",
    "        images = images.to(device)\n",
    "        labels = labels.to(device)\n",
    "        outputs = model(images)\n",
    "        _, predicted = torch.max(outputs.data, 1)\n",
    "        total_images += labels.size(0)\n",
    "        total_correct += (predicted == labels).sum().item()\n",
    "        for i, l in enumerate(labels):\n",
    "            confusion_matrix[l.item(), predicted[i].item()] += 1 \n",
    "\n",
    "model_accuracy = total_correct / total_images * 100\n",
    "print('Model accuracy on {0} test images: {1:.2f}%'.format(total_images, model_accuracy))"
   ]
  },
  {
   "cell_type": "code",
   "execution_count": 21,
   "metadata": {
    "colab": {
     "base_uri": "https://localhost:8080/"
    },
    "id": "6v5gH5D6y0sZ",
    "outputId": "2605ebf7-604a-4ca2-c697-2483ae8c0303"
   },
   "outputs": [
    {
     "name": "stdout",
     "output_type": "stream",
     "text": [
      "Category   - Accuracy\n",
      "plane      - 79.1\n",
      "car        - 88.5\n",
      "bird       - 61.0\n",
      "cat        - 55.1\n",
      "deer       - 76.1\n",
      "dog        - 65.1\n",
      "frog       - 78.8\n",
      "horse      - 79.9\n",
      "ship       - 82.7\n",
      "truck      - 91.7\n",
      "time: 5.14 ms\n"
     ]
    }
   ],
   "source": [
    "print('{0:10s} - {1}'.format('Category','Accuracy'))\n",
    "for i, r in enumerate(confusion_matrix):\n",
    "    print('{0:10s} - {1:.1f}'.format(classes[i], r[i]/np.sum(r)*100))"
   ]
  },
  {
   "cell_type": "code",
   "execution_count": 22,
   "metadata": {
    "colab": {
     "base_uri": "https://localhost:8080/",
     "height": 405
    },
    "id": "UHszLmdNy5v_",
    "outputId": "46316246-23cc-486d-b703-9cde1efaf4d1"
   },
   "outputs": [
    {
     "data": {
      "image/png": "[encoded data removed]",
      "text/plain": [
       "<Figure size 576x432 with 1 Axes>"
      ]
     },
     "metadata": {
      "needs_background": "light",
      "tags": []
     },
     "output_type": "display_data"
    },
    {
     "name": "stdout",
     "output_type": "stream",
     "text": [
      "time: 123 ms\n"
     ]
    }
   ],
   "source": [
    "fig, ax = plt.subplots(1,1,figsize=(8,6))\n",
    "ax.matshow(confusion_matrix, aspect='auto', vmin=0, vmax=1000, cmap=plt.get_cmap('Blues'))\n",
    "plt.ylabel('Actual Category')\n",
    "plt.yticks(range(10), classes)\n",
    "plt.xlabel('Predicted Category')\n",
    "plt.xticks(range(10), classes)\n",
    "plt.show()"
   ]
  },
  {
   "cell_type": "code",
   "execution_count": 23,
   "metadata": {
    "colab": {
     "base_uri": "https://localhost:8080/"
    },
    "id": "6GgvDmpGzEfH",
    "outputId": "34ce561f-4c0b-4f02-e4f3-fcb4c1b93a41"
   },
   "outputs": [
    {
     "name": "stdout",
     "output_type": "stream",
     "text": [
      "actual/pred     plane     car       bird      cat       deer      dog       frog      horse     ship      truck     \n",
      "plane           791       22        28        19        13        1         1         8         82        35        \n",
      "                0.791     0.022     0.028     0.019     0.013     0.001     0.001     0.008     0.082     0.035     \n",
      "car             13        885       1         5         1         2         2         1         10        80        \n",
      "                0.013     0.885     0.001     0.005     0.001     0.002     0.002     0.001     0.01      0.08      \n",
      "bird            93        5         610       69        84        36        53        24        17        9         \n",
      "                0.093     0.005     0.61      0.069     0.084     0.036     0.053     0.024     0.017     0.009     \n",
      "cat             26        6         45        551       48        164       51        61        14        34        \n",
      "                0.026     0.006     0.045     0.551     0.048     0.164     0.051     0.061     0.014     0.034     \n",
      "deer            18        1         44        26        761       20        18        91        8         13        \n",
      "                0.018     0.001     0.044     0.026     0.761     0.02      0.018     0.091     0.008     0.013     \n",
      "dog             8         6         28        148       46        651       12        66        9         26        \n",
      "                0.008     0.006     0.028     0.148     0.046     0.651     0.012     0.066     0.009     0.026     \n",
      "frog            3         6         54        40        54        26        788       12        7         10        \n",
      "                0.003     0.006     0.054     0.04      0.054     0.026     0.788     0.012     0.007     0.01      \n",
      "horse           27        1         20        52        43        35        2         799       4         17        \n",
      "                0.027     0.001     0.02      0.052     0.043     0.035     0.002     0.799     0.004     0.017     \n",
      "ship            69        26        11        16        6         3         2         3         827       37        \n",
      "                0.069     0.026     0.011     0.016     0.006     0.003     0.002     0.003     0.827     0.037     \n",
      "truck           20        37        4         7         1         0         2         3         9         917       \n",
      "                0.02      0.037     0.004     0.007     0.001     0.0       0.002     0.003     0.009     0.917     \n",
      "time: 19.9 ms\n"
     ]
    }
   ],
   "source": [
    "print('actual/pred'.ljust(16), end='')\n",
    "for i,c in enumerate(classes):\n",
    "    print(c.ljust(10), end='')\n",
    "print()\n",
    "for i,r in enumerate(confusion_matrix):\n",
    "    print(classes[i].ljust(16), end='')\n",
    "    for idx, p in enumerate(r):\n",
    "        print(str(p).ljust(10), end='')\n",
    "    print()\n",
    "    \n",
    "    r = r/np.sum(r)\n",
    "    print(''.ljust(16), end='')\n",
    "    for idx, p in enumerate(r):\n",
    "        print(str(p).ljust(10), end='')\n",
    "    print()"
   ]
  },
  {
   "cell_type": "code",
   "execution_count": 24,
   "metadata": {
    "colab": {
     "base_uri": "https://localhost:8080/"
    },
    "id": "pZ5U1tkZ7ecu",
    "outputId": "27b8d522-5f21-4a27-965e-6100b0337765"
   },
   "outputs": [
    {
     "name": "stdout",
     "output_type": "stream",
     "text": [
      "time: 24.4 ms\n"
     ]
    }
   ],
   "source": [
    "# Save the model checkpoint\n",
    "torch.save(model.state_dict(), 'resnet.ckpt')"
   ]
  },
  {
   "cell_type": "code",
   "execution_count": 25,
   "metadata": {
    "colab": {
     "base_uri": "https://localhost:8080/"
    },
    "id": "2x-t3dD2-H5A",
    "outputId": "79e1a56e-2ad5-4ea1-fce7-6b9ce6558532"
   },
   "outputs": [
    {
     "data": {
      "text/plain": [
       "701466"
      ]
     },
     "execution_count": 25,
     "metadata": {
      "tags": []
     },
     "output_type": "execute_result"
    },
    {
     "name": "stdout",
     "output_type": "stream",
     "text": [
      "time: 3.01 ms\n"
     ]
    }
   ],
   "source": [
    "pytorch_total_params = sum(p.numel() for p in model.parameters())\n",
    "pytorch_total_params"
   ]
  }
 ],
 "metadata": {
  "accelerator": "GPU",
  "colab": {
   "collapsed_sections": [],
   "name": "RESNET_18_80_adam_decay.ipynb",
   "provenance": []
  },
  "kernelspec": {
   "display_name": "Python 3",
   "language": "python",
   "name": "python3"
  },
  "language_info": {
   "codemirror_mode": {
    "name": "ipython",
    "version": 3
   },
   "file_extension": ".py",
   "mimetype": "text/x-python",
   "name": "python",
   "nbconvert_exporter": "python",
   "pygments_lexer": "ipython3",
   "version": "3.7.4"
  },
  "widgets": {
   "application/vnd.jupyter.widget-state+json": {
    "2776572a917043f7bc4972839ff17d06": {
     "model_module": "@jupyter-widgets/base",
     "model_name": "LayoutModel",
     "state": {
      "_model_module": "@jupyter-widgets/base",
      "_model_module_version": "1.2.0",
      "_model_name": "LayoutModel",
      "_view_count": null,
      "_view_module": "@jupyter-widgets/base",
      "_view_module_version": "1.2.0",
      "_view_name": "LayoutView",
      "align_content": null,
      "align_items": null,
      "align_self": null,
      "border": null,
      "bottom": null,
      "display": null,
      "flex": null,
      "flex_flow": null,
      "grid_area": null,
      "grid_auto_columns": null,
      "grid_auto_flow": null,
      "grid_auto_rows": null,
      "grid_column": null,
      "grid_gap": null,
      "grid_row": null,
      "grid_template_areas": null,
      "grid_template_columns": null,
      "grid_template_rows": null,
      "height": null,
      "justify_content": null,
      "justify_items": null,
      "left": null,
      "margin": null,
      "max_height": null,
      "max_width": null,
      "min_height": null,
      "min_width": null,
      "object_fit": null,
      "object_position": null,
      "order": null,
      "overflow": null,
      "overflow_x": null,
      "overflow_y": null,
      "padding": null,
      "right": null,
      "top": null,
      "visibility": null,
      "width": null
     }
    },
    "323ecef9d110449c9ad192ecfc4962f0": {
     "model_module": "@jupyter-widgets/controls",
     "model_name": "FloatProgressModel",
     "state": {
      "_dom_classes": [],
      "_model_module": "@jupyter-widgets/controls",
      "_model_module_version": "1.5.0",
      "_model_name": "FloatProgressModel",
      "_view_count": null,
      "_view_module": "@jupyter-widgets/controls",
      "_view_module_version": "1.5.0",
      "_view_name": "ProgressView",
      "bar_style": "success",
      "description": "",
      "description_tooltip": null,
      "layout": "IPY_MODEL_d4ff107f847443458de06ca0cf593914",
      "max": 1,
      "min": 0,
      "orientation": "horizontal",
      "style": "IPY_MODEL_d328c68baf624ccfb5dce751ab3402e1",
      "value": 1
     }
    },
    "33b4c6f3a7064488a2473cff38de1c60": {
     "model_module": "@jupyter-widgets/controls",
     "model_name": "HTMLModel",
     "state": {
      "_dom_classes": [],
      "_model_module": "@jupyter-widgets/controls",
      "_model_module_version": "1.5.0",
      "_model_name": "HTMLModel",
      "_view_count": null,
      "_view_module": "@jupyter-widgets/controls",
      "_view_module_version": "1.5.0",
      "_view_name": "HTMLView",
      "description": "",
      "description_tooltip": null,
      "layout": "IPY_MODEL_2776572a917043f7bc4972839ff17d06",
      "placeholder": "​",
      "style": "IPY_MODEL_ad591c6e74e9411d864938ade8948f8c",
      "value": " 170500096/? [00:05&lt;00:00, 31695562.83it/s]"
     }
    },
    "3efa1ad6f48b4b65a5a3225874039c3a": {
     "model_module": "@jupyter-widgets/controls",
     "model_name": "HBoxModel",
     "state": {
      "_dom_classes": [],
      "_model_module": "@jupyter-widgets/controls",
      "_model_module_version": "1.5.0",
      "_model_name": "HBoxModel",
      "_view_count": null,
      "_view_module": "@jupyter-widgets/controls",
      "_view_module_version": "1.5.0",
      "_view_name": "HBoxView",
      "box_style": "",
      "children": [
       "IPY_MODEL_323ecef9d110449c9ad192ecfc4962f0",
       "IPY_MODEL_33b4c6f3a7064488a2473cff38de1c60"
      ],
      "layout": "IPY_MODEL_b968a8a7da924fb1a0716abb951f5c81"
     }
    },
    "ad591c6e74e9411d864938ade8948f8c": {
     "model_module": "@jupyter-widgets/controls",
     "model_name": "DescriptionStyleModel",
     "state": {
      "_model_module": "@jupyter-widgets/controls",
      "_model_module_version": "1.5.0",
      "_model_name": "DescriptionStyleModel",
      "_view_count": null,
      "_view_module": "@jupyter-widgets/base",
      "_view_module_version": "1.2.0",
      "_view_name": "StyleView",
      "description_width": ""
     }
    },
    "b968a8a7da924fb1a0716abb951f5c81": {
     "model_module": "@jupyter-widgets/base",
     "model_name": "LayoutModel",
     "state": {
      "_model_module": "@jupyter-widgets/base",
      "_model_module_version": "1.2.0",
      "_model_name": "LayoutModel",
      "_view_count": null,
      "_view_module": "@jupyter-widgets/base",
      "_view_module_version": "1.2.0",
      "_view_name": "LayoutView",
      "align_content": null,
      "align_items": null,
      "align_self": null,
      "border": null,
      "bottom": null,
      "display": null,
      "flex": null,
      "flex_flow": null,
      "grid_area": null,
      "grid_auto_columns": null,
      "grid_auto_flow": null,
      "grid_auto_rows": null,
      "grid_column": null,
      "grid_gap": null,
      "grid_row": null,
      "grid_template_areas": null,
      "grid_template_columns": null,
      "grid_template_rows": null,
      "height": null,
      "justify_content": null,
      "justify_items": null,
      "left": null,
      "margin": null,
      "max_height": null,
      "max_width": null,
      "min_height": null,
      "min_width": null,
      "object_fit": null,
      "object_position": null,
      "order": null,
      "overflow": null,
      "overflow_x": null,
      "overflow_y": null,
      "padding": null,
      "right": null,
      "top": null,
      "visibility": null,
      "width": null
     }
    },
    "d328c68baf624ccfb5dce751ab3402e1": {
     "model_module": "@jupyter-widgets/controls",
     "model_name": "ProgressStyleModel",
     "state": {
      "_model_module": "@jupyter-widgets/controls",
      "_model_module_version": "1.5.0",
      "_model_name": "ProgressStyleModel",
      "_view_count": null,
      "_view_module": "@jupyter-widgets/base",
      "_view_module_version": "1.2.0",
      "_view_name": "StyleView",
      "bar_color": null,
      "description_width": "initial"
     }
    },
    "d4ff107f847443458de06ca0cf593914": {
     "model_module": "@jupyter-widgets/base",
     "model_name": "LayoutModel",
     "state": {
      "_model_module": "@jupyter-widgets/base",
      "_model_module_version": "1.2.0",
      "_model_name": "LayoutModel",
      "_view_count": null,
      "_view_module": "@jupyter-widgets/base",
      "_view_module_version": "1.2.0",
      "_view_name": "LayoutView",
      "align_content": null,
      "align_items": null,
      "align_self": null,
      "border": null,
      "bottom": null,
      "display": null,
      "flex": null,
      "flex_flow": null,
      "grid_area": null,
      "grid_auto_columns": null,
      "grid_auto_flow": null,
      "grid_auto_rows": null,
      "grid_column": null,
      "grid_gap": null,
      "grid_row": null,
      "grid_template_areas": null,
      "grid_template_columns": null,
      "grid_template_rows": null,
      "height": null,
      "justify_content": null,
      "justify_items": null,
      "left": null,
      "margin": null,
      "max_height": null,
      "max_width": null,
      "min_height": null,
      "min_width": null,
      "object_fit": null,
      "object_position": null,
      "order": null,
      "overflow": null,
      "overflow_x": null,
      "overflow_y": null,
      "padding": null,
      "right": null,
      "top": null,
      "visibility": null,
      "width": null
     }
    }
   }
  }
 },
 "nbformat": 4,
 "nbformat_minor": 1
}
