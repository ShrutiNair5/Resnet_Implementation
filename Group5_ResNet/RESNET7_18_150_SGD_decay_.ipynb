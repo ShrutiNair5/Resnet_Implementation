{
  "nbformat": 4,
  "nbformat_minor": 0,
  "metadata": {
    "colab": {
      "name": "RESNET_18_150_SGD_decay .ipynb",
      "provenance": [],
      "collapsed_sections": []
    },
    "kernelspec": {
      "name": "python3",
      "display_name": "Python 3"
    },
    "accelerator": "GPU",
    "widgets": {
      "application/vnd.jupyter.widget-state+json": {
        "8e15cccaa91349258ddfd2fecbd428ce": {
          "model_module": "@jupyter-widgets/controls",
          "model_name": "HBoxModel",
          "state": {
            "_view_name": "HBoxView",
            "_dom_classes": [],
            "_model_name": "HBoxModel",
            "_view_module": "@jupyter-widgets/controls",
            "_model_module_version": "1.5.0",
            "_view_count": null,
            "_view_module_version": "1.5.0",
            "box_style": "",
            "layout": "IPY_MODEL_96259f6beae74bd6b8beee1dc00be141",
            "_model_module": "@jupyter-widgets/controls",
            "children": [
              "IPY_MODEL_3286dff10f9141358d4d1c32c9bcdcc4",
              "IPY_MODEL_4aeab6687bba482ca59edfdf53c6c088"
            ]
          }
        },
        "96259f6beae74bd6b8beee1dc00be141": {
          "model_module": "@jupyter-widgets/base",
          "model_name": "LayoutModel",
          "state": {
            "_view_name": "LayoutView",
            "grid_template_rows": null,
            "right": null,
            "justify_content": null,
            "_view_module": "@jupyter-widgets/base",
            "overflow": null,
            "_model_module_version": "1.2.0",
            "_view_count": null,
            "flex_flow": null,
            "width": null,
            "min_width": null,
            "border": null,
            "align_items": null,
            "bottom": null,
            "_model_module": "@jupyter-widgets/base",
            "top": null,
            "grid_column": null,
            "overflow_y": null,
            "overflow_x": null,
            "grid_auto_flow": null,
            "grid_area": null,
            "grid_template_columns": null,
            "flex": null,
            "_model_name": "LayoutModel",
            "justify_items": null,
            "grid_row": null,
            "max_height": null,
            "align_content": null,
            "visibility": null,
            "align_self": null,
            "height": null,
            "min_height": null,
            "padding": null,
            "grid_auto_rows": null,
            "grid_gap": null,
            "max_width": null,
            "order": null,
            "_view_module_version": "1.2.0",
            "grid_template_areas": null,
            "object_position": null,
            "object_fit": null,
            "grid_auto_columns": null,
            "margin": null,
            "display": null,
            "left": null
          }
        },
        "3286dff10f9141358d4d1c32c9bcdcc4": {
          "model_module": "@jupyter-widgets/controls",
          "model_name": "FloatProgressModel",
          "state": {
            "_view_name": "ProgressView",
            "style": "IPY_MODEL_18bcf0ab0ce64d1da43d864d64e139c7",
            "_dom_classes": [],
            "description": "",
            "_model_name": "FloatProgressModel",
            "bar_style": "success",
            "max": 1,
            "_view_module": "@jupyter-widgets/controls",
            "_model_module_version": "1.5.0",
            "value": 1,
            "_view_count": null,
            "_view_module_version": "1.5.0",
            "orientation": "horizontal",
            "min": 0,
            "description_tooltip": null,
            "_model_module": "@jupyter-widgets/controls",
            "layout": "IPY_MODEL_6254755afe5b4c4785a55839ea9e1768"
          }
        },
        "4aeab6687bba482ca59edfdf53c6c088": {
          "model_module": "@jupyter-widgets/controls",
          "model_name": "HTMLModel",
          "state": {
            "_view_name": "HTMLView",
            "style": "IPY_MODEL_5d7cbfcd8b6c4aa6852b1d6677b1da04",
            "_dom_classes": [],
            "description": "",
            "_model_name": "HTMLModel",
            "placeholder": "​",
            "_view_module": "@jupyter-widgets/controls",
            "_model_module_version": "1.5.0",
            "value": " 170500096/? [00:07&lt;00:00, 23408682.51it/s]",
            "_view_count": null,
            "_view_module_version": "1.5.0",
            "description_tooltip": null,
            "_model_module": "@jupyter-widgets/controls",
            "layout": "IPY_MODEL_2dafd76591d3419d8689cd1ebbc088ac"
          }
        },
        "18bcf0ab0ce64d1da43d864d64e139c7": {
          "model_module": "@jupyter-widgets/controls",
          "model_name": "ProgressStyleModel",
          "state": {
            "_view_name": "StyleView",
            "_model_name": "ProgressStyleModel",
            "description_width": "initial",
            "_view_module": "@jupyter-widgets/base",
            "_model_module_version": "1.5.0",
            "_view_count": null,
            "_view_module_version": "1.2.0",
            "bar_color": null,
            "_model_module": "@jupyter-widgets/controls"
          }
        },
        "6254755afe5b4c4785a55839ea9e1768": {
          "model_module": "@jupyter-widgets/base",
          "model_name": "LayoutModel",
          "state": {
            "_view_name": "LayoutView",
            "grid_template_rows": null,
            "right": null,
            "justify_content": null,
            "_view_module": "@jupyter-widgets/base",
            "overflow": null,
            "_model_module_version": "1.2.0",
            "_view_count": null,
            "flex_flow": null,
            "width": null,
            "min_width": null,
            "border": null,
            "align_items": null,
            "bottom": null,
            "_model_module": "@jupyter-widgets/base",
            "top": null,
            "grid_column": null,
            "overflow_y": null,
            "overflow_x": null,
            "grid_auto_flow": null,
            "grid_area": null,
            "grid_template_columns": null,
            "flex": null,
            "_model_name": "LayoutModel",
            "justify_items": null,
            "grid_row": null,
            "max_height": null,
            "align_content": null,
            "visibility": null,
            "align_self": null,
            "height": null,
            "min_height": null,
            "padding": null,
            "grid_auto_rows": null,
            "grid_gap": null,
            "max_width": null,
            "order": null,
            "_view_module_version": "1.2.0",
            "grid_template_areas": null,
            "object_position": null,
            "object_fit": null,
            "grid_auto_columns": null,
            "margin": null,
            "display": null,
            "left": null
          }
        },
        "5d7cbfcd8b6c4aa6852b1d6677b1da04": {
          "model_module": "@jupyter-widgets/controls",
          "model_name": "DescriptionStyleModel",
          "state": {
            "_view_name": "StyleView",
            "_model_name": "DescriptionStyleModel",
            "description_width": "",
            "_view_module": "@jupyter-widgets/base",
            "_model_module_version": "1.5.0",
            "_view_count": null,
            "_view_module_version": "1.2.0",
            "_model_module": "@jupyter-widgets/controls"
          }
        },
        "2dafd76591d3419d8689cd1ebbc088ac": {
          "model_module": "@jupyter-widgets/base",
          "model_name": "LayoutModel",
          "state": {
            "_view_name": "LayoutView",
            "grid_template_rows": null,
            "right": null,
            "justify_content": null,
            "_view_module": "@jupyter-widgets/base",
            "overflow": null,
            "_model_module_version": "1.2.0",
            "_view_count": null,
            "flex_flow": null,
            "width": null,
            "min_width": null,
            "border": null,
            "align_items": null,
            "bottom": null,
            "_model_module": "@jupyter-widgets/base",
            "top": null,
            "grid_column": null,
            "overflow_y": null,
            "overflow_x": null,
            "grid_auto_flow": null,
            "grid_area": null,
            "grid_template_columns": null,
            "flex": null,
            "_model_name": "LayoutModel",
            "justify_items": null,
            "grid_row": null,
            "max_height": null,
            "align_content": null,
            "visibility": null,
            "align_self": null,
            "height": null,
            "min_height": null,
            "padding": null,
            "grid_auto_rows": null,
            "grid_gap": null,
            "max_width": null,
            "order": null,
            "_view_module_version": "1.2.0",
            "grid_template_areas": null,
            "object_position": null,
            "object_fit": null,
            "grid_auto_columns": null,
            "margin": null,
            "display": null,
            "left": null
          }
        }
      }
    }
  },
  "cells": [
    {
      "cell_type": "code",
      "metadata": {
        "id": "sJZZ9hNj7Ys1",
        "colab": {
          "base_uri": "https://localhost:8080/"
        },
        "outputId": "562d83d6-007d-408f-9634-ed0fd83977e4"
      },
      "source": [
        "# ---------------------------------------------------------------------------- #\n",
        "# An implementation of https://arxiv.org/pdf/1512.03385.pdf                    #\n",
        "# See section 4.2 for the model architecture on CIFAR-10                       #\n",
        "# Some part of the code was referenced from below                              #\n",
        "# https://github.com/pytorch/vision/blob/master/torchvision/models/resnet.py   #\n",
        "# ---------------------------------------------------------------------------- #\n",
        "!pip install ipython-autotime\n",
        "%load_ext autotime\n",
        "import matplotlib.pyplot as plt\n",
        "import numpy as np\n",
        "import torch\n",
        "import torch.nn as nn\n",
        "import torch.nn.functional as F\n",
        "import torchvision\n",
        "import torchvision.transforms as transforms\n",
        "\n",
        "\n",
        "# Device configuration\n",
        "device = torch.device('cuda' if torch.cuda.is_available() else 'cpu')\n",
        "\n"
      ],
      "execution_count": 1,
      "outputs": [
        {
          "output_type": "stream",
          "text": [
            "Collecting ipython-autotime\n",
            "  Downloading https://files.pythonhosted.org/packages/3f/58/a4a65efcce5c81a67b6893ade862736de355a3a718af5533d30c991831ce/ipython_autotime-0.2.0-py2.py3-none-any.whl\n",
            "Requirement already satisfied: ipython in /usr/local/lib/python3.6/dist-packages (from ipython-autotime) (5.5.0)\n",
            "Requirement already satisfied: pygments in /usr/local/lib/python3.6/dist-packages (from ipython->ipython-autotime) (2.6.1)\n",
            "Requirement already satisfied: prompt-toolkit<2.0.0,>=1.0.4 in /usr/local/lib/python3.6/dist-packages (from ipython->ipython-autotime) (1.0.18)\n",
            "Requirement already satisfied: setuptools>=18.5 in /usr/local/lib/python3.6/dist-packages (from ipython->ipython-autotime) (50.3.2)\n",
            "Requirement already satisfied: pickleshare in /usr/local/lib/python3.6/dist-packages (from ipython->ipython-autotime) (0.7.5)\n",
            "Requirement already satisfied: decorator in /usr/local/lib/python3.6/dist-packages (from ipython->ipython-autotime) (4.4.2)\n",
            "Requirement already satisfied: traitlets>=4.2 in /usr/local/lib/python3.6/dist-packages (from ipython->ipython-autotime) (4.3.3)\n",
            "Requirement already satisfied: simplegeneric>0.8 in /usr/local/lib/python3.6/dist-packages (from ipython->ipython-autotime) (0.8.1)\n",
            "Requirement already satisfied: pexpect; sys_platform != \"win32\" in /usr/local/lib/python3.6/dist-packages (from ipython->ipython-autotime) (4.8.0)\n",
            "Requirement already satisfied: six>=1.9.0 in /usr/local/lib/python3.6/dist-packages (from prompt-toolkit<2.0.0,>=1.0.4->ipython->ipython-autotime) (1.15.0)\n",
            "Requirement already satisfied: wcwidth in /usr/local/lib/python3.6/dist-packages (from prompt-toolkit<2.0.0,>=1.0.4->ipython->ipython-autotime) (0.2.5)\n",
            "Requirement already satisfied: ipython-genutils in /usr/local/lib/python3.6/dist-packages (from traitlets>=4.2->ipython->ipython-autotime) (0.2.0)\n",
            "Requirement already satisfied: ptyprocess>=0.5 in /usr/local/lib/python3.6/dist-packages (from pexpect; sys_platform != \"win32\"->ipython->ipython-autotime) (0.6.0)\n",
            "Installing collected packages: ipython-autotime\n",
            "Successfully installed ipython-autotime-0.2.0\n",
            "time: 3.64 s\n"
          ],
          "name": "stdout"
        }
      ]
    },
    {
      "cell_type": "code",
      "metadata": {
        "id": "ixieggsE7eQR",
        "colab": {
          "base_uri": "https://localhost:8080/"
        },
        "outputId": "ca8e47ba-870a-4b91-fc7c-61ef473cdcb5"
      },
      "source": [
        "# Hyper-parameters\n",
        "num_epochs = 150\n",
        "learning_rate = 0.01"
      ],
      "execution_count": 2,
      "outputs": [
        {
          "output_type": "stream",
          "text": [
            "time: 776 µs\n"
          ],
          "name": "stdout"
        }
      ]
    },
    {
      "cell_type": "code",
      "metadata": {
        "id": "-RJoy91C7eTd",
        "colab": {
          "base_uri": "https://localhost:8080/"
        },
        "outputId": "aff2b044-4f56-4ea9-eddb-7353866af995"
      },
      "source": [
        "# Image preprocessing modules\n",
        "transform_train = transforms.Compose([\n",
        "    transforms.RandomCrop(32, padding=4),\n",
        "    transforms.RandomHorizontalFlip(),\n",
        "    transforms.ToTensor(),\n",
        "    transforms.Normalize((0.4914, 0.4822, 0.4465), (0.2023, 0.1994, 0.2010)),\n",
        "])\n",
        "\n",
        "transform_test = transforms.Compose([\n",
        "    transforms.ToTensor(),\n",
        "    transforms.Normalize((0.4914, 0.4822, 0.4465), (0.2023, 0.1994, 0.2010)),\n",
        "])"
      ],
      "execution_count": 3,
      "outputs": [
        {
          "output_type": "stream",
          "text": [
            "time: 3.6 ms\n"
          ],
          "name": "stdout"
        }
      ]
    },
    {
      "cell_type": "code",
      "metadata": {
        "id": "UjCnhcUluLFw"
      },
      "source": [
        ""
      ],
      "execution_count": 3,
      "outputs": []
    },
    {
      "cell_type": "code",
      "metadata": {
        "id": "AKqgCvcN3G86",
        "colab": {
          "base_uri": "https://localhost:8080/"
        },
        "outputId": "96bffb55-7a4f-4e15-8486-0e98956f849a"
      },
      "source": [
        "#transform_train = transforms.Compose([\n",
        "#    transforms.RandomCrop(32, padding=4),\n",
        "#    transforms.RandomHorizontalFlip(),\n",
        "#    transforms.ToTensor(),\n",
        "#    transforms.Normalize((0.4914, 0.4822, 0.4465), (0.2023, 0.1994, 0.2010)),\n",
        "#])\n",
        "\n",
        "#transform_test = transforms.Compose([\n",
        "#    transforms.ToTensor(),\n",
        "#    transforms.Normalize((0.4914, 0.4822, 0.4465), (0.2023, 0.1994, 0.2010)),\n",
        "#])\n"
      ],
      "execution_count": 4,
      "outputs": [
        {
          "output_type": "stream",
          "text": [
            "time: 3.84 ms\n"
          ],
          "name": "stdout"
        }
      ]
    },
    {
      "cell_type": "code",
      "metadata": {
        "id": "4vFQ-c_D7eWp",
        "colab": {
          "base_uri": "https://localhost:8080/",
          "height": 100,
          "referenced_widgets": [
            "8e15cccaa91349258ddfd2fecbd428ce",
            "96259f6beae74bd6b8beee1dc00be141",
            "3286dff10f9141358d4d1c32c9bcdcc4",
            "4aeab6687bba482ca59edfdf53c6c088",
            "18bcf0ab0ce64d1da43d864d64e139c7",
            "6254755afe5b4c4785a55839ea9e1768",
            "5d7cbfcd8b6c4aa6852b1d6677b1da04",
            "2dafd76591d3419d8689cd1ebbc088ac"
          ]
        },
        "outputId": "78a198cf-00d5-462c-9467-4209e8b6b2cd"
      },
      "source": [
        "# CIFAR-10 dataset\n",
        "train_dataset = torchvision.datasets.CIFAR10(root='../../data/',\n",
        "                                             train=True, \n",
        "                                             transform=transform_train,\n",
        "                                             download=True)\n",
        "\n",
        "test_dataset = torchvision.datasets.CIFAR10(root='../../data/',\n",
        "                                            train=False, \n",
        "                                            transform=transform_test)"
      ],
      "execution_count": 5,
      "outputs": [
        {
          "output_type": "stream",
          "text": [
            "Downloading https://www.cs.toronto.edu/~kriz/cifar-10-python.tar.gz to ../../data/cifar-10-python.tar.gz\n"
          ],
          "name": "stdout"
        },
        {
          "output_type": "display_data",
          "data": {
            "application/vnd.jupyter.widget-view+json": {
              "model_id": "8e15cccaa91349258ddfd2fecbd428ce",
              "version_minor": 0,
              "version_major": 2
            },
            "text/plain": [
              "HBox(children=(FloatProgress(value=1.0, bar_style='info', max=1.0), HTML(value='')))"
            ]
          },
          "metadata": {
            "tags": []
          }
        },
        {
          "output_type": "stream",
          "text": [
            "Extracting ../../data/cifar-10-python.tar.gz to ../../data/\n",
            "time: 6.9 s\n"
          ],
          "name": "stdout"
        }
      ]
    },
    {
      "cell_type": "code",
      "metadata": {
        "id": "78eYeI8H7eZi",
        "colab": {
          "base_uri": "https://localhost:8080/"
        },
        "outputId": "9588e45f-db05-4cd7-cc13-7b02dc0abeec"
      },
      "source": [
        "# Data loader\n",
        "\n",
        "\n",
        "\n",
        "train_loader = torch.utils.data.DataLoader(dataset=train_dataset,\n",
        "                                           batch_size=128, \n",
        "                                           shuffle=True)\n",
        "\n",
        "test_loader = torch.utils.data.DataLoader(dataset=test_dataset,\n",
        "                                          batch_size=100, \n",
        "                                          shuffle=False)\n",
        "\n",
        "classes = ('plane', 'car', 'bird', 'cat',\n",
        "           'deer', 'dog', 'frog', 'horse', 'ship', 'truck')\n",
        "\n"
      ],
      "execution_count": 6,
      "outputs": [
        {
          "output_type": "stream",
          "text": [
            "time: 3.32 ms\n"
          ],
          "name": "stdout"
        }
      ]
    },
    {
      "cell_type": "code",
      "metadata": {
        "id": "7hW9WNjPii86",
        "colab": {
          "base_uri": "https://localhost:8080/",
          "height": 337
        },
        "outputId": "67edc65a-c307-4b6d-d30b-3829dc4c3f56"
      },
      "source": [
        "# functions to show an image\n",
        "\n",
        "\n",
        "def imshow(img):\n",
        "    img = img / 2 + 0.5     # unnormalize\n",
        "    npimg = img.numpy()\n",
        "    plt.imshow(np.transpose(npimg, (1, 2, 0)))\n",
        "    plt.show()\n",
        "\n",
        "\n",
        "# get some random training images\n",
        "dataiter = iter(train_loader)\n",
        "images, labels = dataiter.next()\n",
        "\n",
        "# show images\n",
        "imshow(torchvision.utils.make_grid(images))\n",
        "# print labels\n",
        "print(' '.join('%5s' % classes[labels[j]] for j in range(4)))"
      ],
      "execution_count": 7,
      "outputs": [
        {
          "output_type": "stream",
          "text": [
            "Clipping input data to the valid range for imshow with RGB data ([0..1] for floats or [0..255] for integers).\n"
          ],
          "name": "stderr"
        },
        {
          "output_type": "display_data",
          "data": {
            "image/png": "[encoded data removed]",
            "text/plain": [
              "<Figure size 432x288 with 1 Axes>"
            ]
          },
          "metadata": {
            "tags": [],
            "needs_background": "light"
          }
        },
        {
          "output_type": "stream",
          "text": [
            "\n",
            " frog plane  ship  bird\n",
            "time: 376 ms\n"
          ],
          "name": "stdout"
        }
      ]
    },
    {
      "cell_type": "code",
      "metadata": {
        "id": "-YJAT2jCimio",
        "colab": {
          "base_uri": "https://localhost:8080/"
        },
        "outputId": "723fcc61-cd50-40ff-88f5-282d7c505994"
      },
      "source": [
        "# 3x3 convolution\n",
        "def conv3x3(in_channels, out_channels, stride=1):\n",
        "    return nn.Conv2d(in_channels, out_channels, kernel_size=3, \n",
        "                     stride=stride, padding=1, bias=False)"
      ],
      "execution_count": 8,
      "outputs": [
        {
          "output_type": "stream",
          "text": [
            "time: 2.21 ms\n"
          ],
          "name": "stdout"
        }
      ]
    },
    {
      "cell_type": "code",
      "metadata": {
        "id": "xd6Th-OF7emh",
        "colab": {
          "base_uri": "https://localhost:8080/"
        },
        "outputId": "73265c6a-b5ab-4463-826f-d8cbc2eac1d4"
      },
      "source": [
        "class BasicBlock(nn.Module):\n",
        "    expansion = 1\n",
        "\n",
        "    def __init__(self, in_planes, planes, stride=1):\n",
        "        super(BasicBlock, self).__init__()\n",
        "        #dropout=0.25\n",
        "        #dropout = 0 if dropout is None else dropout\n",
        "        self.conv1 = nn.Conv2d(in_planes, planes, kernel_size=3, stride=stride, padding=1, bias=False)\n",
        "        self.bn1 = nn.BatchNorm2d(planes)\n",
        "        self.conv2 = nn.Conv2d(planes, planes, kernel_size=3, stride=1, padding=1, bias=False)\n",
        "        self.bn2 = nn.BatchNorm2d(planes)\n",
        "        #self.dropout = nn.Dropout(dropout)\n",
        "\n",
        "        self.shortcut = nn.Sequential()\n",
        "        if stride != 1 or in_planes != self.expansion*planes:\n",
        "            self.shortcut = nn.Sequential(\n",
        "                nn.Conv2d(in_planes, self.expansion*planes, kernel_size=1, stride=stride, bias=False),\n",
        "                nn.BatchNorm2d(self.expansion*planes)\n",
        "            )\n",
        "\n",
        "    def forward(self, x):\n",
        "        out = F.relu(self.bn1(self.conv1(x)))\n",
        "        out = self.bn2(self.conv2(out))\n",
        "        #out = self.dropout(out)\n",
        "        out += self.shortcut(x)\n",
        "        out = F.relu(out)\n",
        "        \n",
        "        return out"
      ],
      "execution_count": 9,
      "outputs": [
        {
          "output_type": "stream",
          "text": [
            "time: 21.2 ms\n"
          ],
          "name": "stdout"
        }
      ]
    },
    {
      "cell_type": "code",
      "metadata": {
        "id": "J0_toKu87e3j",
        "colab": {
          "base_uri": "https://localhost:8080/"
        },
        "outputId": "1c9217db-bd2d-4876-b03f-6296b238fe5b"
      },
      "source": [
        "class Bottleneck(nn.Module):\n",
        "    expansion = 4\n",
        "\n",
        "    def __init__(self, in_planes, planes, stride=1):\n",
        "        super(Bottleneck, self).__init__()\n",
        "        dropout=0.30\n",
        "        self.conv1 = nn.Conv2d(in_planes, planes, kernel_size=1, bias=False)\n",
        "        self.bn1 = nn.BatchNorm2d(planes)\n",
        "        self.conv2 = nn.Conv2d(planes, planes, kernel_size=3, stride=stride, padding=1, bias=False)\n",
        "        self.bn2 = nn.BatchNorm2d(planes)\n",
        "        self.conv3 = nn.Conv2d(planes, self.expansion*planes, kernel_size=1, bias=False)\n",
        "        self.bn3 = nn.BatchNorm2d(self.expansion*planes)\n",
        "        self.dropout = nn.Dropout(dropout)\n",
        "\n",
        "        self.shortcut = nn.Sequential()\n",
        "        if stride != 1 or in_planes != self.expansion*planes:\n",
        "            self.shortcut = nn.Sequential(\n",
        "                nn.Conv2d(in_planes, self.expansion*planes, kernel_size=1, stride=stride, bias=False),\n",
        "                nn.BatchNorm2d(self.expansion*planes)\n",
        "            )\n",
        "\n",
        "    def forward(self, x):\n",
        "        out = F.relu(self.bn1(self.conv1(x)))\n",
        "        out = F.relu(self.bn2(self.conv2(out)))\n",
        "        out = self.bn3(self.conv3(out))\n",
        "        out = self.dropout(out)\n",
        "        out += self.shortcut(x)\n",
        "        out = F.relu(out)\n",
        "        return out"
      ],
      "execution_count": 10,
      "outputs": [
        {
          "output_type": "stream",
          "text": [
            "time: 17.1 ms\n"
          ],
          "name": "stdout"
        }
      ]
    },
    {
      "cell_type": "code",
      "metadata": {
        "id": "HpFNWO6-7ejB",
        "colab": {
          "base_uri": "https://localhost:8080/"
        },
        "outputId": "770fc955-0304-4abb-cdc7-c199f7299872"
      },
      "source": [
        "class ResNet(nn.Module):\n",
        "    def __init__(self, block, num_blocks, num_classes=10):\n",
        "        super(ResNet, self).__init__()\n",
        "        self.in_planes = 16\n",
        "\n",
        "        self.conv1 = nn.Conv2d(3, 16, kernel_size=3, stride=1, padding=1, bias=False)\n",
        "        self.bn1 = nn.BatchNorm2d(16)\n",
        "        self.layer1 = self._make_layer(block, 16, num_blocks[0], stride=1)\n",
        "        self.layer2 = self._make_layer(block, 32, num_blocks[1], stride=2)\n",
        "        self.layer3 = self._make_layer(block, 64, num_blocks[2], stride=2)\n",
        "        self.layer4 = self._make_layer(block, 128, num_blocks[3], stride=2)\n",
        "        self.linear = nn.Linear(128*block.expansion, num_classes)\n",
        "\n",
        "    def _make_layer(self, block, planes, num_blocks, stride):\n",
        "        strides = [stride] + [1]*(num_blocks-1)\n",
        "        layers = []\n",
        "        for stride in strides:\n",
        "            layers.append(block(self.in_planes, planes, stride))\n",
        "            self.in_planes = planes * block.expansion\n",
        "        return nn.Sequential(*layers)\n",
        "\n",
        "    def forward(self, x):\n",
        "        out = F.relu(self.bn1(self.conv1(x)))\n",
        "        out = self.layer1(out)\n",
        "        out = self.layer2(out)\n",
        "        out = self.layer3(out)\n",
        "        out = self.layer4(out)\n",
        "        out = F.avg_pool2d(out, 4)\n",
        "        out = out.view(out.size(0), -1)\n",
        "        out = self.linear(out)\n",
        "        return out"
      ],
      "execution_count": 11,
      "outputs": [
        {
          "output_type": "stream",
          "text": [
            "time: 26.4 ms\n"
          ],
          "name": "stdout"
        }
      ]
    },
    {
      "cell_type": "code",
      "metadata": {
        "id": "VivXxrw08DW7",
        "colab": {
          "base_uri": "https://localhost:8080/"
        },
        "outputId": "c0de4e29-e415-4a4b-f1c1-6d6b717c376c"
      },
      "source": [
        "#RESNET-18\n",
        "model = ResNet(BasicBlock, [2,2,2,2]).to(device)\n",
        "#RESNET-34\n",
        "#model = ResNet(BasicBlock, [3,4,6,3]).to(device)\n",
        "#RESNET-50\n",
        "#model = ResNet(Bottleneck, [3,4,6,3]).to(device)\n",
        "#RESNET-101\n",
        "#model = ResNet(Bottleneck, [3,4,23,3]).to(device)\n",
        "#RESNET-152\n",
        "#model = ResNet(Bottleneck, [3,8,36,3]).to(device)\n"
      ],
      "execution_count": 12,
      "outputs": [
        {
          "output_type": "stream",
          "text": [
            "time: 10.4 s\n"
          ],
          "name": "stdout"
        }
      ]
    },
    {
      "cell_type": "code",
      "metadata": {
        "id": "EiyEBpKI8Dge",
        "colab": {
          "base_uri": "https://localhost:8080/"
        },
        "outputId": "f82ed7da-fd13-4239-d463-5ec17903fe2f"
      },
      "source": [
        "# Loss and optimizer\n",
        "criterion = nn.CrossEntropyLoss()\n",
        "#optimizer = torch.optim.Adam(model.parameters(), lr=learning_rate)\n",
        "#optimizer = torch.optim.Adam(model.parameters(), lr=learning_rate,weight_decay=1e-5)\n",
        "#optimizer = torch.optim.Adam(model.parameters(), lr=learning_rate, momentum=0.9, weight_decay=5e-4)\n",
        "optimizer = torch.optim.SGD(model.parameters(), lr=learning_rate, momentum=0.9, weight_decay=5e-4)\n",
        "#optimizer = torch.optim.SGD(model.parameters(), lr=learning_rate)\n",
        "\n",
        "# For updating learning rate\n",
        "def update_lr(optimizer, lr):    \n",
        "    for param_group in optimizer.param_groups:\n",
        "        param_group['lr'] = lr"
      ],
      "execution_count": 13,
      "outputs": [
        {
          "output_type": "stream",
          "text": [
            "time: 6.42 ms\n"
          ],
          "name": "stdout"
        }
      ]
    },
    {
      "cell_type": "code",
      "metadata": {
        "id": "dRNxNEUy8DeB",
        "colab": {
          "base_uri": "https://localhost:8080/"
        },
        "outputId": "3737487e-ab88-457a-818b-5fd9bfc37554"
      },
      "source": [
        "# Train the model\n",
        "total_step = len(train_loader)\n",
        "curr_lr = learning_rate\n",
        "for epoch in range(num_epochs):\n",
        "    correct = 0\n",
        "    total = 0\n",
        "    for i,(images, labels) in enumerate(train_loader):\n",
        "        images = images.to(device)\n",
        "        labels = labels.to(device)\n",
        "\n",
        "        # Forward pass\n",
        "        outputs = model(images)\n",
        "        loss = criterion(outputs, labels)\n",
        "\n",
        "        # Backward and optimize\n",
        "        optimizer.zero_grad()\n",
        "        loss.backward()\n",
        "        optimizer.step()\n",
        "\n",
        "        _, predicted = torch.max(outputs.data, 1)\n",
        "        total += labels.size(0)\n",
        "        correct += (predicted == labels).sum().item()\n",
        "\n",
        "        #if (i+1) % 100 == 0:\n",
        "          \n",
        "    print (\"Epoch [{}/{}], Train Loss: {:.4f} Train Accuracy: {} %\"\n",
        "                   .format(epoch+1, num_epochs,  loss.item(),round((100 * correct / total),2)))\n",
        "\n",
        "    # Decay learning rate\n",
        "    if (epoch+1) % 20 == 0:\n",
        "        curr_lr /= 3\n",
        "        update_lr(optimizer, curr_lr)"
      ],
      "execution_count": 14,
      "outputs": [
        {
          "output_type": "stream",
          "text": [
            "Epoch [1/150], Train Loss: 1.1964 Train Accuracy: 40.99 %\n",
            "Epoch [2/150], Train Loss: 0.9167 Train Accuracy: 60.17 %\n",
            "Epoch [3/150], Train Loss: 0.8198 Train Accuracy: 68.47 %\n",
            "Epoch [4/150], Train Loss: 0.7076 Train Accuracy: 73.24 %\n",
            "Epoch [5/150], Train Loss: 1.0042 Train Accuracy: 75.97 %\n",
            "Epoch [6/150], Train Loss: 0.7448 Train Accuracy: 78.29 %\n",
            "Epoch [7/150], Train Loss: 0.5654 Train Accuracy: 79.75 %\n",
            "Epoch [8/150], Train Loss: 0.6556 Train Accuracy: 80.89 %\n",
            "Epoch [9/150], Train Loss: 0.4628 Train Accuracy: 82.31 %\n",
            "Epoch [10/150], Train Loss: 0.5535 Train Accuracy: 82.92 %\n",
            "Epoch [11/150], Train Loss: 0.4470 Train Accuracy: 83.56 %\n",
            "Epoch [12/150], Train Loss: 0.3351 Train Accuracy: 84.37 %\n",
            "Epoch [13/150], Train Loss: 0.3366 Train Accuracy: 84.99 %\n",
            "Epoch [14/150], Train Loss: 0.5040 Train Accuracy: 85.29 %\n",
            "Epoch [15/150], Train Loss: 0.3440 Train Accuracy: 85.95 %\n",
            "Epoch [16/150], Train Loss: 0.5303 Train Accuracy: 86.46 %\n",
            "Epoch [17/150], Train Loss: 0.5369 Train Accuracy: 86.94 %\n",
            "Epoch [18/150], Train Loss: 0.3778 Train Accuracy: 87.48 %\n",
            "Epoch [19/150], Train Loss: 0.4807 Train Accuracy: 87.84 %\n",
            "Epoch [20/150], Train Loss: 0.3317 Train Accuracy: 87.97 %\n",
            "Epoch [21/150], Train Loss: 0.2373 Train Accuracy: 90.61 %\n",
            "Epoch [22/150], Train Loss: 0.2021 Train Accuracy: 91.24 %\n",
            "Epoch [23/150], Train Loss: 0.2589 Train Accuracy: 91.28 %\n",
            "Epoch [24/150], Train Loss: 0.1915 Train Accuracy: 91.6 %\n",
            "Epoch [25/150], Train Loss: 0.2282 Train Accuracy: 91.79 %\n",
            "Epoch [26/150], Train Loss: 0.2826 Train Accuracy: 91.77 %\n",
            "Epoch [27/150], Train Loss: 0.2242 Train Accuracy: 92.27 %\n",
            "Epoch [28/150], Train Loss: 0.2888 Train Accuracy: 92.41 %\n",
            "Epoch [29/150], Train Loss: 0.1329 Train Accuracy: 92.43 %\n",
            "Epoch [30/150], Train Loss: 0.2660 Train Accuracy: 92.61 %\n",
            "Epoch [31/150], Train Loss: 0.2790 Train Accuracy: 92.53 %\n",
            "Epoch [32/150], Train Loss: 0.3372 Train Accuracy: 92.62 %\n",
            "Epoch [33/150], Train Loss: 0.2077 Train Accuracy: 92.97 %\n",
            "Epoch [34/150], Train Loss: 0.2493 Train Accuracy: 92.85 %\n",
            "Epoch [35/150], Train Loss: 0.2351 Train Accuracy: 93.16 %\n",
            "Epoch [36/150], Train Loss: 0.1769 Train Accuracy: 93.13 %\n",
            "Epoch [37/150], Train Loss: 0.1445 Train Accuracy: 93.22 %\n",
            "Epoch [38/150], Train Loss: 0.2842 Train Accuracy: 93.26 %\n",
            "Epoch [39/150], Train Loss: 0.2808 Train Accuracy: 93.44 %\n",
            "Epoch [40/150], Train Loss: 0.1885 Train Accuracy: 93.53 %\n",
            "Epoch [41/150], Train Loss: 0.1208 Train Accuracy: 94.93 %\n",
            "Epoch [42/150], Train Loss: 0.1398 Train Accuracy: 95.25 %\n",
            "Epoch [43/150], Train Loss: 0.1243 Train Accuracy: 95.34 %\n",
            "Epoch [44/150], Train Loss: 0.1388 Train Accuracy: 95.51 %\n",
            "Epoch [45/150], Train Loss: 0.1868 Train Accuracy: 95.46 %\n",
            "Epoch [46/150], Train Loss: 0.1042 Train Accuracy: 95.58 %\n",
            "Epoch [47/150], Train Loss: 0.1652 Train Accuracy: 95.73 %\n",
            "Epoch [48/150], Train Loss: 0.0537 Train Accuracy: 95.8 %\n",
            "Epoch [49/150], Train Loss: 0.0956 Train Accuracy: 95.91 %\n",
            "Epoch [50/150], Train Loss: 0.1024 Train Accuracy: 95.94 %\n",
            "Epoch [51/150], Train Loss: 0.1032 Train Accuracy: 95.96 %\n",
            "Epoch [52/150], Train Loss: 0.1942 Train Accuracy: 95.86 %\n",
            "Epoch [53/150], Train Loss: 0.0371 Train Accuracy: 96.11 %\n",
            "Epoch [54/150], Train Loss: 0.1754 Train Accuracy: 96.15 %\n",
            "Epoch [55/150], Train Loss: 0.1184 Train Accuracy: 96.21 %\n",
            "Epoch [56/150], Train Loss: 0.1320 Train Accuracy: 96.24 %\n",
            "Epoch [57/150], Train Loss: 0.1928 Train Accuracy: 96.19 %\n",
            "Epoch [58/150], Train Loss: 0.1419 Train Accuracy: 96.23 %\n",
            "Epoch [59/150], Train Loss: 0.1177 Train Accuracy: 96.34 %\n",
            "Epoch [60/150], Train Loss: 0.1104 Train Accuracy: 96.39 %\n",
            "Epoch [61/150], Train Loss: 0.1295 Train Accuracy: 96.82 %\n",
            "Epoch [62/150], Train Loss: 0.0920 Train Accuracy: 97.02 %\n",
            "Epoch [63/150], Train Loss: 0.0632 Train Accuracy: 97.1 %\n",
            "Epoch [64/150], Train Loss: 0.0872 Train Accuracy: 97.16 %\n",
            "Epoch [65/150], Train Loss: 0.0914 Train Accuracy: 97.24 %\n",
            "Epoch [66/150], Train Loss: 0.0725 Train Accuracy: 97.3 %\n",
            "Epoch [67/150], Train Loss: 0.0636 Train Accuracy: 97.19 %\n",
            "Epoch [68/150], Train Loss: 0.0638 Train Accuracy: 97.19 %\n",
            "Epoch [69/150], Train Loss: 0.0286 Train Accuracy: 97.22 %\n",
            "Epoch [70/150], Train Loss: 0.1952 Train Accuracy: 97.36 %\n",
            "Epoch [71/150], Train Loss: 0.0577 Train Accuracy: 97.32 %\n",
            "Epoch [72/150], Train Loss: 0.1495 Train Accuracy: 97.41 %\n",
            "Epoch [73/150], Train Loss: 0.1147 Train Accuracy: 97.46 %\n",
            "Epoch [74/150], Train Loss: 0.0658 Train Accuracy: 97.36 %\n",
            "Epoch [75/150], Train Loss: 0.0348 Train Accuracy: 97.38 %\n",
            "Epoch [76/150], Train Loss: 0.0961 Train Accuracy: 97.35 %\n",
            "Epoch [77/150], Train Loss: 0.0779 Train Accuracy: 97.56 %\n",
            "Epoch [78/150], Train Loss: 0.1166 Train Accuracy: 97.51 %\n",
            "Epoch [79/150], Train Loss: 0.1670 Train Accuracy: 97.62 %\n",
            "Epoch [80/150], Train Loss: 0.0612 Train Accuracy: 97.48 %\n",
            "Epoch [81/150], Train Loss: 0.0966 Train Accuracy: 97.75 %\n",
            "Epoch [82/150], Train Loss: 0.1255 Train Accuracy: 97.75 %\n",
            "Epoch [83/150], Train Loss: 0.1184 Train Accuracy: 97.76 %\n",
            "Epoch [84/150], Train Loss: 0.1149 Train Accuracy: 97.71 %\n",
            "Epoch [85/150], Train Loss: 0.1030 Train Accuracy: 97.66 %\n",
            "Epoch [86/150], Train Loss: 0.0363 Train Accuracy: 97.76 %\n",
            "Epoch [87/150], Train Loss: 0.0338 Train Accuracy: 97.81 %\n",
            "Epoch [88/150], Train Loss: 0.0554 Train Accuracy: 97.81 %\n",
            "Epoch [89/150], Train Loss: 0.1213 Train Accuracy: 97.94 %\n",
            "Epoch [90/150], Train Loss: 0.0668 Train Accuracy: 97.84 %\n",
            "Epoch [91/150], Train Loss: 0.0518 Train Accuracy: 97.84 %\n",
            "Epoch [92/150], Train Loss: 0.0309 Train Accuracy: 97.85 %\n",
            "Epoch [93/150], Train Loss: 0.1414 Train Accuracy: 97.87 %\n",
            "Epoch [94/150], Train Loss: 0.0358 Train Accuracy: 97.84 %\n",
            "Epoch [95/150], Train Loss: 0.0804 Train Accuracy: 97.94 %\n",
            "Epoch [96/150], Train Loss: 0.1515 Train Accuracy: 97.93 %\n",
            "Epoch [97/150], Train Loss: 0.0765 Train Accuracy: 97.98 %\n",
            "Epoch [98/150], Train Loss: 0.0629 Train Accuracy: 97.84 %\n",
            "Epoch [99/150], Train Loss: 0.0820 Train Accuracy: 97.9 %\n",
            "Epoch [100/150], Train Loss: 0.0767 Train Accuracy: 97.82 %\n",
            "Epoch [101/150], Train Loss: 0.0283 Train Accuracy: 97.88 %\n",
            "Epoch [102/150], Train Loss: 0.2076 Train Accuracy: 97.99 %\n",
            "Epoch [103/150], Train Loss: 0.0768 Train Accuracy: 97.94 %\n",
            "Epoch [104/150], Train Loss: 0.1441 Train Accuracy: 98.04 %\n",
            "Epoch [105/150], Train Loss: 0.1273 Train Accuracy: 97.95 %\n",
            "Epoch [106/150], Train Loss: 0.0593 Train Accuracy: 98.01 %\n",
            "Epoch [107/150], Train Loss: 0.0485 Train Accuracy: 98.05 %\n",
            "Epoch [108/150], Train Loss: 0.0709 Train Accuracy: 98.07 %\n",
            "Epoch [109/150], Train Loss: 0.0726 Train Accuracy: 97.97 %\n",
            "Epoch [110/150], Train Loss: 0.0949 Train Accuracy: 98.02 %\n",
            "Epoch [111/150], Train Loss: 0.0462 Train Accuracy: 97.96 %\n",
            "Epoch [112/150], Train Loss: 0.1055 Train Accuracy: 97.96 %\n",
            "Epoch [113/150], Train Loss: 0.0903 Train Accuracy: 98.02 %\n",
            "Epoch [114/150], Train Loss: 0.0740 Train Accuracy: 97.99 %\n",
            "Epoch [115/150], Train Loss: 0.1072 Train Accuracy: 98.01 %\n",
            "Epoch [116/150], Train Loss: 0.0218 Train Accuracy: 97.93 %\n",
            "Epoch [117/150], Train Loss: 0.0783 Train Accuracy: 97.95 %\n",
            "Epoch [118/150], Train Loss: 0.0506 Train Accuracy: 98.06 %\n",
            "Epoch [119/150], Train Loss: 0.0880 Train Accuracy: 98.05 %\n",
            "Epoch [120/150], Train Loss: 0.0662 Train Accuracy: 98.0 %\n",
            "Epoch [121/150], Train Loss: 0.0435 Train Accuracy: 97.98 %\n",
            "Epoch [122/150], Train Loss: 0.0355 Train Accuracy: 98.04 %\n",
            "Epoch [123/150], Train Loss: 0.1147 Train Accuracy: 98.12 %\n",
            "Epoch [124/150], Train Loss: 0.0345 Train Accuracy: 97.99 %\n",
            "Epoch [125/150], Train Loss: 0.0610 Train Accuracy: 98.07 %\n",
            "Epoch [126/150], Train Loss: 0.0715 Train Accuracy: 98.0 %\n",
            "Epoch [127/150], Train Loss: 0.0585 Train Accuracy: 97.98 %\n",
            "Epoch [128/150], Train Loss: 0.0296 Train Accuracy: 97.98 %\n",
            "Epoch [129/150], Train Loss: 0.0912 Train Accuracy: 98.06 %\n",
            "Epoch [130/150], Train Loss: 0.1846 Train Accuracy: 98.04 %\n",
            "Epoch [131/150], Train Loss: 0.0240 Train Accuracy: 98.08 %\n",
            "Epoch [132/150], Train Loss: 0.0657 Train Accuracy: 98.04 %\n",
            "Epoch [133/150], Train Loss: 0.0547 Train Accuracy: 98.1 %\n",
            "Epoch [134/150], Train Loss: 0.0886 Train Accuracy: 98.09 %\n",
            "Epoch [135/150], Train Loss: 0.1172 Train Accuracy: 98.07 %\n",
            "Epoch [136/150], Train Loss: 0.0687 Train Accuracy: 98.04 %\n",
            "Epoch [137/150], Train Loss: 0.0549 Train Accuracy: 98.07 %\n",
            "Epoch [138/150], Train Loss: 0.0989 Train Accuracy: 98.06 %\n",
            "Epoch [139/150], Train Loss: 0.0813 Train Accuracy: 98.04 %\n",
            "Epoch [140/150], Train Loss: 0.0853 Train Accuracy: 98.03 %\n",
            "Epoch [141/150], Train Loss: 0.0447 Train Accuracy: 98.05 %\n",
            "Epoch [142/150], Train Loss: 0.1172 Train Accuracy: 98.0 %\n",
            "Epoch [143/150], Train Loss: 0.0627 Train Accuracy: 97.98 %\n",
            "Epoch [144/150], Train Loss: 0.1078 Train Accuracy: 98.16 %\n",
            "Epoch [145/150], Train Loss: 0.0546 Train Accuracy: 98.01 %\n",
            "Epoch [146/150], Train Loss: 0.0722 Train Accuracy: 98.04 %\n",
            "Epoch [147/150], Train Loss: 0.0700 Train Accuracy: 98.11 %\n",
            "Epoch [148/150], Train Loss: 0.0425 Train Accuracy: 98.1 %\n",
            "Epoch [149/150], Train Loss: 0.0998 Train Accuracy: 98.09 %\n",
            "Epoch [150/150], Train Loss: 0.0443 Train Accuracy: 98.17 %\n",
            "time: 1h 8min 26s\n"
          ],
          "name": "stdout"
        }
      ]
    },
    {
      "cell_type": "code",
      "metadata": {
        "id": "-2-vn6CLxSBq",
        "colab": {
          "base_uri": "https://localhost:8080/",
          "height": 1000
        },
        "outputId": "07e8ad64-74bc-4903-ba4f-9b6414487bd1"
      },
      "source": [
        "import matplotlib.pyplot as plt\n",
        "import numpy as np\n",
        "\n",
        "def convert_to_imshow_format(image):\n",
        "    # first convert back to [0,1] range from [-1,1] range\n",
        "    image = image / 2 + 0.5\n",
        "    image = image.numpy()\n",
        "    # convert from CHW to HWC\n",
        "    # from 3x32x32 to 32x32x3\n",
        "    return image.transpose(1,2,0)\n",
        "\n",
        "dataiter = iter(train_loader)\n",
        "images, labels = dataiter.next()\n",
        "\n",
        "fig, axes = plt.subplots(1, len(images), figsize=(12,2.5))\n",
        "for idx, image in enumerate(images):\n",
        "    axes[idx].imshow(convert_to_imshow_format(image))\n",
        "    axes[idx].set_title(classes[labels[idx]])\n",
        "    axes[idx].set_xticks([])\n",
        "    axes[idx].set_yticks([])"
      ],
      "execution_count": 15,
      "outputs": [
        {
          "output_type": "stream",
          "text": [
            "Clipping input data to the valid range for imshow with RGB data ([0..1] for floats or [0..255] for integers).\n",
            "Clipping input data to the valid range for imshow with RGB data ([0..1] for floats or [0..255] for integers).\n",
            "Clipping input data to the valid range for imshow with RGB data ([0..1] for floats or [0..255] for integers).\n",
            "Clipping input data to the valid range for imshow with RGB data ([0..1] for floats or [0..255] for integers).\n",
            "Clipping input data to the valid range for imshow with RGB data ([0..1] for floats or [0..255] for integers).\n",
            "Clipping input data to the valid range for imshow with RGB data ([0..1] for floats or [0..255] for integers).\n",
            "Clipping input data to the valid range for imshow with RGB data ([0..1] for floats or [0..255] for integers).\n",
            "Clipping input data to the valid range for imshow with RGB data ([0..1] for floats or [0..255] for integers).\n",
            "Clipping input data to the valid range for imshow with RGB data ([0..1] for floats or [0..255] for integers).\n",
            "Clipping input data to the valid range for imshow with RGB data ([0..1] for floats or [0..255] for integers).\n",
            "Clipping input data to the valid range for imshow with RGB data ([0..1] for floats or [0..255] for integers).\n",
            "Clipping input data to the valid range for imshow with RGB data ([0..1] for floats or [0..255] for integers).\n",
            "Clipping input data to the valid range for imshow with RGB data ([0..1] for floats or [0..255] for integers).\n",
            "Clipping input data to the valid range for imshow with RGB data ([0..1] for floats or [0..255] for integers).\n",
            "Clipping input data to the valid range for imshow with RGB data ([0..1] for floats or [0..255] for integers).\n",
            "Clipping input data to the valid range for imshow with RGB data ([0..1] for floats or [0..255] for integers).\n",
            "Clipping input data to the valid range for imshow with RGB data ([0..1] for floats or [0..255] for integers).\n",
            "Clipping input data to the valid range for imshow with RGB data ([0..1] for floats or [0..255] for integers).\n",
            "Clipping input data to the valid range for imshow with RGB data ([0..1] for floats or [0..255] for integers).\n",
            "Clipping input data to the valid range for imshow with RGB data ([0..1] for floats or [0..255] for integers).\n",
            "Clipping input data to the valid range for imshow with RGB data ([0..1] for floats or [0..255] for integers).\n",
            "Clipping input data to the valid range for imshow with RGB data ([0..1] for floats or [0..255] for integers).\n",
            "Clipping input data to the valid range for imshow with RGB data ([0..1] for floats or [0..255] for integers).\n",
            "Clipping input data to the valid range for imshow with RGB data ([0..1] for floats or [0..255] for integers).\n",
            "Clipping input data to the valid range for imshow with RGB data ([0..1] for floats or [0..255] for integers).\n",
            "Clipping input data to the valid range for imshow with RGB data ([0..1] for floats or [0..255] for integers).\n",
            "Clipping input data to the valid range for imshow with RGB data ([0..1] for floats or [0..255] for integers).\n",
            "Clipping input data to the valid range for imshow with RGB data ([0..1] for floats or [0..255] for integers).\n",
            "Clipping input data to the valid range for imshow with RGB data ([0..1] for floats or [0..255] for integers).\n",
            "Clipping input data to the valid range for imshow with RGB data ([0..1] for floats or [0..255] for integers).\n",
            "Clipping input data to the valid range for imshow with RGB data ([0..1] for floats or [0..255] for integers).\n",
            "Clipping input data to the valid range for imshow with RGB data ([0..1] for floats or [0..255] for integers).\n",
            "Clipping input data to the valid range for imshow with RGB data ([0..1] for floats or [0..255] for integers).\n",
            "Clipping input data to the valid range for imshow with RGB data ([0..1] for floats or [0..255] for integers).\n",
            "Clipping input data to the valid range for imshow with RGB data ([0..1] for floats or [0..255] for integers).\n",
            "Clipping input data to the valid range for imshow with RGB data ([0..1] for floats or [0..255] for integers).\n",
            "Clipping input data to the valid range for imshow with RGB data ([0..1] for floats or [0..255] for integers).\n",
            "Clipping input data to the valid range for imshow with RGB data ([0..1] for floats or [0..255] for integers).\n",
            "Clipping input data to the valid range for imshow with RGB data ([0..1] for floats or [0..255] for integers).\n",
            "Clipping input data to the valid range for imshow with RGB data ([0..1] for floats or [0..255] for integers).\n",
            "Clipping input data to the valid range for imshow with RGB data ([0..1] for floats or [0..255] for integers).\n",
            "Clipping input data to the valid range for imshow with RGB data ([0..1] for floats or [0..255] for integers).\n",
            "Clipping input data to the valid range for imshow with RGB data ([0..1] for floats or [0..255] for integers).\n",
            "Clipping input data to the valid range for imshow with RGB data ([0..1] for floats or [0..255] for integers).\n",
            "Clipping input data to the valid range for imshow with RGB data ([0..1] for floats or [0..255] for integers).\n",
            "Clipping input data to the valid range for imshow with RGB data ([0..1] for floats or [0..255] for integers).\n",
            "Clipping input data to the valid range for imshow with RGB data ([0..1] for floats or [0..255] for integers).\n",
            "Clipping input data to the valid range for imshow with RGB data ([0..1] for floats or [0..255] for integers).\n",
            "Clipping input data to the valid range for imshow with RGB data ([0..1] for floats or [0..255] for integers).\n",
            "Clipping input data to the valid range for imshow with RGB data ([0..1] for floats or [0..255] for integers).\n",
            "Clipping input data to the valid range for imshow with RGB data ([0..1] for floats or [0..255] for integers).\n",
            "Clipping input data to the valid range for imshow with RGB data ([0..1] for floats or [0..255] for integers).\n",
            "Clipping input data to the valid range for imshow with RGB data ([0..1] for floats or [0..255] for integers).\n",
            "Clipping input data to the valid range for imshow with RGB data ([0..1] for floats or [0..255] for integers).\n",
            "Clipping input data to the valid range for imshow with RGB data ([0..1] for floats or [0..255] for integers).\n",
            "Clipping input data to the valid range for imshow with RGB data ([0..1] for floats or [0..255] for integers).\n",
            "Clipping input data to the valid range for imshow with RGB data ([0..1] for floats or [0..255] for integers).\n",
            "Clipping input data to the valid range for imshow with RGB data ([0..1] for floats or [0..255] for integers).\n",
            "Clipping input data to the valid range for imshow with RGB data ([0..1] for floats or [0..255] for integers).\n",
            "Clipping input data to the valid range for imshow with RGB data ([0..1] for floats or [0..255] for integers).\n",
            "Clipping input data to the valid range for imshow with RGB data ([0..1] for floats or [0..255] for integers).\n",
            "Clipping input data to the valid range for imshow with RGB data ([0..1] for floats or [0..255] for integers).\n",
            "Clipping input data to the valid range for imshow with RGB data ([0..1] for floats or [0..255] for integers).\n",
            "Clipping input data to the valid range for imshow with RGB data ([0..1] for floats or [0..255] for integers).\n",
            "Clipping input data to the valid range for imshow with RGB data ([0..1] for floats or [0..255] for integers).\n",
            "Clipping input data to the valid range for imshow with RGB data ([0..1] for floats or [0..255] for integers).\n",
            "Clipping input data to the valid range for imshow with RGB data ([0..1] for floats or [0..255] for integers).\n",
            "Clipping input data to the valid range for imshow with RGB data ([0..1] for floats or [0..255] for integers).\n",
            "Clipping input data to the valid range for imshow with RGB data ([0..1] for floats or [0..255] for integers).\n",
            "Clipping input data to the valid range for imshow with RGB data ([0..1] for floats or [0..255] for integers).\n",
            "Clipping input data to the valid range for imshow with RGB data ([0..1] for floats or [0..255] for integers).\n",
            "Clipping input data to the valid range for imshow with RGB data ([0..1] for floats or [0..255] for integers).\n",
            "Clipping input data to the valid range for imshow with RGB data ([0..1] for floats or [0..255] for integers).\n",
            "Clipping input data to the valid range for imshow with RGB data ([0..1] for floats or [0..255] for integers).\n",
            "Clipping input data to the valid range for imshow with RGB data ([0..1] for floats or [0..255] for integers).\n",
            "Clipping input data to the valid range for imshow with RGB data ([0..1] for floats or [0..255] for integers).\n",
            "Clipping input data to the valid range for imshow with RGB data ([0..1] for floats or [0..255] for integers).\n",
            "Clipping input data to the valid range for imshow with RGB data ([0..1] for floats or [0..255] for integers).\n",
            "Clipping input data to the valid range for imshow with RGB data ([0..1] for floats or [0..255] for integers).\n",
            "Clipping input data to the valid range for imshow with RGB data ([0..1] for floats or [0..255] for integers).\n",
            "Clipping input data to the valid range for imshow with RGB data ([0..1] for floats or [0..255] for integers).\n",
            "Clipping input data to the valid range for imshow with RGB data ([0..1] for floats or [0..255] for integers).\n",
            "Clipping input data to the valid range for imshow with RGB data ([0..1] for floats or [0..255] for integers).\n",
            "Clipping input data to the valid range for imshow with RGB data ([0..1] for floats or [0..255] for integers).\n",
            "Clipping input data to the valid range for imshow with RGB data ([0..1] for floats or [0..255] for integers).\n",
            "Clipping input data to the valid range for imshow with RGB data ([0..1] for floats or [0..255] for integers).\n",
            "Clipping input data to the valid range for imshow with RGB data ([0..1] for floats or [0..255] for integers).\n",
            "Clipping input data to the valid range for imshow with RGB data ([0..1] for floats or [0..255] for integers).\n",
            "Clipping input data to the valid range for imshow with RGB data ([0..1] for floats or [0..255] for integers).\n",
            "Clipping input data to the valid range for imshow with RGB data ([0..1] for floats or [0..255] for integers).\n",
            "Clipping input data to the valid range for imshow with RGB data ([0..1] for floats or [0..255] for integers).\n",
            "Clipping input data to the valid range for imshow with RGB data ([0..1] for floats or [0..255] for integers).\n",
            "Clipping input data to the valid range for imshow with RGB data ([0..1] for floats or [0..255] for integers).\n",
            "Clipping input data to the valid range for imshow with RGB data ([0..1] for floats or [0..255] for integers).\n",
            "Clipping input data to the valid range for imshow with RGB data ([0..1] for floats or [0..255] for integers).\n",
            "Clipping input data to the valid range for imshow with RGB data ([0..1] for floats or [0..255] for integers).\n",
            "Clipping input data to the valid range for imshow with RGB data ([0..1] for floats or [0..255] for integers).\n",
            "Clipping input data to the valid range for imshow with RGB data ([0..1] for floats or [0..255] for integers).\n",
            "Clipping input data to the valid range for imshow with RGB data ([0..1] for floats or [0..255] for integers).\n",
            "Clipping input data to the valid range for imshow with RGB data ([0..1] for floats or [0..255] for integers).\n",
            "Clipping input data to the valid range for imshow with RGB data ([0..1] for floats or [0..255] for integers).\n",
            "Clipping input data to the valid range for imshow with RGB data ([0..1] for floats or [0..255] for integers).\n",
            "Clipping input data to the valid range for imshow with RGB data ([0..1] for floats or [0..255] for integers).\n",
            "Clipping input data to the valid range for imshow with RGB data ([0..1] for floats or [0..255] for integers).\n",
            "Clipping input data to the valid range for imshow with RGB data ([0..1] for floats or [0..255] for integers).\n",
            "Clipping input data to the valid range for imshow with RGB data ([0..1] for floats or [0..255] for integers).\n",
            "Clipping input data to the valid range for imshow with RGB data ([0..1] for floats or [0..255] for integers).\n",
            "Clipping input data to the valid range for imshow with RGB data ([0..1] for floats or [0..255] for integers).\n",
            "Clipping input data to the valid range for imshow with RGB data ([0..1] for floats or [0..255] for integers).\n",
            "Clipping input data to the valid range for imshow with RGB data ([0..1] for floats or [0..255] for integers).\n",
            "Clipping input data to the valid range for imshow with RGB data ([0..1] for floats or [0..255] for integers).\n",
            "Clipping input data to the valid range for imshow with RGB data ([0..1] for floats or [0..255] for integers).\n",
            "Clipping input data to the valid range for imshow with RGB data ([0..1] for floats or [0..255] for integers).\n",
            "Clipping input data to the valid range for imshow with RGB data ([0..1] for floats or [0..255] for integers).\n",
            "Clipping input data to the valid range for imshow with RGB data ([0..1] for floats or [0..255] for integers).\n",
            "Clipping input data to the valid range for imshow with RGB data ([0..1] for floats or [0..255] for integers).\n",
            "Clipping input data to the valid range for imshow with RGB data ([0..1] for floats or [0..255] for integers).\n",
            "Clipping input data to the valid range for imshow with RGB data ([0..1] for floats or [0..255] for integers).\n",
            "Clipping input data to the valid range for imshow with RGB data ([0..1] for floats or [0..255] for integers).\n",
            "Clipping input data to the valid range for imshow with RGB data ([0..1] for floats or [0..255] for integers).\n",
            "Clipping input data to the valid range for imshow with RGB data ([0..1] for floats or [0..255] for integers).\n",
            "Clipping input data to the valid range for imshow with RGB data ([0..1] for floats or [0..255] for integers).\n",
            "Clipping input data to the valid range for imshow with RGB data ([0..1] for floats or [0..255] for integers).\n",
            "Clipping input data to the valid range for imshow with RGB data ([0..1] for floats or [0..255] for integers).\n",
            "Clipping input data to the valid range for imshow with RGB data ([0..1] for floats or [0..255] for integers).\n",
            "Clipping input data to the valid range for imshow with RGB data ([0..1] for floats or [0..255] for integers).\n",
            "Clipping input data to the valid range for imshow with RGB data ([0..1] for floats or [0..255] for integers).\n",
            "Clipping input data to the valid range for imshow with RGB data ([0..1] for floats or [0..255] for integers).\n"
          ],
          "name": "stderr"
        },
        {
          "output_type": "display_data",
          "data": {
            "image/png": "[encoded data removed]",
            "text/plain": [
              "<Figure size 864x180 with 128 Axes>"
            ]
          },
          "metadata": {
            "tags": []
          }
        },
        {
          "output_type": "stream",
          "text": [
            "time: 3.83 s\n"
          ],
          "name": "stdout"
        }
      ]
    },
    {
      "cell_type": "code",
      "metadata": {
        "id": "ytAhp0JWxCuV",
        "colab": {
          "base_uri": "https://localhost:8080/",
          "height": 1000
        },
        "outputId": "d03cea73-01cd-4da3-fdd9-e3e800e41b72"
      },
      "source": [
        "dataiter = iter(test_loader)\n",
        "images, labels = dataiter.next()\n",
        "\n",
        "fig, axes = plt.subplots(1, len(images), figsize=(12,2.5))\n",
        "for idx, image in enumerate(images):\n",
        "    axes[idx].imshow(convert_to_imshow_format(image))\n",
        "    axes[idx].set_title(classes[labels[idx]])\n",
        "    axes[idx].set_xticks([])\n",
        "    axes[idx].set_yticks([])"
      ],
      "execution_count": 16,
      "outputs": [
        {
          "output_type": "stream",
          "text": [
            "Clipping input data to the valid range for imshow with RGB data ([0..1] for floats or [0..255] for integers).\n",
            "Clipping input data to the valid range for imshow with RGB data ([0..1] for floats or [0..255] for integers).\n",
            "Clipping input data to the valid range for imshow with RGB data ([0..1] for floats or [0..255] for integers).\n",
            "Clipping input data to the valid range for imshow with RGB data ([0..1] for floats or [0..255] for integers).\n",
            "Clipping input data to the valid range for imshow with RGB data ([0..1] for floats or [0..255] for integers).\n",
            "Clipping input data to the valid range for imshow with RGB data ([0..1] for floats or [0..255] for integers).\n",
            "Clipping input data to the valid range for imshow with RGB data ([0..1] for floats or [0..255] for integers).\n",
            "Clipping input data to the valid range for imshow with RGB data ([0..1] for floats or [0..255] for integers).\n",
            "Clipping input data to the valid range for imshow with RGB data ([0..1] for floats or [0..255] for integers).\n",
            "Clipping input data to the valid range for imshow with RGB data ([0..1] for floats or [0..255] for integers).\n",
            "Clipping input data to the valid range for imshow with RGB data ([0..1] for floats or [0..255] for integers).\n",
            "Clipping input data to the valid range for imshow with RGB data ([0..1] for floats or [0..255] for integers).\n",
            "Clipping input data to the valid range for imshow with RGB data ([0..1] for floats or [0..255] for integers).\n",
            "Clipping input data to the valid range for imshow with RGB data ([0..1] for floats or [0..255] for integers).\n",
            "Clipping input data to the valid range for imshow with RGB data ([0..1] for floats or [0..255] for integers).\n",
            "Clipping input data to the valid range for imshow with RGB data ([0..1] for floats or [0..255] for integers).\n",
            "Clipping input data to the valid range for imshow with RGB data ([0..1] for floats or [0..255] for integers).\n",
            "Clipping input data to the valid range for imshow with RGB data ([0..1] for floats or [0..255] for integers).\n",
            "Clipping input data to the valid range for imshow with RGB data ([0..1] for floats or [0..255] for integers).\n",
            "Clipping input data to the valid range for imshow with RGB data ([0..1] for floats or [0..255] for integers).\n",
            "Clipping input data to the valid range for imshow with RGB data ([0..1] for floats or [0..255] for integers).\n",
            "Clipping input data to the valid range for imshow with RGB data ([0..1] for floats or [0..255] for integers).\n",
            "Clipping input data to the valid range for imshow with RGB data ([0..1] for floats or [0..255] for integers).\n",
            "Clipping input data to the valid range for imshow with RGB data ([0..1] for floats or [0..255] for integers).\n",
            "Clipping input data to the valid range for imshow with RGB data ([0..1] for floats or [0..255] for integers).\n",
            "Clipping input data to the valid range for imshow with RGB data ([0..1] for floats or [0..255] for integers).\n",
            "Clipping input data to the valid range for imshow with RGB data ([0..1] for floats or [0..255] for integers).\n",
            "Clipping input data to the valid range for imshow with RGB data ([0..1] for floats or [0..255] for integers).\n",
            "Clipping input data to the valid range for imshow with RGB data ([0..1] for floats or [0..255] for integers).\n",
            "Clipping input data to the valid range for imshow with RGB data ([0..1] for floats or [0..255] for integers).\n",
            "Clipping input data to the valid range for imshow with RGB data ([0..1] for floats or [0..255] for integers).\n",
            "Clipping input data to the valid range for imshow with RGB data ([0..1] for floats or [0..255] for integers).\n",
            "Clipping input data to the valid range for imshow with RGB data ([0..1] for floats or [0..255] for integers).\n",
            "Clipping input data to the valid range for imshow with RGB data ([0..1] for floats or [0..255] for integers).\n",
            "Clipping input data to the valid range for imshow with RGB data ([0..1] for floats or [0..255] for integers).\n",
            "Clipping input data to the valid range for imshow with RGB data ([0..1] for floats or [0..255] for integers).\n",
            "Clipping input data to the valid range for imshow with RGB data ([0..1] for floats or [0..255] for integers).\n",
            "Clipping input data to the valid range for imshow with RGB data ([0..1] for floats or [0..255] for integers).\n",
            "Clipping input data to the valid range for imshow with RGB data ([0..1] for floats or [0..255] for integers).\n",
            "Clipping input data to the valid range for imshow with RGB data ([0..1] for floats or [0..255] for integers).\n",
            "Clipping input data to the valid range for imshow with RGB data ([0..1] for floats or [0..255] for integers).\n",
            "Clipping input data to the valid range for imshow with RGB data ([0..1] for floats or [0..255] for integers).\n",
            "Clipping input data to the valid range for imshow with RGB data ([0..1] for floats or [0..255] for integers).\n",
            "Clipping input data to the valid range for imshow with RGB data ([0..1] for floats or [0..255] for integers).\n",
            "Clipping input data to the valid range for imshow with RGB data ([0..1] for floats or [0..255] for integers).\n",
            "Clipping input data to the valid range for imshow with RGB data ([0..1] for floats or [0..255] for integers).\n",
            "Clipping input data to the valid range for imshow with RGB data ([0..1] for floats or [0..255] for integers).\n",
            "Clipping input data to the valid range for imshow with RGB data ([0..1] for floats or [0..255] for integers).\n",
            "Clipping input data to the valid range for imshow with RGB data ([0..1] for floats or [0..255] for integers).\n",
            "Clipping input data to the valid range for imshow with RGB data ([0..1] for floats or [0..255] for integers).\n",
            "Clipping input data to the valid range for imshow with RGB data ([0..1] for floats or [0..255] for integers).\n",
            "Clipping input data to the valid range for imshow with RGB data ([0..1] for floats or [0..255] for integers).\n",
            "Clipping input data to the valid range for imshow with RGB data ([0..1] for floats or [0..255] for integers).\n",
            "Clipping input data to the valid range for imshow with RGB data ([0..1] for floats or [0..255] for integers).\n",
            "Clipping input data to the valid range for imshow with RGB data ([0..1] for floats or [0..255] for integers).\n",
            "Clipping input data to the valid range for imshow with RGB data ([0..1] for floats or [0..255] for integers).\n",
            "Clipping input data to the valid range for imshow with RGB data ([0..1] for floats or [0..255] for integers).\n",
            "Clipping input data to the valid range for imshow with RGB data ([0..1] for floats or [0..255] for integers).\n",
            "Clipping input data to the valid range for imshow with RGB data ([0..1] for floats or [0..255] for integers).\n",
            "Clipping input data to the valid range for imshow with RGB data ([0..1] for floats or [0..255] for integers).\n",
            "Clipping input data to the valid range for imshow with RGB data ([0..1] for floats or [0..255] for integers).\n",
            "Clipping input data to the valid range for imshow with RGB data ([0..1] for floats or [0..255] for integers).\n",
            "Clipping input data to the valid range for imshow with RGB data ([0..1] for floats or [0..255] for integers).\n",
            "Clipping input data to the valid range for imshow with RGB data ([0..1] for floats or [0..255] for integers).\n",
            "Clipping input data to the valid range for imshow with RGB data ([0..1] for floats or [0..255] for integers).\n",
            "Clipping input data to the valid range for imshow with RGB data ([0..1] for floats or [0..255] for integers).\n",
            "Clipping input data to the valid range for imshow with RGB data ([0..1] for floats or [0..255] for integers).\n",
            "Clipping input data to the valid range for imshow with RGB data ([0..1] for floats or [0..255] for integers).\n",
            "Clipping input data to the valid range for imshow with RGB data ([0..1] for floats or [0..255] for integers).\n",
            "Clipping input data to the valid range for imshow with RGB data ([0..1] for floats or [0..255] for integers).\n",
            "Clipping input data to the valid range for imshow with RGB data ([0..1] for floats or [0..255] for integers).\n",
            "Clipping input data to the valid range for imshow with RGB data ([0..1] for floats or [0..255] for integers).\n",
            "Clipping input data to the valid range for imshow with RGB data ([0..1] for floats or [0..255] for integers).\n",
            "Clipping input data to the valid range for imshow with RGB data ([0..1] for floats or [0..255] for integers).\n",
            "Clipping input data to the valid range for imshow with RGB data ([0..1] for floats or [0..255] for integers).\n",
            "Clipping input data to the valid range for imshow with RGB data ([0..1] for floats or [0..255] for integers).\n",
            "Clipping input data to the valid range for imshow with RGB data ([0..1] for floats or [0..255] for integers).\n",
            "Clipping input data to the valid range for imshow with RGB data ([0..1] for floats or [0..255] for integers).\n",
            "Clipping input data to the valid range for imshow with RGB data ([0..1] for floats or [0..255] for integers).\n",
            "Clipping input data to the valid range for imshow with RGB data ([0..1] for floats or [0..255] for integers).\n",
            "Clipping input data to the valid range for imshow with RGB data ([0..1] for floats or [0..255] for integers).\n",
            "Clipping input data to the valid range for imshow with RGB data ([0..1] for floats or [0..255] for integers).\n",
            "Clipping input data to the valid range for imshow with RGB data ([0..1] for floats or [0..255] for integers).\n",
            "Clipping input data to the valid range for imshow with RGB data ([0..1] for floats or [0..255] for integers).\n",
            "Clipping input data to the valid range for imshow with RGB data ([0..1] for floats or [0..255] for integers).\n",
            "Clipping input data to the valid range for imshow with RGB data ([0..1] for floats or [0..255] for integers).\n",
            "Clipping input data to the valid range for imshow with RGB data ([0..1] for floats or [0..255] for integers).\n",
            "Clipping input data to the valid range for imshow with RGB data ([0..1] for floats or [0..255] for integers).\n",
            "Clipping input data to the valid range for imshow with RGB data ([0..1] for floats or [0..255] for integers).\n",
            "Clipping input data to the valid range for imshow with RGB data ([0..1] for floats or [0..255] for integers).\n",
            "Clipping input data to the valid range for imshow with RGB data ([0..1] for floats or [0..255] for integers).\n",
            "Clipping input data to the valid range for imshow with RGB data ([0..1] for floats or [0..255] for integers).\n",
            "Clipping input data to the valid range for imshow with RGB data ([0..1] for floats or [0..255] for integers).\n",
            "Clipping input data to the valid range for imshow with RGB data ([0..1] for floats or [0..255] for integers).\n",
            "Clipping input data to the valid range for imshow with RGB data ([0..1] for floats or [0..255] for integers).\n",
            "Clipping input data to the valid range for imshow with RGB data ([0..1] for floats or [0..255] for integers).\n",
            "Clipping input data to the valid range for imshow with RGB data ([0..1] for floats or [0..255] for integers).\n",
            "Clipping input data to the valid range for imshow with RGB data ([0..1] for floats or [0..255] for integers).\n",
            "Clipping input data to the valid range for imshow with RGB data ([0..1] for floats or [0..255] for integers).\n",
            "Clipping input data to the valid range for imshow with RGB data ([0..1] for floats or [0..255] for integers).\n"
          ],
          "name": "stderr"
        },
        {
          "output_type": "display_data",
          "data": {
            "image/png": "[encoded data removed]",
            "text/plain": [
              "<Figure size 864x180 with 100 Axes>"
            ]
          },
          "metadata": {
            "tags": []
          }
        },
        {
          "output_type": "stream",
          "text": [
            "time: 2.93 s\n"
          ],
          "name": "stdout"
        }
      ]
    },
    {
      "cell_type": "code",
      "metadata": {
        "id": "4Bo-eyWBxn9T",
        "colab": {
          "base_uri": "https://localhost:8080/"
        },
        "outputId": "c90c83b7-e183-4579-e09c-356094f78918"
      },
      "source": [
        "images = images.to(device)\n",
        "labels = labels.to(device)\n",
        "outputs = model(images)"
      ],
      "execution_count": 17,
      "outputs": [
        {
          "output_type": "stream",
          "text": [
            "time: 9.95 ms\n"
          ],
          "name": "stdout"
        }
      ]
    },
    {
      "cell_type": "code",
      "metadata": {
        "id": "Wv_wo9I6yIMW",
        "colab": {
          "base_uri": "https://localhost:8080/"
        },
        "outputId": "c5bd3f0e-30ac-41ec-ca37-d98b8ee489d5"
      },
      "source": [
        "sm = nn.Softmax(dim=1)\n",
        "sm_outputs = sm(outputs)"
      ],
      "execution_count": 18,
      "outputs": [
        {
          "output_type": "stream",
          "text": [
            "time: 1.7 ms\n"
          ],
          "name": "stdout"
        }
      ]
    },
    {
      "cell_type": "code",
      "metadata": {
        "id": "DfhHhpi2yO9q",
        "colab": {
          "base_uri": "https://localhost:8080/"
        },
        "outputId": "e4379916-0cdd-48d5-f6b1-7eea2fc7ea47"
      },
      "source": [
        "probs, index = torch.max(sm_outputs, dim=1)\n",
        "\n",
        "for p, i in zip(probs, index):\n",
        "    print('{0} - {1:.4f}'.format(classes[i], p))"
      ],
      "execution_count": 19,
      "outputs": [
        {
          "output_type": "stream",
          "text": [
            "cat - 0.9998\n",
            "ship - 1.0000\n",
            "car - 0.8988\n",
            "plane - 0.6571\n",
            "frog - 0.9996\n",
            "frog - 0.9988\n",
            "car - 0.7004\n",
            "bird - 0.3956\n",
            "cat - 0.9998\n",
            "car - 0.9400\n",
            "plane - 0.9995\n",
            "truck - 0.9996\n",
            "dog - 0.9797\n",
            "horse - 0.9999\n",
            "truck - 1.0000\n",
            "ship - 0.9945\n",
            "dog - 1.0000\n",
            "horse - 1.0000\n",
            "ship - 0.9999\n",
            "frog - 0.9997\n",
            "dog - 0.4496\n",
            "plane - 0.9938\n",
            "deer - 0.9978\n",
            "truck - 0.9995\n",
            "cat - 0.3791\n",
            "bird - 0.9649\n",
            "deer - 0.8650\n",
            "plane - 0.9999\n",
            "truck - 0.9988\n",
            "frog - 1.0000\n",
            "cat - 0.6026\n",
            "dog - 1.0000\n",
            "deer - 0.9911\n",
            "dog - 0.9981\n",
            "truck - 1.0000\n",
            "bird - 0.9141\n",
            "deer - 0.9941\n",
            "car - 0.9595\n",
            "truck - 0.9998\n",
            "dog - 1.0000\n",
            "deer - 0.9937\n",
            "frog - 0.9999\n",
            "cat - 0.6813\n",
            "frog - 0.9996\n",
            "plane - 0.9998\n",
            "truck - 1.0000\n",
            "cat - 0.9853\n",
            "truck - 0.7941\n",
            "horse - 0.9998\n",
            "frog - 0.9955\n",
            "truck - 0.9999\n",
            "ship - 0.9999\n",
            "cat - 0.4402\n",
            "cat - 0.9875\n",
            "ship - 0.9998\n",
            "ship - 0.9999\n",
            "horse - 0.9949\n",
            "cat - 0.8784\n",
            "horse - 0.7116\n",
            "cat - 0.8938\n",
            "horse - 0.9999\n",
            "cat - 0.9480\n",
            "frog - 0.7071\n",
            "cat - 0.8754\n",
            "frog - 0.9969\n",
            "bird - 0.9997\n",
            "car - 0.9838\n",
            "bird - 0.9998\n",
            "cat - 0.9950\n",
            "horse - 0.9653\n",
            "bird - 0.9859\n",
            "frog - 0.9999\n",
            "ship - 0.9998\n",
            "ship - 0.9867\n",
            "plane - 1.0000\n",
            "bird - 1.0000\n",
            "truck - 0.9993\n",
            "cat - 0.9665\n",
            "cat - 0.9043\n",
            "ship - 1.0000\n",
            "ship - 1.0000\n",
            "car - 0.8916\n",
            "car - 1.0000\n",
            "horse - 0.9998\n",
            "bird - 0.9938\n",
            "dog - 0.5487\n",
            "bird - 0.9061\n",
            "horse - 0.9467\n",
            "ship - 0.9999\n",
            "truck - 0.9979\n",
            "plane - 1.0000\n",
            "cat - 0.8758\n",
            "ship - 0.9999\n",
            "frog - 1.0000\n",
            "deer - 0.9970\n",
            "cat - 0.4195\n",
            "frog - 0.9969\n",
            "plane - 0.9979\n",
            "plane - 0.9999\n",
            "horse - 1.0000\n",
            "time: 23.3 ms\n"
          ],
          "name": "stdout"
        }
      ]
    },
    {
      "cell_type": "code",
      "metadata": {
        "id": "RiZftaxHyShZ",
        "colab": {
          "base_uri": "https://localhost:8080/"
        },
        "outputId": "72d2dea8-3741-46ff-d229-b599bed55a17"
      },
      "source": [
        "total_correct = 0\n",
        "total_images = 0\n",
        "confusion_matrix = np.zeros([10,10], int)\n",
        "with torch.no_grad():\n",
        "    for data in test_loader:\n",
        "        images, labels = data\n",
        "        images = images.to(device)\n",
        "        labels = labels.to(device)\n",
        "        outputs = model(images)\n",
        "        _, predicted = torch.max(outputs.data, 1)\n",
        "        total_images += labels.size(0)\n",
        "        total_correct += (predicted == labels).sum().item()\n",
        "        for i, l in enumerate(labels):\n",
        "            confusion_matrix[l.item(), predicted[i].item()] += 1 \n",
        "\n",
        "model_accuracy = total_correct / total_images * 100\n",
        "print('Model accuracy on {0} test images: {1:.2f}%'.format(total_images, model_accuracy))"
      ],
      "execution_count": 20,
      "outputs": [
        {
          "output_type": "stream",
          "text": [
            "Model accuracy on 10000 test images: 87.42%\n",
            "time: 3.17 s\n"
          ],
          "name": "stdout"
        }
      ]
    },
    {
      "cell_type": "code",
      "metadata": {
        "id": "6v5gH5D6y0sZ",
        "colab": {
          "base_uri": "https://localhost:8080/"
        },
        "outputId": "b85592fb-8111-43e5-d2a7-bf10846664ee"
      },
      "source": [
        "print('{0:10s} - {1}'.format('Category','Accuracy'))\n",
        "for i, r in enumerate(confusion_matrix):\n",
        "    print('{0:10s} - {1:.1f}'.format(classes[i], r[i]/np.sum(r)*100))"
      ],
      "execution_count": 21,
      "outputs": [
        {
          "output_type": "stream",
          "text": [
            "Category   - Accuracy\n",
            "plane      - 89.1\n",
            "car        - 94.9\n",
            "bird       - 82.7\n",
            "cat        - 77.5\n",
            "deer       - 86.0\n",
            "dog        - 79.4\n",
            "frog       - 89.5\n",
            "horse      - 90.2\n",
            "ship       - 92.7\n",
            "truck      - 92.2\n",
            "time: 4.77 ms\n"
          ],
          "name": "stdout"
        }
      ]
    },
    {
      "cell_type": "code",
      "metadata": {
        "id": "UHszLmdNy5v_",
        "colab": {
          "base_uri": "https://localhost:8080/",
          "height": 514
        },
        "outputId": "413f75a8-eec3-4f4a-ae15-e4cf22396429"
      },
      "source": [
        "fig, ax = plt.subplots(1,1,figsize=(10,8))\n",
        "ax.matshow(confusion_matrix, aspect='auto', vmin=0, vmax=1000, cmap=plt.get_cmap('Blues'),)\n",
        "for (i, j), z in np.ndenumerate(confusion_matrix):\n",
        "    ax.text(j, i, '{:0.1f}'.format(z), ha='center', va='center',\n",
        "            bbox=dict(boxstyle='round', facecolor='white', edgecolor='0.3'))\n",
        "plt.ylabel('Actual Category')\n",
        "plt.yticks(range(10), classes)\n",
        "plt.xlabel('Predicted Category')\n",
        "plt.xticks(range(10), classes)\n",
        "plt.show()\n",
        "\n"
      ],
      "execution_count": 22,
      "outputs": [
        {
          "output_type": "display_data",
          "data": {
            "image/png": "[encoded data removed]",
            "text/plain": [
              "<Figure size 720x576 with 1 Axes>"
            ]
          },
          "metadata": {
            "tags": [],
            "needs_background": "light"
          }
        },
        {
          "output_type": "stream",
          "text": [
            "time: 424 ms\n"
          ],
          "name": "stdout"
        }
      ]
    },
    {
      "cell_type": "code",
      "metadata": {
        "id": "pZ5U1tkZ7ecu",
        "colab": {
          "base_uri": "https://localhost:8080/"
        },
        "outputId": "3c5e71ad-b361-47b4-85e4-40ade004b071"
      },
      "source": [
        "# Save the model checkpoint\n",
        "torch.save(model.state_dict(), 'resnet.ckpt')"
      ],
      "execution_count": 23,
      "outputs": [
        {
          "output_type": "stream",
          "text": [
            "time: 26 ms\n"
          ],
          "name": "stdout"
        }
      ]
    },
    {
      "cell_type": "code",
      "metadata": {
        "id": "2x-t3dD2-H5A",
        "colab": {
          "base_uri": "https://localhost:8080/"
        },
        "outputId": "5fb99030-f7fb-447b-bb57-d51443a02039"
      },
      "source": [
        "pytorch_total_params = sum(p.numel() for p in model.parameters())\n",
        "pytorch_total_params"
      ],
      "execution_count": 24,
      "outputs": [
        {
          "output_type": "execute_result",
          "data": {
            "text/plain": [
              "701466"
            ]
          },
          "metadata": {
            "tags": []
          },
          "execution_count": 24
        },
        {
          "output_type": "stream",
          "text": [
            "time: 4.33 ms\n"
          ],
          "name": "stdout"
        }
      ]
    }
  ]
}